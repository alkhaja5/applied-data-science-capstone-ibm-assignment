{
    "nbformat_minor": 1, 
    "cells": [
        {
            "source": "# Battle of Neighbourhoods - Week 1\n", 
            "cell_type": "markdown", 
            "metadata": {
                "collapsed": true
            }
        }, 
        {
            "source": "### 1.1 Description of the Problem", 
            "cell_type": "markdown", 
            "metadata": {}
        }, 
        {
            "source": "The population of Italy has grown considerably over the last decades. Dubai is very diverse. In Africa you can get variety of fresh food from supplies from Africa.\n\nThere are many fine restaurants in Africa \u2013 Asian, Middle Eastern, Latin and American restaurants, it is hard to find a good place to dine in.", 
            "cell_type": "markdown", 
            "metadata": {}
        }, 
        {
            "source": "### 1.2 Discussion of the Background", 
            "cell_type": "markdown", 
            "metadata": {}
        }, 
        {
            "source": "My client is a successful restaurant chain in Ghana; he is looking to expand operation into EUROP starting in Italy. His target is luxury restaurant Since Italy demography has many Regions, My client needs deeper insight from available data in other to decide where to establish first. This company spends a lot on research and provides customers with data insight into the ingredients used at restaurants.", 
            "cell_type": "markdown", 
            "metadata": {}
        }, 
        {
            "source": "", 
            "cell_type": "code", 
            "metadata": {}, 
            "outputs": [], 
            "execution_count": null
        }
    ], 
    "metadata": {
        "kernelspec": {
            "display_name": "Python 3.5", 
            "name": "python3", 
            "language": "python"
        }, 
        "language_info": {
            "mimetype": "text/x-python", 
            "nbconvert_exporter": "python", 
            "version": "3.5.5", 
            "name": "python", 
            "file_extension": ".py", 
            "pygments_lexer": "ipython3", 
            "codemirror_mode": {
                "version": 3, 
                "name": "ipython"
            }
        }
    }, 
    "nbformat": 4
}