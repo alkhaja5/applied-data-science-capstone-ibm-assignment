{
    "nbformat_minor": 1, 
    "cells": [
        {
            "source": "# Battle of Neighbourhoods - Week 1", 
            "cell_type": "markdown", 
            "metadata": {
                "collapsed": true
            }
        }, 
        {
            "source": "\n# Part 1: A description of the problem and a discussion of the background", 
            "cell_type": "markdown", 
            "metadata": {}
        }, 
        {
            "source": "> ### 1.1 Description of the Problem", 
            "cell_type": "markdown", 
            "metadata": {}
        }, 
        {
            "source": "The population of Italy has grown considerably over the last decades. Italy is very diverse. In Africa you can get variety of fresh food from supplies from Africa.\n \nThere are many fine restaurants in Africa \u2013 Asian, Middle Eastern, Latin and American restaurants, it is hard to find a good place to dine in.\n", 
            "cell_type": "markdown", 
            "metadata": {}
        }, 
        {
            "source": "> ### 1.2 Discussion of the Background", 
            "cell_type": "markdown", 
            "metadata": {}
        }, 
        {
            "source": "My client is a successful restaurant chain in Ghana; he is looking to expand operation into EUROP starting in Italy. His target is luxury restaurant\nSince Italy demography has many Regions, My client needs deeper insight from available data in other to decide where to establish first. This company spends a lot on research and provides customers with data insight into the ingredients used at restaurants.\n", 
            "cell_type": "markdown", 
            "metadata": {}
        }, 
        {
            "source": "# Part 2 - A description of the data and how it will be used to solve the problem", 
            "cell_type": "markdown", 
            "metadata": {}
        }, 
        {
            "source": "> ### 2.1 Description of Data", 
            "cell_type": "markdown", 
            "metadata": {}
        }, 
        {
            "source": "\nData will be from public data, Wikipedia and Foursquare.", 
            "cell_type": "markdown", 
            "metadata": {}
        }, 
        {
            "source": "Italy Area consists of many regions which has some specific popular areas < https://en.wikipedia.org/wiki/List_of_cities_in_Italy >", 
            "cell_type": "markdown", 
            "metadata": {}
        }, 
        {
            "source": "#### A sample of the web scrapped of the Wikipedia page ", 
            "cell_type": "markdown", 
            "metadata": {}
        }, 
        {
            "source": "from bs4 import BeautifulSoup\n\n\nimport numpy as np\n\n\nimport pandas as pd\npd.set_option('display.max_columns', None)\npd.set_option('display.max_rows', None)\n\n\nimport json\nprint('numpy, pandas, ..., imported...')\n\n!pip -q install geopy\n\nprint('geopy installed...')\n\nfrom geopy.geocoders import Nominatim\nprint('Nominatim imported...')\n\n\nimport requests\nprint('requests imported...')\n\n\nfrom pandas.io.json import json_normalize\nprint('json_normalize imported...')\n\n\nimport matplotlib.cm as cm\nimport matplotlib.colors as colors\nprint('matplotlib imported...')\n\n\nfrom sklearn.cluster import KMeans\nprint('Kmeans imported...')\n\n\n!pip -q install geocoder\nimport geocoder\n\n\nimport time\n\n\n!pip -q install folium\nprint('folium installed...')\nimport folium # map rendering library\nprint('folium imported...')\nprint('...Done')", 
            "cell_type": "code", 
            "metadata": {}, 
            "outputs": [
                {
                    "output_type": "stream", 
                    "name": "stdout", 
                    "text": "numpy, pandas, ..., imported...\ngeopy installed...\nNominatim imported...\nrequests imported...\njson_normalize imported...\nmatplotlib imported...\nKmeans imported...\nfolium installed...\nfolium imported...\n...Done\n"
                }
            ], 
            "execution_count": 165
        }, 
        {
            "source": "wikipedia_link = 'https://en.wikipedia.org/wiki/List_of_cities_in_Italy'\nheaders = {'User-Agent': 'Mozilla/5.0 (Windows NT 10.0; Win64; x64; rv:64.0) Gecko/20100101 Firefox/64.0'}\nwikipedia_page = requests.get(wikipedia_link, headers = headers)\nwikipedia_page", 
            "cell_type": "code", 
            "metadata": {}, 
            "outputs": [
                {
                    "output_type": "execute_result", 
                    "data": {
                        "text/plain": "<Response [200]>"
                    }, 
                    "execution_count": 166, 
                    "metadata": {}
                }
            ], 
            "execution_count": 166
        }, 
        {
            "source": "soup = BeautifulSoup(wikipedia_page.content, 'html.parser')\ntable = soup.find('table', {'class':'wikitable sortable'}).tbody\nrows = table.find_all('tr')\ncolumns = [i.text.replace('\\n', '')\n           for i in rows[0].find_all('th')]\ndf = pd.DataFrame(columns = columns)\ndf", 
            "cell_type": "code", 
            "metadata": {}, 
            "outputs": [
                {
                    "output_type": "execute_result", 
                    "data": {
                        "text/plain": "Empty DataFrame\nColumns: [Rank, City, 2011 Census, 2017 Estimate, Change, Region]\nIndex: []", 
                        "text/html": "<div>\n<style scoped>\n    .dataframe tbody tr th:only-of-type {\n        vertical-align: middle;\n    }\n\n    .dataframe tbody tr th {\n        vertical-align: top;\n    }\n\n    .dataframe thead th {\n        text-align: right;\n    }\n</style>\n<table border=\"1\" class=\"dataframe\">\n  <thead>\n    <tr style=\"text-align: right;\">\n      <th></th>\n      <th>Rank</th>\n      <th>City</th>\n      <th>2011 Census</th>\n      <th>2017 Estimate</th>\n      <th>Change</th>\n      <th>Region</th>\n    </tr>\n  </thead>\n  <tbody>\n  </tbody>\n</table>\n</div>"
                    }, 
                    "execution_count": 167, 
                    "metadata": {}
                }
            ], 
            "execution_count": 167
        }, 
        {
            "source": "for i in range(1, len(rows)):\n    tds = rows[i].find_all('td')\n    \n    \n    if len(tds) == 7:\n        values = [tds[0].text, tds[1].text, tds[2].text.replace('\\n', ''.replace('\\xa0','')), tds[3].text, tds[4].text.replace('\\n', ''.replace('\\xa0','')), tds[5].text.replace('\\n', ''.replace('\\xa0','')), tds[6].text.replace('\\n', ''.replace('\\xa0',''))]\n    else:\n        values = [td.text.replace('\\n', '').replace('\\xa0','') for td in tds]\n        \n        df = df.append(pd.Series(values, index = columns), ignore_index = True)\n\n        df", 
            "cell_type": "code", 
            "metadata": {}, 
            "outputs": [], 
            "execution_count": 168
        }, 
        {
            "source": "df.head(5)", 
            "cell_type": "code", 
            "metadata": {}, 
            "outputs": [
                {
                    "output_type": "execute_result", 
                    "data": {
                        "text/plain": "  Rank     City 2011 Census 2017 Estimate  Change    Region\n0    1     Rome   2,617,175     2,872,800  +9.77%     Lazio\n1    2    Milan   1,242,123     1,366,180  +9.99%  Lombardy\n2    3   Naples     962,003       966,144  +0.43%  Campania\n3    4    Turin     872,367       882,523  +1.16%  Piedmont\n4    5  Palermo     657,651       668,405  +1.64%    Sicily", 
                        "text/html": "<div>\n<style scoped>\n    .dataframe tbody tr th:only-of-type {\n        vertical-align: middle;\n    }\n\n    .dataframe tbody tr th {\n        vertical-align: top;\n    }\n\n    .dataframe thead th {\n        text-align: right;\n    }\n</style>\n<table border=\"1\" class=\"dataframe\">\n  <thead>\n    <tr style=\"text-align: right;\">\n      <th></th>\n      <th>Rank</th>\n      <th>City</th>\n      <th>2011 Census</th>\n      <th>2017 Estimate</th>\n      <th>Change</th>\n      <th>Region</th>\n    </tr>\n  </thead>\n  <tbody>\n    <tr>\n      <th>0</th>\n      <td>1</td>\n      <td>Rome</td>\n      <td>2,617,175</td>\n      <td>2,872,800</td>\n      <td>+9.77%</td>\n      <td>Lazio</td>\n    </tr>\n    <tr>\n      <th>1</th>\n      <td>2</td>\n      <td>Milan</td>\n      <td>1,242,123</td>\n      <td>1,366,180</td>\n      <td>+9.99%</td>\n      <td>Lombardy</td>\n    </tr>\n    <tr>\n      <th>2</th>\n      <td>3</td>\n      <td>Naples</td>\n      <td>962,003</td>\n      <td>966,144</td>\n      <td>+0.43%</td>\n      <td>Campania</td>\n    </tr>\n    <tr>\n      <th>3</th>\n      <td>4</td>\n      <td>Turin</td>\n      <td>872,367</td>\n      <td>882,523</td>\n      <td>+1.16%</td>\n      <td>Piedmont</td>\n    </tr>\n    <tr>\n      <th>4</th>\n      <td>5</td>\n      <td>Palermo</td>\n      <td>657,651</td>\n      <td>668,405</td>\n      <td>+1.64%</td>\n      <td>Sicily</td>\n    </tr>\n  </tbody>\n</table>\n</div>"
                    }, 
                    "execution_count": 169, 
                    "metadata": {}
                }
            ], 
            "execution_count": 169
        }, 
        {
            "source": "df['City'] = df['City'].map(lambda x: x.rstrip(']').rstrip('0123456789').rstrip('['))", 
            "cell_type": "code", 
            "metadata": {}, 
            "outputs": [], 
            "execution_count": 170
        }, 
        {
            "source": "df0 = df.drop('City', axis=1).join(df['City'].str.split(',', expand=True).stack().reset_index(level=1, drop=True).rename('City'))", 
            "cell_type": "code", 
            "metadata": {}, 
            "outputs": [], 
            "execution_count": 171
        }, 
        {
            "source": "df1 = df0[['Rank', 'City', 'Region']].reset_index(drop=True)", 
            "cell_type": "code", 
            "metadata": {}, 
            "outputs": [], 
            "execution_count": 172
        }, 
        {
            "source": "df1.head(5)", 
            "cell_type": "code", 
            "metadata": {}, 
            "outputs": [
                {
                    "output_type": "execute_result", 
                    "data": {
                        "text/plain": "  Rank     City    Region\n0    1     Rome     Lazio\n1    2    Milan  Lombardy\n2    3   Naples  Campania\n3    4    Turin  Piedmont\n4    5  Palermo    Sicily", 
                        "text/html": "<div>\n<style scoped>\n    .dataframe tbody tr th:only-of-type {\n        vertical-align: middle;\n    }\n\n    .dataframe tbody tr th {\n        vertical-align: top;\n    }\n\n    .dataframe thead th {\n        text-align: right;\n    }\n</style>\n<table border=\"1\" class=\"dataframe\">\n  <thead>\n    <tr style=\"text-align: right;\">\n      <th></th>\n      <th>Rank</th>\n      <th>City</th>\n      <th>Region</th>\n    </tr>\n  </thead>\n  <tbody>\n    <tr>\n      <th>0</th>\n      <td>1</td>\n      <td>Rome</td>\n      <td>Lazio</td>\n    </tr>\n    <tr>\n      <th>1</th>\n      <td>2</td>\n      <td>Milan</td>\n      <td>Lombardy</td>\n    </tr>\n    <tr>\n      <th>2</th>\n      <td>3</td>\n      <td>Naples</td>\n      <td>Campania</td>\n    </tr>\n    <tr>\n      <th>3</th>\n      <td>4</td>\n      <td>Turin</td>\n      <td>Piedmont</td>\n    </tr>\n    <tr>\n      <th>4</th>\n      <td>5</td>\n      <td>Palermo</td>\n      <td>Sicily</td>\n    </tr>\n  </tbody>\n</table>\n</div>"
                    }, 
                    "execution_count": 173, 
                    "metadata": {}
                }
            ], 
            "execution_count": 173
        }, 
        {
            "source": "df2 = df1", 
            "cell_type": "code", 
            "metadata": {}, 
            "outputs": [], 
            "execution_count": 174
        }, 
        {
            "source": "df21 = df2[df2['Region'].str.contains('Lazio')]", 
            "cell_type": "code", 
            "metadata": {}, 
            "outputs": [], 
            "execution_count": 175
        }, 
        {
            "source": "df21.head(10)", 
            "cell_type": "code", 
            "metadata": {}, 
            "outputs": [
                {
                    "output_type": "execute_result", 
                    "data": {
                        "text/plain": "    Rank                 City Region\n0      1                 Rome  Lazio\n31    32               Latina  Lazio\n57    58  Guidonia Montecelio  Lazio\n69    70            Fiumicino  Lazio\n75    76              Aprilia  Lazio\n87    88              Viterbo  Lazio\n94    95              Pomezia  Lazio\n114  115               Tivoli  Lazio\n120  121                Anzio  Lazio\n129  130             Velletri  Lazio", 
                        "text/html": "<div>\n<style scoped>\n    .dataframe tbody tr th:only-of-type {\n        vertical-align: middle;\n    }\n\n    .dataframe tbody tr th {\n        vertical-align: top;\n    }\n\n    .dataframe thead th {\n        text-align: right;\n    }\n</style>\n<table border=\"1\" class=\"dataframe\">\n  <thead>\n    <tr style=\"text-align: right;\">\n      <th></th>\n      <th>Rank</th>\n      <th>City</th>\n      <th>Region</th>\n    </tr>\n  </thead>\n  <tbody>\n    <tr>\n      <th>0</th>\n      <td>1</td>\n      <td>Rome</td>\n      <td>Lazio</td>\n    </tr>\n    <tr>\n      <th>31</th>\n      <td>32</td>\n      <td>Latina</td>\n      <td>Lazio</td>\n    </tr>\n    <tr>\n      <th>57</th>\n      <td>58</td>\n      <td>Guidonia Montecelio</td>\n      <td>Lazio</td>\n    </tr>\n    <tr>\n      <th>69</th>\n      <td>70</td>\n      <td>Fiumicino</td>\n      <td>Lazio</td>\n    </tr>\n    <tr>\n      <th>75</th>\n      <td>76</td>\n      <td>Aprilia</td>\n      <td>Lazio</td>\n    </tr>\n    <tr>\n      <th>87</th>\n      <td>88</td>\n      <td>Viterbo</td>\n      <td>Lazio</td>\n    </tr>\n    <tr>\n      <th>94</th>\n      <td>95</td>\n      <td>Pomezia</td>\n      <td>Lazio</td>\n    </tr>\n    <tr>\n      <th>114</th>\n      <td>115</td>\n      <td>Tivoli</td>\n      <td>Lazio</td>\n    </tr>\n    <tr>\n      <th>120</th>\n      <td>121</td>\n      <td>Anzio</td>\n      <td>Lazio</td>\n    </tr>\n    <tr>\n      <th>129</th>\n      <td>130</td>\n      <td>Velletri</td>\n      <td>Lazio</td>\n    </tr>\n  </tbody>\n</table>\n</div>"
                    }, 
                    "execution_count": 176, 
                    "metadata": {}
                }
            ], 
            "execution_count": 176
        }, 
        {
            "source": "df3 = df21[['Rank', 'City', 'Region']].reset_index(drop=True)", 
            "cell_type": "code", 
            "metadata": {}, 
            "outputs": [], 
            "execution_count": 177
        }, 
        {
            "source": "df_Lazio = df3", 
            "cell_type": "code", 
            "metadata": {}, 
            "outputs": [], 
            "execution_count": 178
        }, 
        {
            "source": "df21.shape", 
            "cell_type": "code", 
            "metadata": {}, 
            "outputs": [
                {
                    "output_type": "execute_result", 
                    "data": {
                        "text/plain": "(11, 3)"
                    }, 
                    "execution_count": 179, 
                    "metadata": {}
                }
            ], 
            "execution_count": 179
        }, 
        {
            "source": "### 2.1.2 Dataset 2:", 
            "cell_type": "markdown", 
            "metadata": {}
        }, 
        {
            "source": "In obtaining the location data of the locations, the Geocoder package is used with the arcgis_geocoder to obtain the latitude and longitude of the needed locations.", 
            "cell_type": "markdown", 
            "metadata": {}
        }, 
        {
            "source": "'''Geocoder starts here'''\n'''Defining a function to use --> get_latlng()'''\ndef get_latlng(arcgis_geocoder):\n    \n   \n    lat_lng_coords = None\n    \n   \n    \n    while(lat_lng_coords is None):\n        g = geocoder.arcgis('{}, Lazio, Italy'.format(arcgis_geocoder))\n        lat_lng_coords = g.latlng\n    return lat_lng_coords\n'''Geocoder ends here'''", 
            "cell_type": "code", 
            "metadata": {
                "scrolled": true
            }, 
            "outputs": [
                {
                    "output_type": "execute_result", 
                    "data": {
                        "text/plain": "'Geocoder ends here'"
                    }, 
                    "execution_count": 180, 
                    "metadata": {}
                }
            ], 
            "execution_count": 180
        }, 
        {
            "source": "City_codes = df['City']    \ncoordinates = [get_latlng(City_code) for City_code in City_codes.tolist()]", 
            "cell_type": "code", 
            "metadata": {}, 
            "outputs": [], 
            "execution_count": null
        }, 
        {
            "source": "df_Lazio_loc = df_Lazio\n\ndf_Lazio_coordinates = pd.DataFrame(coordinates, columns = ['Latitude', 'Longitude'])\ndf_Lazio_loc['Latitude'] = df_Lazio_coordinates['Latitude']\ndf_Lazio_loc['Longitude'] = df_Lazio_coordinates['Longitude']", 
            "cell_type": "code", 
            "metadata": {}, 
            "outputs": [], 
            "execution_count": null
        }, 
        {
            "source": "## Testing Sample for Rome", 
            "cell_type": "markdown", 
            "metadata": {}
        }, 
        {
            "source": "sample = get_latlng('Rome')\nsample", 
            "cell_type": "code", 
            "metadata": {}, 
            "outputs": [], 
            "execution_count": null
        }, 
        {
            "source": "## Reverse geocoding this, using the geocodefarm geocoder, gives the following:", 
            "cell_type": "markdown", 
            "metadata": {}
        }, 
        {
            "source": "gg = geocoder.geocodefarm(sample, method = 'reverse')\ngg", 
            "cell_type": "code", 
            "metadata": {}, 
            "outputs": [], 
            "execution_count": null
        }, 
        {
            "source": "## Applying the function to find Latitude and Longitude", 
            "cell_type": "markdown", 
            "metadata": {}
        }, 
        {
            "source": "start = time.time()\n\nCity_codes = df_Lazio['Region']    \ncoordinates = [get_latlng(City_code) for City_code in City_codes.tolist()]\n\nend = time.time()\nprint(\"Time of execution: \", end - start, \"seconds\")", 
            "cell_type": "code", 
            "metadata": {}, 
            "outputs": [], 
            "execution_count": null
        }, 
        {
            "source": "## Then we proceed to store the location data - latitude and longitude as follows. ", 
            "cell_type": "markdown", 
            "metadata": {}
        }, 
        {
            "source": "df_se_loc = df_Lazio\n\n\ndf_se_coordinates = pd.DataFrame(coordinates, columns = ['Latitude', 'Longitude'])\ndf_se_loc['Latitude'] = df_se_coordinates['Latitude']\ndf_se_loc['Longitude'] = df_se_coordinates['Longitude']", 
            "cell_type": "code", 
            "metadata": {}, 
            "outputs": [], 
            "execution_count": null
        }, 
        {
            "source": "df_Lazio_loc.head()", 
            "cell_type": "code", 
            "metadata": {}, 
            "outputs": [], 
            "execution_count": null
        }, 
        {
            "source": "df_Lazio_loc.to_csv('SELazioLocationsCoordinates.csv', index = False)", 
            "cell_type": "code", 
            "metadata": {}, 
            "outputs": [], 
            "execution_count": null
        }, 
        {
            "source": "# 3 Methodology", 
            "cell_type": "markdown", 
            "metadata": {}
        }, 
        {
            "source": "This section represents the main component of the report where the data is gathered, prepared for analysis. The tools described are used here and the Notebook cells indicates the execution of steps.", 
            "cell_type": "markdown", 
            "metadata": {}
        }, 
        {
            "source": "### 3.1 Data Exploration\n", 
            "cell_type": "markdown", 
            "metadata": {}
        }, 
        {
            "source": "#### 3.1.1 Single Neighbourhood", 
            "cell_type": "markdown", 
            "metadata": {}
        }, 
        {
            "source": "La_df = df_Lazio_loc.reset_index().drop('index', axis = 1)", 
            "cell_type": "code", 
            "metadata": {}, 
            "outputs": [], 
            "execution_count": null
        }, 
        {
            "source": "La_df.shape", 
            "cell_type": "code", 
            "metadata": {}, 
            "outputs": [], 
            "execution_count": null
        }, 
        {
            "source": "La_df", 
            "cell_type": "code", 
            "metadata": {}, 
            "outputs": [], 
            "execution_count": null
        }, 
        {
            "source": "La_df.loc[La_df['City'] == 'Rome']", 
            "cell_type": "code", 
            "metadata": {}, 
            "outputs": [], 
            "execution_count": null
        }, 
        {
            "source": "Let's use Rome with the index location 0.", 
            "cell_type": "markdown", 
            "metadata": {}
        }, 
        {
            "source": "La_df.loc[0, 'City']", 
            "cell_type": "code", 
            "metadata": {}, 
            "outputs": [], 
            "execution_count": null
        }, 
        {
            "source": "Rome_lat = La_df.loc[0, 'Latitude']\nRome_long = La_df.loc[0, 'Longitude']\nRome_Cit = La_df.loc[0, 'City']\nRome_Region = La_df.loc[0, 'Region']\n\nprint('The latitude and longitude values of {} with Region {}, are {}, {}.'.format(Rome_Cit,\n                                                                                         Rome_Region,\n                                                                                         Rome_lat,\n                                                                                       Rome_long))", 
            "cell_type": "code", 
            "metadata": {}, 
            "outputs": [], 
            "execution_count": null
        }, 
        {
            "source": "### METHODOLOY EXECUTION - Mapping Data", 
            "cell_type": "markdown", 
            "metadata": {}
        }, 
        {
            "source": "import json\nprint('numpy, pandas, ..., imported...')\n\nfrom pandas.io.json import json_normalize\nprint('json_normalize imported...')\n\n", 
            "cell_type": "code", 
            "metadata": {}, 
            "outputs": [], 
            "execution_count": null
        }, 
        {
            "source": "address = 'Lazio, Italy'\ngeolocator = Nominatim()\nlocation = geolocator.geocode(address)\nlatitude = location.latitude\nlongitude = location.longitude\nprint('The geograpical coordinate of Italy home are {}, {}.'.format(latitude, longitude))", 
            "cell_type": "code", 
            "metadata": {}, 
            "outputs": [], 
            "execution_count": null
        }, 
        {
            "source": "neighborhood_latitude=41.9808038\nneighborhood_longitude=12.7662312", 
            "cell_type": "code", 
            "metadata": {}, 
            "outputs": [], 
            "execution_count": null
        }, 
        {
            "source": "explore the top 100 venues that are within a 2000 metres radius of Lazio.\nAnd then, let's create the GET request URL, and then the url is named.", 
            "cell_type": "markdown", 
            "metadata": {}
        }, 
        {
            "source": "CLIENT_ID = 'FL1GDNSXKBRH2XQ4KIZP2ACOZQ0TQRG0LVFZZNJSY4BTA452'\nCLIENT_SECRET = 'YPV5PQBM5G4KSKXKY2XGRSIFM4O2V5N1LKALCGIMFDTZYAD0' \nVERSION = '20190416'\nprint('Your credentails:')\nprint('CLIENT_ID: ' + CLIENT_ID)\nprint('CLIENT_SECRET:' + CLIENT_SECRET)", 
            "cell_type": "code", 
            "metadata": {}, 
            "outputs": [], 
            "execution_count": null
        }, 
        {
            "source": "LIMIT = 100 # limit of number of venues returned by Foursquare API\nradius = 2000 # define radius\nurl = 'https://api.foursquare.com/v2/venues/explore?&client_id={}&client_secret={}&v={}&ll={},{}&radius={}&limit={}'.format(\n    CLIENT_ID, \n    CLIENT_SECRET, \n    VERSION, \n    Rome_lat, \n    Rome_long, \n    radius, \n    LIMIT)\n\n# displays URL\nurl", 
            "cell_type": "code", 
            "metadata": {
                "scrolled": true
            }, 
            "outputs": [], 
            "execution_count": null
        }, 
        {
            "source": "results = requests.get(url).json()\nresults", 
            "cell_type": "code", 
            "metadata": {}, 
            "outputs": [], 
            "execution_count": null
        }, 
        {
            "source": "From the results, the necessary information needs to be obtained from items key. To do this, the get_category_type function is used from the Foursquare lab.", 
            "cell_type": "markdown", 
            "metadata": {}
        }, 
        {
            "source": "def get_category_type(row):\n    try:\n        categories_list = row['categories']\n    except:\n        categories_list = row['venue.categories']\n        \n    if len(categories_list) == 0:\n        return None\n    else:\n        return categories_list[0]['name']", 
            "cell_type": "code", 
            "metadata": {}, 
            "outputs": [], 
            "execution_count": null
        }, 
        {
            "source": "#### The result is then cleaned up from json to a structured pandas dataframe as shown below:", 
            "cell_type": "markdown", 
            "metadata": {}
        }, 
        {
            "source": "venues = results['response']['groups'][0]['items']\n    \nnearby_venues = json_normalize(venues) \n\n\nfiltered_columns = ['venue.name', 'venue.categories', 'venue.location.lat', 'venue.location.lng']\nnearby_venues =nearby_venues.loc[:, filtered_columns]\n\n\nnearby_venues['venue.categories'] = nearby_venues.apply(get_category_type, axis=1)\n\n\nnearby_venues.columns = [col.split(\".\")[-1] for col in nearby_venues.columns]", 
            "cell_type": "code", 
            "metadata": {}, 
            "outputs": [], 
            "execution_count": null
        }, 
        {
            "source": "nearby_venues", 
            "cell_type": "code", 
            "metadata": {}, 
            "outputs": [], 
            "execution_count": null
        }, 
        {
            "source": "nearby_venues_Rome_unique = nearby_venues['categories'].value_counts().to_frame(name='Count')", 
            "cell_type": "code", 
            "metadata": {}, 
            "outputs": [], 
            "execution_count": null
        }, 
        {
            "source": "nearby_venues_Rome_unique.head(5)", 
            "cell_type": "code", 
            "metadata": {}, 
            "outputs": [], 
            "execution_count": null
        }, 
        {
            "source": "Interestingly, even though there are restaurants are the Rome area, they are not even in the top 5 venues. It should be noted that since we are limited by data availability, our perspectives will be on what we have.", 
            "cell_type": "markdown", 
            "metadata": {}
        }, 
        {
            "source": "print('{} venues were returned by Foursquare.'.format(nearby_venues.shape[0]))", 
            "cell_type": "code", 
            "metadata": {}, 
            "outputs": [], 
            "execution_count": null
        }, 
        {
            "source": "### 3.1.2 Multiple Neighbourhoods", 
            "cell_type": "markdown", 
            "metadata": {}
        }, 
        {
            "source": "explore (Multiple) Neighborhoods in Rome City", 
            "cell_type": "markdown", 
            "metadata": {}
        }, 
        {
            "source": "def getNearbyVenues(names, latitudes, longitudes, radius=2000):\n    \n    venues_list=[]\n    for name, lat, lng in zip(names, latitudes, longitudes):\n        print(name)\n            \n        # create the API request URL\n        url = 'https://api.foursquare.com/v2/venues/explore?&client_id={}&client_secret={}&v={}&ll={},{}&radius={}&limit={}'.format(\n            CLIENT_ID, \n            CLIENT_SECRET, \n            VERSION, \n            lat, \n            lng, \n            radius, \n            LIMIT)\n            \n        # make the GET request\n        results = requests.get(url).json()[\"response\"]['groups'][0]['items']\n        \n        # return only relevant information for each nearby venue\n        venues_list.append([(\n            name, \n            lat, \n            lng, \n            v['venue']['name'], \n            v['venue']['location']['lat'], \n            v['venue']['location']['lng'],  \n            v['venue']['categories'][0]['name']) for v in results])\n\n    nearby_venues = pd.DataFrame([item for venue_list in venues_list for item in venue_list])\n    nearby_venues.columns = ['Neighbourhood', \n                  'Neighbourhood Latitude', \n                  'Neighbourhood Longitude', \n                  'Venue', \n                  'Venue Latitude', \n                  'Venue Longitude', \n                  'Venue Category']\n    \n    return(nearby_venues)", 
            "cell_type": "code", 
            "metadata": {}, 
            "outputs": [], 
            "execution_count": null
        }, 
        {
            "source": "La_venues = getNearbyVenues(names=La_df['City'],\n                                   latitudes=La_df['Latitude'],\n                                   longitudes=La_df['Longitude']\n                                  )", 
            "cell_type": "code", 
            "metadata": {}, 
            "outputs": [], 
            "execution_count": null
        }, 
        {
            "source": "La_venues.shape", 
            "cell_type": "code", 
            "metadata": {}, 
            "outputs": [], 
            "execution_count": null
        }, 
        {
            "source": "len(La_venues)", 
            "cell_type": "code", 
            "metadata": {}, 
            "outputs": [], 
            "execution_count": null
        }, 
        {
            "source": "La_venues['Neighbourhood'].value_counts()\nLa_venues.to_csv('La_venues.csv')", 
            "cell_type": "code", 
            "metadata": {}, 
            "outputs": [], 
            "execution_count": null
        }, 
        {
            "source": "La_venues.head(5)", 
            "cell_type": "code", 
            "metadata": {}, 
            "outputs": [], 
            "execution_count": null
        }, 
        {
            "source": "#### The number of venues returned for each neighbourhoods is then explored as follows:", 
            "cell_type": "markdown", 
            "metadata": {}
        }, 
        {
            "source": "La_venues.groupby('Neighbourhood').count()", 
            "cell_type": "code", 
            "metadata": {}, 
            "outputs": [], 
            "execution_count": null
        }, 
        {
            "source": "The next step is to check how many unique categories can be returned for the venues. See as follows:", 
            "cell_type": "markdown", 
            "metadata": {}
        }, 
        {
            "source": "print('There are {} uniques categories.'.format(len(La_venues['Venue Category'].unique())))", 
            "cell_type": "code", 
            "metadata": {}, 
            "outputs": [], 
            "execution_count": null
        }, 
        {
            "source": "La_venue_unique_count = La_venues['Venue Category'].value_counts().to_frame(name='Count')", 
            "cell_type": "code", 
            "metadata": {}, 
            "outputs": [], 
            "execution_count": null
        }, 
        {
            "source": "La_venue_unique_count.head(5)", 
            "cell_type": "code", 
            "metadata": {}, 
            "outputs": [], 
            "execution_count": null
        }, 
        {
            "source": "La_venue_unique_count.describe()", 
            "cell_type": "code", 
            "metadata": {}, 
            "outputs": [], 
            "execution_count": null
        }, 
        {
            "source": "### 3.2 Clustering ", 
            "cell_type": "markdown", 
            "metadata": {}
        }, 
        {
            "source": " clustered based on the processed data obtained above.", 
            "cell_type": "markdown", 
            "metadata": {}
        }, 
        {
            "source": "#### 3.2.1 Libraries", 
            "cell_type": "markdown", 
            "metadata": {}
        }, 
        {
            "source": "All the necessary libraries have been called in the libraries section above.", 
            "cell_type": "markdown", 
            "metadata": {}
        }, 
        {
            "source": "#### 3.2.2 Map Visualization", 
            "cell_type": "markdown", 
            "metadata": {}
        }, 
        {
            "source": "address = 'Lazio, Italy'\n\ngeolocator = Nominatim(user_agent=\"ln_explorer\")\nlocation = geolocator.geocode(address)\nlatitude = location.latitude\nlongitude = location.longitude\nprint('The geograpical coordinate of Lazio are {}, {}.'.format(latitude, longitude))", 
            "cell_type": "code", 
            "metadata": {}, 
            "outputs": [], 
            "execution_count": null
        }, 
        {
            "source": "map_Lazio = folium.Map(location = [latitude, longitude], zoom_start = 12)\nmap_Lazio", 
            "cell_type": "code", 
            "metadata": {}, 
            "outputs": [], 
            "execution_count": null
        }, 
        {
            "source": "\n# Adding markers to map\nfor lat, lng, City, loc in zip(La_df['Latitude'], \n                                  La_df['Longitude'],\n                                  La_df['City'],\n                                  La_df['Region']):\n    label = '{} - {}'.format(loc, City)\n    label = folium.Popup(label, parse_html=True)\n    folium.CircleMarker(\n        [lat, lng],\n        radius=5,\n        popup=label,\n        color='blue',\n        fill=True,\n        fill_color='#3186cc',\n        fill_opacity=0.7).add_to(map_Lazio)  \n    \ndisplay(map_Lazio)", 
            "cell_type": "code", 
            "metadata": {
                "scrolled": true
            }, 
            "outputs": [], 
            "execution_count": null
        }, 
        {
            "source": "type(La_df)", 
            "cell_type": "code", 
            "metadata": {}, 
            "outputs": [], 
            "execution_count": null
        }, 
        {
            "source": "### 3.2.3 Analysing Each Neighborhood", 
            "cell_type": "markdown", 
            "metadata": {}
        }, 
        {
            "source": "In this section, the objective is to check and explore the venues in each neighbourhood.", 
            "cell_type": "markdown", 
            "metadata": {}
        }, 
        {
            "source": "### One Hot Encoding", 
            "cell_type": "markdown", 
            "metadata": {}
        }, 
        {
            "source": "La_onehot = pd.get_dummies(La_venues[['Venue Category']], prefix = \"\", prefix_sep = \"\")\nLa_onehot['Neighbourhood'] = La_venues['Neighbourhood']\nfixed_columns = [La_onehot.columns[-1]] + list(La_onehot.columns[:-1])\nLa_onehot = La_onehot[fixed_columns]", 
            "cell_type": "code", 
            "metadata": {}, 
            "outputs": [], 
            "execution_count": null
        }, 
        {
            "source": "La_onehot.head(5)", 
            "cell_type": "code", 
            "metadata": {}, 
            "outputs": [], 
            "execution_count": null
        }, 
        {
            "source": "La_onehot.loc[La_onehot['Plaza'] != 0]", 
            "cell_type": "code", 
            "metadata": {}, 
            "outputs": [], 
            "execution_count": null
        }, 
        {
            "source": "La_onehot.loc[La_onehot['Neighbourhood'] == 'Rome']", 
            "cell_type": "code", 
            "metadata": {}, 
            "outputs": [], 
            "execution_count": null
        }, 
        {
            "source": "### Regrouping and Category Statistics", 
            "cell_type": "markdown", 
            "metadata": {}
        }, 
        {
            "source": "La_grouped = La_onehot.groupby('Neighbourhood').mean().reset_index()\nLa_grouped.head()", 
            "cell_type": "code", 
            "metadata": {}, 
            "outputs": [], 
            "execution_count": null
        }, 
        {
            "source": "print(\"Before One-hot encoding:\", La_df.shape)\nprint(\"After One-hot encoding:\", La_grouped.shape)", 
            "cell_type": "code", 
            "metadata": {}, 
            "outputs": [], 
            "execution_count": null
        }, 
        {
            "source": "\nLa_grouped.to_csv('lazio_grouped.csv', index = False)", 
            "cell_type": "code", 
            "metadata": {}, 
            "outputs": [], 
            "execution_count": null
        }, 
        {
            "source": "##### Grouping of each Neighbourhoods with 10 common venues:", 
            "cell_type": "markdown", 
            "metadata": {}
        }, 
        {
            "source": "num_top_venues = 10 \nfor hood in La_grouped['Neighbourhood']:\n    print(\"----\"+hood+\"----\")\n    temp = La_grouped[La_grouped['Neighbourhood'] == hood].T.reset_index()\n    temp.columns = ['venue', 'freq']\n    temp = temp.iloc[1:]\n    temp['freq'] = temp['freq'].astype(float)\n    temp = temp.round({'freq': 2})\n    print(temp.sort_values('freq', ascending = False).reset_index(drop = True).head(num_top_venues))\n    print('\\n')", 
            "cell_type": "code", 
            "metadata": {}, 
            "outputs": [], 
            "execution_count": null
        }, 
        {
            "source": "def return_most_common_venues(row, num_top_venues):\n    row_categories = row.iloc[1:]\n    row_categories_sorted = row_categories.sort_values(ascending = False)\n    \n    return row_categories_sorted.index.values[0:num_top_venues]", 
            "cell_type": "code", 
            "metadata": {}, 
            "outputs": [], 
            "execution_count": null
        }, 
        {
            "source": "num_top_venues = 3\n\nindicators = ['st', 'nd', 'rd']\n\n# create columns according to number of top venues\ncolumns = ['Neighbourhood']\nfor ind in np.arange(num_top_venues):\n    try:\n        columns.append('{}{} Most Common Venue'.format(ind+1, indicators[ind]))\n    except:\n        columns.append('{}th Most Common Venue'.format(ind+1))\n\n# create a new dataframe\nneighbourhoods_venues_sorted = pd.DataFrame(columns=columns)\nneighbourhoods_venues_sorted['Neighbourhood'] = La_grouped['Neighbourhood']\n\nfor ind in np.arange(La_grouped.shape[0]):\n    neighbourhoods_venues_sorted.iloc[ind, 1:] = return_most_common_venues(La_grouped.iloc[ind, :], num_top_venues)", 
            "cell_type": "code", 
            "metadata": {}, 
            "outputs": [], 
            "execution_count": null
        }, 
        {
            "source": "\nneighbourhoods_venues_sorted.head()", 
            "cell_type": "code", 
            "metadata": {}, 
            "outputs": [], 
            "execution_count": null
        }, 
        {
            "source": "neighbourhoods_venues_sorted.to_csv('neighbourhoods_venues_sorted.csv', index = False)", 
            "cell_type": "code", 
            "metadata": {}, 
            "outputs": [], 
            "execution_count": null
        }, 
        {
            "source": "\nLa_grouped_clustering = La_grouped.drop('Neighbourhood', 1)", 
            "cell_type": "code", 
            "metadata": {}, 
            "outputs": [], 
            "execution_count": null
        }, 
        {
            "source": "### 3.2 Clustering of Neighbourhoods", 
            "cell_type": "markdown", 
            "metadata": {}
        }, 
        {
            "source": "kclusters = 5\n\n\nkmeans = KMeans(n_clusters = kclusters, random_state=0).fit(La_grouped_clustering)\n\n\nkmeans.labels_[0:10]", 
            "cell_type": "code", 
            "metadata": {}, 
            "outputs": [], 
            "execution_count": null
        }, 
        {
            "source": "kmeans.labels_[0:10]", 
            "cell_type": "code", 
            "metadata": {}, 
            "outputs": [], 
            "execution_count": null
        }, 
        {
            "source": "neighbourhoods_venues_sorted.insert(0, 'Cluster Labels', kmeans.labels_)", 
            "cell_type": "code", 
            "metadata": {}, 
            "outputs": [], 
            "execution_count": null
        }, 
        {
            "source": "Se_merged = La_df", 
            "cell_type": "code", 
            "metadata": {}, 
            "outputs": [], 
            "execution_count": null
        }, 
        {
            "source": "Se_merged.head(3)", 
            "cell_type": "code", 
            "metadata": {}, 
            "outputs": [], 
            "execution_count": null
        }, 
        {
            "source": "Se_merged_latlong = Se_merged.join(neighbourhoods_venues_sorted.set_index('Neighbourhood'), on = 'City')", 
            "cell_type": "code", 
            "metadata": {}, 
            "outputs": [], 
            "execution_count": null
        }, 
        {
            "source": "Se_merged_latlong.head(5)", 
            "cell_type": "code", 
            "metadata": {}, 
            "outputs": [], 
            "execution_count": null
        }, 
        {
            "source": "se_clusters = La_merged_latlong", 
            "cell_type": "code", 
            "metadata": {}, 
            "outputs": [], 
            "execution_count": null
        }, 
        {
            "source": "##### 3.2. Optimal Number of Clusters for K-mean", 
            "cell_type": "markdown", 
            "metadata": {}
        }, 
        {
            "source": "##### 1. Elbow Method", 
            "cell_type": "markdown", 
            "metadata": {}
        }, 
        {
            "source": "%matplotlib inline\nimport matplotlib\nimport numpy as np", 
            "cell_type": "code", 
            "metadata": {}, 
            "outputs": [], 
            "execution_count": null
        }, 
        {
            "source": "from sklearn.cluster import KMeans\nimport matplotlib.pyplot as plt\n\n\nsse = {}\nfor n_cluster1 in range(2, 10):\n    kmeans1 = KMeans(n_clusters = n_cluster1, max_iter = 500).fit(La_grouped_clustering)\n    La_grouped_clustering[\"clusters\"] = kmeans1.labels_\n    \n   \n    sse[n_cluster1] = kmeans1.inertia_ \nplt.figure()\nplt.plot(list(sse.keys()), list(sse.values()))\nplt.xlabel(\"Number of Clusters, k\")\nplt.ylabel(\"Sum of Squared Error, SSE\")\n\nplt.vlines(3, ymin = -2, ymax = 45, colors = 'red')\nplt.show()", 
            "cell_type": "code", 
            "metadata": {}, 
            "outputs": [], 
            "execution_count": null
        }, 
        {
            "source": "### 4. Result", 
            "cell_type": "markdown", 
            "metadata": {}
        }, 
        {
            "source": "African Resturant very rarely to find, he will successd ", 
            "cell_type": "markdown", 
            "metadata": {}
        }, 
        {
            "source": "### 5. Discussion and Conclusion", 
            "cell_type": "markdown", 
            "metadata": {}
        }, 
        {
            "source": "In conclusion, this project would have had better results if there were more data in terms of crime data within the area, allowance of more venues exploration with the Foursquare ", 
            "cell_type": "markdown", 
            "metadata": {}
        }, 
        {
            "source": "", 
            "cell_type": "code", 
            "metadata": {}, 
            "outputs": [], 
            "execution_count": null
        }
    ], 
    "metadata": {
        "kernelspec": {
            "display_name": "Python 3.5", 
            "name": "python3", 
            "language": "python"
        }, 
        "language_info": {
            "mimetype": "text/x-python", 
            "nbconvert_exporter": "python", 
            "version": "3.5.5", 
            "name": "python", 
            "pygments_lexer": "ipython3", 
            "file_extension": ".py", 
            "codemirror_mode": {
                "version": 3, 
                "name": "ipython"
            }
        }
    }, 
    "nbformat": 4
}