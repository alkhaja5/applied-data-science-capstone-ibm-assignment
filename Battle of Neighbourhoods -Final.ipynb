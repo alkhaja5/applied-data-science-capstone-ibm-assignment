{
    "nbformat_minor": 1, 
    "cells": [
        {
            "source": "# Battle of Neighbourhoods - Week 1", 
            "cell_type": "markdown", 
            "metadata": {
                "collapsed": true
            }
        }, 
        {
            "source": "\n# Part 1: A description of the problem and a discussion of the background", 
            "cell_type": "markdown", 
            "metadata": {}
        }, 
        {
            "source": "> ### 1.1 Description of the Problem", 
            "cell_type": "markdown", 
            "metadata": {}
        }, 
        {
            "source": "The population of Italy has grown considerably over the last decades. Italy is very diverse. In Africa you can get variety of fresh food from supplies from Africa.\n \nThere are many fine restaurants in Africa \u2013 Asian, Middle Eastern, Latin and American restaurants, it is hard to find a good place to dine in.\n", 
            "cell_type": "markdown", 
            "metadata": {}
        }, 
        {
            "source": "> ### 1.2 Discussion of the Background", 
            "cell_type": "markdown", 
            "metadata": {}
        }, 
        {
            "source": "My client is a successful restaurant chain in Ghana; he is looking to expand operation into EUROP starting in Italy. His target is luxury restaurant\nSince Italy demography has many Regions, My client needs deeper insight from available data in other to decide where to establish first. This company spends a lot on research and provides customers with data insight into the ingredients used at restaurants.\n", 
            "cell_type": "markdown", 
            "metadata": {}
        }, 
        {
            "source": "# Part 2 - A description of the data and how it will be used to solve the problem", 
            "cell_type": "markdown", 
            "metadata": {}
        }, 
        {
            "source": "> ### 2.1 Description of Data", 
            "cell_type": "markdown", 
            "metadata": {}
        }, 
        {
            "source": "\nData will be from public data, Wikipedia and Foursquare.", 
            "cell_type": "markdown", 
            "metadata": {}
        }, 
        {
            "source": "Italy Area consists of many regions which has some specific popular areas < https://en.wikipedia.org/wiki/List_of_cities_in_Italy >", 
            "cell_type": "markdown", 
            "metadata": {}
        }, 
        {
            "source": "#### A sample of the web scrapped of the Wikipedia page ", 
            "cell_type": "markdown", 
            "metadata": {}
        }, 
        {
            "source": "from bs4 import BeautifulSoup\n\n\nimport numpy as np\n\n\nimport pandas as pd\npd.set_option('display.max_columns', None)\npd.set_option('display.max_rows', None)\n\n\nimport json\nprint('numpy, pandas, ..., imported...')\n\n!pip -q install geopy\n\nprint('geopy installed...')\n\nfrom geopy.geocoders import Nominatim\nprint('Nominatim imported...')\n\n\nimport requests\nprint('requests imported...')\n\n\nfrom pandas.io.json import json_normalize\nprint('json_normalize imported...')\n\n\nimport matplotlib.cm as cm\nimport matplotlib.colors as colors\nprint('matplotlib imported...')\n\n\nfrom sklearn.cluster import KMeans\nprint('Kmeans imported...')\n\n\n!pip -q install geocoder\nimport geocoder\n\n\nimport time\n\n\n!pip -q install folium\nprint('folium installed...')\nimport folium # map rendering library\nprint('folium imported...')\nprint('...Done')", 
            "cell_type": "code", 
            "metadata": {}, 
            "outputs": [
                {
                    "output_type": "stream", 
                    "name": "stdout", 
                    "text": "numpy, pandas, ..., imported...\ngeopy installed...\nNominatim imported...\nrequests imported...\njson_normalize imported...\nmatplotlib imported...\nKmeans imported...\nfolium installed...\nfolium imported...\n...Done\n"
                }
            ], 
            "execution_count": 25
        }, 
        {
            "source": "wikipedia_link = 'https://en.wikipedia.org/wiki/List_of_cities_in_Italy'\nheaders = {'User-Agent': 'Mozilla/5.0 (Windows NT 10.0; Win64; x64; rv:64.0) Gecko/20100101 Firefox/64.0'}\nwikipedia_page = requests.get(wikipedia_link, headers = headers)\nwikipedia_page", 
            "cell_type": "code", 
            "metadata": {}, 
            "outputs": [
                {
                    "output_type": "execute_result", 
                    "data": {
                        "text/plain": "<Response [200]>"
                    }, 
                    "execution_count": 26, 
                    "metadata": {}
                }
            ], 
            "execution_count": 26
        }, 
        {
            "source": "soup = BeautifulSoup(wikipedia_page.content, 'html.parser')\ntable = soup.find('table', {'class':'wikitable sortable'}).tbody\nrows = table.find_all('tr')\ncolumns = [i.text.replace('\\n', '')\n           for i in rows[0].find_all('th')]\ndf = pd.DataFrame(columns = columns)\ndf", 
            "cell_type": "code", 
            "metadata": {}, 
            "outputs": [
                {
                    "output_type": "execute_result", 
                    "data": {
                        "text/plain": "Empty DataFrame\nColumns: [Rank, City, 2011 Census, 2017 Estimate, Change, Region]\nIndex: []", 
                        "text/html": "<div>\n<style scoped>\n    .dataframe tbody tr th:only-of-type {\n        vertical-align: middle;\n    }\n\n    .dataframe tbody tr th {\n        vertical-align: top;\n    }\n\n    .dataframe thead th {\n        text-align: right;\n    }\n</style>\n<table border=\"1\" class=\"dataframe\">\n  <thead>\n    <tr style=\"text-align: right;\">\n      <th></th>\n      <th>Rank</th>\n      <th>City</th>\n      <th>2011 Census</th>\n      <th>2017 Estimate</th>\n      <th>Change</th>\n      <th>Region</th>\n    </tr>\n  </thead>\n  <tbody>\n  </tbody>\n</table>\n</div>"
                    }, 
                    "execution_count": 27, 
                    "metadata": {}
                }
            ], 
            "execution_count": 27
        }, 
        {
            "source": "for i in range(1, len(rows)):\n    tds = rows[i].find_all('td')\n    \n    \n    if len(tds) == 7:\n        values = [tds[0].text, tds[1].text, tds[2].text.replace('\\n', ''.replace('\\xa0','')), tds[3].text, tds[4].text.replace('\\n', ''.replace('\\xa0','')), tds[5].text.replace('\\n', ''.replace('\\xa0','')), tds[6].text.replace('\\n', ''.replace('\\xa0',''))]\n    else:\n        values = [td.text.replace('\\n', '').replace('\\xa0','') for td in tds]\n        \n        df = df.append(pd.Series(values, index = columns), ignore_index = True)\n\n        df", 
            "cell_type": "code", 
            "metadata": {}, 
            "outputs": [], 
            "execution_count": 28
        }, 
        {
            "source": "df.head(5)", 
            "cell_type": "code", 
            "metadata": {}, 
            "outputs": [
                {
                    "output_type": "execute_result", 
                    "data": {
                        "text/plain": "  Rank     City 2011 Census 2017 Estimate  Change    Region\n0    1     Rome   2,617,175     2,872,800  +9.77%     Lazio\n1    2    Milan   1,242,123     1,366,180  +9.99%  Lombardy\n2    3   Naples     962,003       966,144  +0.43%  Campania\n3    4    Turin     872,367       882,523  +1.16%  Piedmont\n4    5  Palermo     657,651       668,405  +1.64%    Sicily", 
                        "text/html": "<div>\n<style scoped>\n    .dataframe tbody tr th:only-of-type {\n        vertical-align: middle;\n    }\n\n    .dataframe tbody tr th {\n        vertical-align: top;\n    }\n\n    .dataframe thead th {\n        text-align: right;\n    }\n</style>\n<table border=\"1\" class=\"dataframe\">\n  <thead>\n    <tr style=\"text-align: right;\">\n      <th></th>\n      <th>Rank</th>\n      <th>City</th>\n      <th>2011 Census</th>\n      <th>2017 Estimate</th>\n      <th>Change</th>\n      <th>Region</th>\n    </tr>\n  </thead>\n  <tbody>\n    <tr>\n      <th>0</th>\n      <td>1</td>\n      <td>Rome</td>\n      <td>2,617,175</td>\n      <td>2,872,800</td>\n      <td>+9.77%</td>\n      <td>Lazio</td>\n    </tr>\n    <tr>\n      <th>1</th>\n      <td>2</td>\n      <td>Milan</td>\n      <td>1,242,123</td>\n      <td>1,366,180</td>\n      <td>+9.99%</td>\n      <td>Lombardy</td>\n    </tr>\n    <tr>\n      <th>2</th>\n      <td>3</td>\n      <td>Naples</td>\n      <td>962,003</td>\n      <td>966,144</td>\n      <td>+0.43%</td>\n      <td>Campania</td>\n    </tr>\n    <tr>\n      <th>3</th>\n      <td>4</td>\n      <td>Turin</td>\n      <td>872,367</td>\n      <td>882,523</td>\n      <td>+1.16%</td>\n      <td>Piedmont</td>\n    </tr>\n    <tr>\n      <th>4</th>\n      <td>5</td>\n      <td>Palermo</td>\n      <td>657,651</td>\n      <td>668,405</td>\n      <td>+1.64%</td>\n      <td>Sicily</td>\n    </tr>\n  </tbody>\n</table>\n</div>"
                    }, 
                    "execution_count": 29, 
                    "metadata": {}
                }
            ], 
            "execution_count": 29
        }, 
        {
            "source": "df['City'] = df['City'].map(lambda x: x.rstrip(']').rstrip('0123456789').rstrip('['))", 
            "cell_type": "code", 
            "metadata": {}, 
            "outputs": [], 
            "execution_count": 30
        }, 
        {
            "source": "df0 = df.drop('City', axis=1).join(df['City'].str.split(',', expand=True).stack().reset_index(level=1, drop=True).rename('City'))", 
            "cell_type": "code", 
            "metadata": {}, 
            "outputs": [], 
            "execution_count": 31
        }, 
        {
            "source": "df1 = df0[['Rank', 'City', 'Region']].reset_index(drop=True)", 
            "cell_type": "code", 
            "metadata": {}, 
            "outputs": [], 
            "execution_count": 32
        }, 
        {
            "source": "df1.head(5)", 
            "cell_type": "code", 
            "metadata": {}, 
            "outputs": [
                {
                    "output_type": "execute_result", 
                    "data": {
                        "text/plain": "  Rank     City    Region\n0    1     Rome     Lazio\n1    2    Milan  Lombardy\n2    3   Naples  Campania\n3    4    Turin  Piedmont\n4    5  Palermo    Sicily", 
                        "text/html": "<div>\n<style scoped>\n    .dataframe tbody tr th:only-of-type {\n        vertical-align: middle;\n    }\n\n    .dataframe tbody tr th {\n        vertical-align: top;\n    }\n\n    .dataframe thead th {\n        text-align: right;\n    }\n</style>\n<table border=\"1\" class=\"dataframe\">\n  <thead>\n    <tr style=\"text-align: right;\">\n      <th></th>\n      <th>Rank</th>\n      <th>City</th>\n      <th>Region</th>\n    </tr>\n  </thead>\n  <tbody>\n    <tr>\n      <th>0</th>\n      <td>1</td>\n      <td>Rome</td>\n      <td>Lazio</td>\n    </tr>\n    <tr>\n      <th>1</th>\n      <td>2</td>\n      <td>Milan</td>\n      <td>Lombardy</td>\n    </tr>\n    <tr>\n      <th>2</th>\n      <td>3</td>\n      <td>Naples</td>\n      <td>Campania</td>\n    </tr>\n    <tr>\n      <th>3</th>\n      <td>4</td>\n      <td>Turin</td>\n      <td>Piedmont</td>\n    </tr>\n    <tr>\n      <th>4</th>\n      <td>5</td>\n      <td>Palermo</td>\n      <td>Sicily</td>\n    </tr>\n  </tbody>\n</table>\n</div>"
                    }, 
                    "execution_count": 33, 
                    "metadata": {}
                }
            ], 
            "execution_count": 33
        }, 
        {
            "source": "df2 = df1", 
            "cell_type": "code", 
            "metadata": {}, 
            "outputs": [], 
            "execution_count": 34
        }, 
        {
            "source": "df21 = df2[df2['Region'].str.contains('Lazio')]", 
            "cell_type": "code", 
            "metadata": {}, 
            "outputs": [], 
            "execution_count": 35
        }, 
        {
            "source": "df21.head(10)", 
            "cell_type": "code", 
            "metadata": {}, 
            "outputs": [
                {
                    "output_type": "execute_result", 
                    "data": {
                        "text/plain": "    Rank                 City Region\n0      1                 Rome  Lazio\n31    32               Latina  Lazio\n57    58  Guidonia Montecelio  Lazio\n69    70            Fiumicino  Lazio\n75    76              Aprilia  Lazio\n87    88              Viterbo  Lazio\n94    95              Pomezia  Lazio\n114  115               Tivoli  Lazio\n120  121                Anzio  Lazio\n129  130             Velletri  Lazio", 
                        "text/html": "<div>\n<style scoped>\n    .dataframe tbody tr th:only-of-type {\n        vertical-align: middle;\n    }\n\n    .dataframe tbody tr th {\n        vertical-align: top;\n    }\n\n    .dataframe thead th {\n        text-align: right;\n    }\n</style>\n<table border=\"1\" class=\"dataframe\">\n  <thead>\n    <tr style=\"text-align: right;\">\n      <th></th>\n      <th>Rank</th>\n      <th>City</th>\n      <th>Region</th>\n    </tr>\n  </thead>\n  <tbody>\n    <tr>\n      <th>0</th>\n      <td>1</td>\n      <td>Rome</td>\n      <td>Lazio</td>\n    </tr>\n    <tr>\n      <th>31</th>\n      <td>32</td>\n      <td>Latina</td>\n      <td>Lazio</td>\n    </tr>\n    <tr>\n      <th>57</th>\n      <td>58</td>\n      <td>Guidonia Montecelio</td>\n      <td>Lazio</td>\n    </tr>\n    <tr>\n      <th>69</th>\n      <td>70</td>\n      <td>Fiumicino</td>\n      <td>Lazio</td>\n    </tr>\n    <tr>\n      <th>75</th>\n      <td>76</td>\n      <td>Aprilia</td>\n      <td>Lazio</td>\n    </tr>\n    <tr>\n      <th>87</th>\n      <td>88</td>\n      <td>Viterbo</td>\n      <td>Lazio</td>\n    </tr>\n    <tr>\n      <th>94</th>\n      <td>95</td>\n      <td>Pomezia</td>\n      <td>Lazio</td>\n    </tr>\n    <tr>\n      <th>114</th>\n      <td>115</td>\n      <td>Tivoli</td>\n      <td>Lazio</td>\n    </tr>\n    <tr>\n      <th>120</th>\n      <td>121</td>\n      <td>Anzio</td>\n      <td>Lazio</td>\n    </tr>\n    <tr>\n      <th>129</th>\n      <td>130</td>\n      <td>Velletri</td>\n      <td>Lazio</td>\n    </tr>\n  </tbody>\n</table>\n</div>"
                    }, 
                    "execution_count": 36, 
                    "metadata": {}
                }
            ], 
            "execution_count": 36
        }, 
        {
            "source": "df3 = df21[['Rank', 'City', 'Region']].reset_index(drop=True)", 
            "cell_type": "code", 
            "metadata": {}, 
            "outputs": [], 
            "execution_count": 37
        }, 
        {
            "source": "df_Lazio = df3", 
            "cell_type": "code", 
            "metadata": {}, 
            "outputs": [], 
            "execution_count": 38
        }, 
        {
            "source": "df21.shape", 
            "cell_type": "code", 
            "metadata": {}, 
            "outputs": [
                {
                    "output_type": "execute_result", 
                    "data": {
                        "text/plain": "(11, 3)"
                    }, 
                    "execution_count": 39, 
                    "metadata": {}
                }
            ], 
            "execution_count": 39
        }, 
        {
            "source": "### 2.1.2 Dataset 2:", 
            "cell_type": "markdown", 
            "metadata": {}
        }, 
        {
            "source": "In obtaining the location data of the locations, the Geocoder package is used with the arcgis_geocoder to obtain the latitude and longitude of the needed locations.", 
            "cell_type": "markdown", 
            "metadata": {}
        }, 
        {
            "source": "'''Geocoder starts here'''\n'''Defining a function to use --> get_latlng()'''\ndef get_latlng(arcgis_geocoder):\n    \n   \n    lat_lng_coords = None\n    \n   \n    \n    while(lat_lng_coords is None):\n        g = geocoder.arcgis('{}, Lazio, Italy'.format(arcgis_geocoder))\n        lat_lng_coords = g.latlng\n    return lat_lng_coords\n'''Geocoder ends here'''", 
            "cell_type": "code", 
            "metadata": {
                "scrolled": true
            }, 
            "outputs": [
                {
                    "output_type": "execute_result", 
                    "data": {
                        "text/plain": "'Geocoder ends here'"
                    }, 
                    "execution_count": 40, 
                    "metadata": {}
                }
            ], 
            "execution_count": 40
        }, 
        {
            "source": "City_codes = df['City']    \ncoordinates = [get_latlng(City_code) for City_code in City_codes.tolist()]", 
            "cell_type": "code", 
            "metadata": {}, 
            "outputs": [], 
            "execution_count": 41
        }, 
        {
            "source": "df_Lazio_loc = df_Lazio\n\ndf_Lazio_coordinates = pd.DataFrame(coordinates, columns = ['Latitude', 'Longitude'])\ndf_Lazio_loc['Latitude'] = df_Lazio_coordinates['Latitude']\ndf_Lazio_loc['Longitude'] = df_Lazio_coordinates['Longitude']", 
            "cell_type": "code", 
            "metadata": {}, 
            "outputs": [], 
            "execution_count": 42
        }, 
        {
            "source": "## Testing Sample for Rome", 
            "cell_type": "markdown", 
            "metadata": {}
        }, 
        {
            "source": "sample = get_latlng('Rome')\nsample", 
            "cell_type": "code", 
            "metadata": {}, 
            "outputs": [
                {
                    "output_type": "execute_result", 
                    "data": {
                        "text/plain": "[41.90322000000003, 12.495650000000069]"
                    }, 
                    "execution_count": 43, 
                    "metadata": {}
                }
            ], 
            "execution_count": 43
        }, 
        {
            "source": "## Reverse geocoding this, using the geocodefarm geocoder, gives the following:", 
            "cell_type": "markdown", 
            "metadata": {}
        }, 
        {
            "source": "gg = geocoder.geocodefarm(sample, method = 'reverse')\ngg", 
            "cell_type": "code", 
            "metadata": {}, 
            "outputs": [
                {
                    "output_type": "execute_result", 
                    "data": {
                        "text/plain": "<[OK] Geocodefarm - Reverse [Via Vittorio Emanuele Orlando 70, 00185 Rome Rome, Italy]>"
                    }, 
                    "execution_count": 44, 
                    "metadata": {}
                }
            ], 
            "execution_count": 44
        }, 
        {
            "source": "## Applying the function to find Latitude and Longitude", 
            "cell_type": "markdown", 
            "metadata": {}
        }, 
        {
            "source": "start = time.time()\n\nCity_codes = df_Lazio['Region']    \ncoordinates = [get_latlng(City_code) for City_code in City_codes.tolist()]\n\nend = time.time()\nprint(\"Time of execution: \", end - start, \"seconds\")", 
            "cell_type": "code", 
            "metadata": {}, 
            "outputs": [
                {
                    "output_type": "stream", 
                    "name": "stdout", 
                    "text": "Time of execution:  7.308433532714844 seconds\n"
                }
            ], 
            "execution_count": 45
        }, 
        {
            "source": "## Then we proceed to store the location data - latitude and longitude as follows. ", 
            "cell_type": "markdown", 
            "metadata": {}
        }, 
        {
            "source": "df_se_loc = df_Lazio\n\n\ndf_se_coordinates = pd.DataFrame(coordinates, columns = ['Latitude', 'Longitude'])\ndf_se_loc['Latitude'] = df_se_coordinates['Latitude']\ndf_se_loc['Longitude'] = df_se_coordinates['Longitude']", 
            "cell_type": "code", 
            "metadata": {}, 
            "outputs": [], 
            "execution_count": 46
        }, 
        {
            "source": "df_Lazio_loc.head()", 
            "cell_type": "code", 
            "metadata": {}, 
            "outputs": [
                {
                    "output_type": "execute_result", 
                    "data": {
                        "text/plain": "  Rank                 City Region   Latitude  Longitude\n0    1                 Rome  Lazio  41.975682  12.772626\n1   32               Latina  Lazio  41.975682  12.772626\n2   58  Guidonia Montecelio  Lazio  41.975682  12.772626\n3   70            Fiumicino  Lazio  41.975682  12.772626\n4   76              Aprilia  Lazio  41.975682  12.772626", 
                        "text/html": "<div>\n<style scoped>\n    .dataframe tbody tr th:only-of-type {\n        vertical-align: middle;\n    }\n\n    .dataframe tbody tr th {\n        vertical-align: top;\n    }\n\n    .dataframe thead th {\n        text-align: right;\n    }\n</style>\n<table border=\"1\" class=\"dataframe\">\n  <thead>\n    <tr style=\"text-align: right;\">\n      <th></th>\n      <th>Rank</th>\n      <th>City</th>\n      <th>Region</th>\n      <th>Latitude</th>\n      <th>Longitude</th>\n    </tr>\n  </thead>\n  <tbody>\n    <tr>\n      <th>0</th>\n      <td>1</td>\n      <td>Rome</td>\n      <td>Lazio</td>\n      <td>41.975682</td>\n      <td>12.772626</td>\n    </tr>\n    <tr>\n      <th>1</th>\n      <td>32</td>\n      <td>Latina</td>\n      <td>Lazio</td>\n      <td>41.975682</td>\n      <td>12.772626</td>\n    </tr>\n    <tr>\n      <th>2</th>\n      <td>58</td>\n      <td>Guidonia Montecelio</td>\n      <td>Lazio</td>\n      <td>41.975682</td>\n      <td>12.772626</td>\n    </tr>\n    <tr>\n      <th>3</th>\n      <td>70</td>\n      <td>Fiumicino</td>\n      <td>Lazio</td>\n      <td>41.975682</td>\n      <td>12.772626</td>\n    </tr>\n    <tr>\n      <th>4</th>\n      <td>76</td>\n      <td>Aprilia</td>\n      <td>Lazio</td>\n      <td>41.975682</td>\n      <td>12.772626</td>\n    </tr>\n  </tbody>\n</table>\n</div>"
                    }, 
                    "execution_count": 47, 
                    "metadata": {}
                }
            ], 
            "execution_count": 47
        }, 
        {
            "source": "df_Lazio_loc.to_csv('SELazioLocationsCoordinates.csv', index = False)", 
            "cell_type": "code", 
            "metadata": {}, 
            "outputs": [], 
            "execution_count": 49
        }, 
        {
            "source": "# 3 Methodology", 
            "cell_type": "markdown", 
            "metadata": {}
        }, 
        {
            "source": "This section represents the main component of the report where the data is gathered, prepared for analysis. The tools described are used here and the Notebook cells indicates the execution of steps.", 
            "cell_type": "markdown", 
            "metadata": {}
        }, 
        {
            "source": "### 3.1 Data Exploration\n", 
            "cell_type": "markdown", 
            "metadata": {}
        }, 
        {
            "source": "#### 3.1.1 Single Neighbourhood", 
            "cell_type": "markdown", 
            "metadata": {}
        }, 
        {
            "source": "La_df = df_Lazio_loc.reset_index().drop('index', axis = 1)", 
            "cell_type": "code", 
            "metadata": {}, 
            "outputs": [], 
            "execution_count": 50
        }, 
        {
            "source": "La_df.shape", 
            "cell_type": "code", 
            "metadata": {}, 
            "outputs": [
                {
                    "output_type": "execute_result", 
                    "data": {
                        "text/plain": "(11, 5)"
                    }, 
                    "execution_count": 51, 
                    "metadata": {}
                }
            ], 
            "execution_count": 51
        }, 
        {
            "source": "La_df", 
            "cell_type": "code", 
            "metadata": {}, 
            "outputs": [
                {
                    "output_type": "execute_result", 
                    "data": {
                        "text/plain": "   Rank                 City Region   Latitude  Longitude\n0     1                 Rome  Lazio  41.975682  12.772626\n1    32               Latina  Lazio  41.975682  12.772626\n2    58  Guidonia Montecelio  Lazio  41.975682  12.772626\n3    70            Fiumicino  Lazio  41.975682  12.772626\n4    76              Aprilia  Lazio  41.975682  12.772626\n5    88              Viterbo  Lazio  41.975682  12.772626\n6    95              Pomezia  Lazio  41.975682  12.772626\n7   115               Tivoli  Lazio  41.975682  12.772626\n8   121                Anzio  Lazio  41.975682  12.772626\n9   130             Velletri  Lazio  41.975682  12.772626\n10  135        Civitavecchia  Lazio  41.975682  12.772626", 
                        "text/html": "<div>\n<style scoped>\n    .dataframe tbody tr th:only-of-type {\n        vertical-align: middle;\n    }\n\n    .dataframe tbody tr th {\n        vertical-align: top;\n    }\n\n    .dataframe thead th {\n        text-align: right;\n    }\n</style>\n<table border=\"1\" class=\"dataframe\">\n  <thead>\n    <tr style=\"text-align: right;\">\n      <th></th>\n      <th>Rank</th>\n      <th>City</th>\n      <th>Region</th>\n      <th>Latitude</th>\n      <th>Longitude</th>\n    </tr>\n  </thead>\n  <tbody>\n    <tr>\n      <th>0</th>\n      <td>1</td>\n      <td>Rome</td>\n      <td>Lazio</td>\n      <td>41.975682</td>\n      <td>12.772626</td>\n    </tr>\n    <tr>\n      <th>1</th>\n      <td>32</td>\n      <td>Latina</td>\n      <td>Lazio</td>\n      <td>41.975682</td>\n      <td>12.772626</td>\n    </tr>\n    <tr>\n      <th>2</th>\n      <td>58</td>\n      <td>Guidonia Montecelio</td>\n      <td>Lazio</td>\n      <td>41.975682</td>\n      <td>12.772626</td>\n    </tr>\n    <tr>\n      <th>3</th>\n      <td>70</td>\n      <td>Fiumicino</td>\n      <td>Lazio</td>\n      <td>41.975682</td>\n      <td>12.772626</td>\n    </tr>\n    <tr>\n      <th>4</th>\n      <td>76</td>\n      <td>Aprilia</td>\n      <td>Lazio</td>\n      <td>41.975682</td>\n      <td>12.772626</td>\n    </tr>\n    <tr>\n      <th>5</th>\n      <td>88</td>\n      <td>Viterbo</td>\n      <td>Lazio</td>\n      <td>41.975682</td>\n      <td>12.772626</td>\n    </tr>\n    <tr>\n      <th>6</th>\n      <td>95</td>\n      <td>Pomezia</td>\n      <td>Lazio</td>\n      <td>41.975682</td>\n      <td>12.772626</td>\n    </tr>\n    <tr>\n      <th>7</th>\n      <td>115</td>\n      <td>Tivoli</td>\n      <td>Lazio</td>\n      <td>41.975682</td>\n      <td>12.772626</td>\n    </tr>\n    <tr>\n      <th>8</th>\n      <td>121</td>\n      <td>Anzio</td>\n      <td>Lazio</td>\n      <td>41.975682</td>\n      <td>12.772626</td>\n    </tr>\n    <tr>\n      <th>9</th>\n      <td>130</td>\n      <td>Velletri</td>\n      <td>Lazio</td>\n      <td>41.975682</td>\n      <td>12.772626</td>\n    </tr>\n    <tr>\n      <th>10</th>\n      <td>135</td>\n      <td>Civitavecchia</td>\n      <td>Lazio</td>\n      <td>41.975682</td>\n      <td>12.772626</td>\n    </tr>\n  </tbody>\n</table>\n</div>"
                    }, 
                    "execution_count": 52, 
                    "metadata": {}
                }
            ], 
            "execution_count": 52
        }, 
        {
            "source": "La_df.loc[La_df['City'] == 'Rome']", 
            "cell_type": "code", 
            "metadata": {}, 
            "outputs": [
                {
                    "output_type": "execute_result", 
                    "data": {
                        "text/plain": "  Rank  City Region   Latitude  Longitude\n0    1  Rome  Lazio  41.975682  12.772626", 
                        "text/html": "<div>\n<style scoped>\n    .dataframe tbody tr th:only-of-type {\n        vertical-align: middle;\n    }\n\n    .dataframe tbody tr th {\n        vertical-align: top;\n    }\n\n    .dataframe thead th {\n        text-align: right;\n    }\n</style>\n<table border=\"1\" class=\"dataframe\">\n  <thead>\n    <tr style=\"text-align: right;\">\n      <th></th>\n      <th>Rank</th>\n      <th>City</th>\n      <th>Region</th>\n      <th>Latitude</th>\n      <th>Longitude</th>\n    </tr>\n  </thead>\n  <tbody>\n    <tr>\n      <th>0</th>\n      <td>1</td>\n      <td>Rome</td>\n      <td>Lazio</td>\n      <td>41.975682</td>\n      <td>12.772626</td>\n    </tr>\n  </tbody>\n</table>\n</div>"
                    }, 
                    "execution_count": 53, 
                    "metadata": {}
                }
            ], 
            "execution_count": 53
        }, 
        {
            "source": "Let's use Rome with the index location 0.", 
            "cell_type": "markdown", 
            "metadata": {}
        }, 
        {
            "source": "La_df.loc[0, 'City']", 
            "cell_type": "code", 
            "metadata": {}, 
            "outputs": [
                {
                    "output_type": "execute_result", 
                    "data": {
                        "text/plain": "'Rome'"
                    }, 
                    "execution_count": 54, 
                    "metadata": {}
                }
            ], 
            "execution_count": 54
        }, 
        {
            "source": "Rome_lat = La_df.loc[0, 'Latitude']\nRome_long = La_df.loc[0, 'Longitude']\nRome_Cit = La_df.loc[0, 'City']\nRome_Region = La_df.loc[0, 'Region']\n\nprint('The latitude and longitude values of {} with Region {}, are {}, {}.'.format(Rome_Cit,\n                                                                                         Rome_Region,\n                                                                                         Rome_lat,\n                                                                                       Rome_long))", 
            "cell_type": "code", 
            "metadata": {}, 
            "outputs": [
                {
                    "output_type": "stream", 
                    "name": "stdout", 
                    "text": "The latitude and longitude values of Rome with Region Lazio, are 41.975681888000054, 12.772626325000033.\n"
                }
            ], 
            "execution_count": 55
        }, 
        {
            "source": "### METHODOLOY EXECUTION - Mapping Data", 
            "cell_type": "markdown", 
            "metadata": {}
        }, 
        {
            "source": "import json\nprint('numpy, pandas, ..., imported...')\n\nfrom pandas.io.json import json_normalize\nprint('json_normalize imported...')\n\n", 
            "cell_type": "code", 
            "metadata": {}, 
            "outputs": [
                {
                    "output_type": "stream", 
                    "name": "stdout", 
                    "text": "numpy, pandas, ..., imported...\njson_normalize imported...\n"
                }
            ], 
            "execution_count": 56
        }, 
        {
            "source": "address = 'Lazio, Italy'\ngeolocator = Nominatim()\nlocation = geolocator.geocode(address)\nlatitude = location.latitude\nlongitude = location.longitude\nprint('The geograpical coordinate of Italy home are {}, {}.'.format(latitude, longitude))", 
            "cell_type": "code", 
            "metadata": {}, 
            "outputs": [
                {
                    "output_type": "stream", 
                    "name": "stdout", 
                    "text": "The geograpical coordinate of Italy home are 41.9808038, 12.7662312.\n"
                }
            ], 
            "execution_count": 57
        }, 
        {
            "source": "neighborhood_latitude=41.9808038\nneighborhood_longitude=12.7662312", 
            "cell_type": "code", 
            "metadata": {}, 
            "outputs": [], 
            "execution_count": 58
        }, 
        {
            "source": "explore the top 100 venues that are within a 2000 metres radius of Lazio.\nAnd then, let's create the GET request URL, and then the url is named.", 
            "cell_type": "markdown", 
            "metadata": {}
        }, 
        {
            "source": "CLIENT_ID = 'FL1GDNSXKBRH2XQ4KIZP2ACOZQ0TQRG0LVFZZNJSY4BTA452'\nCLIENT_SECRET = 'YPV5PQBM5G4KSKXKY2XGRSIFM4O2V5N1LKALCGIMFDTZYAD0' \nVERSION = '20190416'\nprint('Your credentails:')\nprint('CLIENT_ID: ' + CLIENT_ID)\nprint('CLIENT_SECRET:' + CLIENT_SECRET)", 
            "cell_type": "code", 
            "metadata": {}, 
            "outputs": [
                {
                    "output_type": "stream", 
                    "name": "stdout", 
                    "text": "Your credentails:\nCLIENT_ID: FL1GDNSXKBRH2XQ4KIZP2ACOZQ0TQRG0LVFZZNJSY4BTA452\nCLIENT_SECRET:YPV5PQBM5G4KSKXKY2XGRSIFM4O2V5N1LKALCGIMFDTZYAD0\n"
                }
            ], 
            "execution_count": 59
        }, 
        {
            "source": "LIMIT = 100 # limit of number of venues returned by Foursquare API\nradius = 2000 # define radius\nurl = 'https://api.foursquare.com/v2/venues/explore?&client_id={}&client_secret={}&v={}&ll={},{}&radius={}&limit={}'.format(\n    CLIENT_ID, \n    CLIENT_SECRET, \n    VERSION, \n    Rome_lat, \n    Rome_long, \n    radius, \n    LIMIT)\n\n# displays URL\nurl", 
            "cell_type": "code", 
            "metadata": {
                "scrolled": true
            }, 
            "outputs": [
                {
                    "output_type": "execute_result", 
                    "data": {
                        "text/plain": "'https://api.foursquare.com/v2/venues/explore?&client_id=FL1GDNSXKBRH2XQ4KIZP2ACOZQ0TQRG0LVFZZNJSY4BTA452&client_secret=YPV5PQBM5G4KSKXKY2XGRSIFM4O2V5N1LKALCGIMFDTZYAD0&v=20190416&ll=41.975681888000054,12.772626325000033&radius=2000&limit=100'"
                    }, 
                    "execution_count": 62, 
                    "metadata": {}
                }
            ], 
            "execution_count": 62
        }, 
        {
            "source": "results = requests.get(url).json()\nresults", 
            "cell_type": "code", 
            "metadata": {}, 
            "outputs": [
                {
                    "output_type": "execute_result", 
                    "data": {
                        "text/plain": "{'meta': {'code': 200, 'requestId': '5cb6b1216a60715adbc3cbb3'},\n 'response': {'groups': [{'items': [{'reasons': {'count': 0,\n       'items': [{'reasonName': 'globalInteractionReason',\n         'summary': 'This spot is popular',\n         'type': 'general'}]},\n      'referralId': 'e-0-4f850f3ae4b0ae40e13808f9-0',\n      'venue': {'categories': [{'icon': {'prefix': 'https://ss3.4sqi.net/img/categories_v2/shops/food_grocery_',\n          'suffix': '.png'},\n         'id': '52f2ab2ebcbc57f1066b8b46',\n         'name': 'Supermarket',\n         'pluralName': 'Supermarkets',\n         'primary': True,\n         'shortName': 'Supermarket'}],\n       'id': '4f850f3ae4b0ae40e13808f9',\n       'location': {'address': 'Via Tiburtina',\n        'cc': 'IT',\n        'city': 'Villanova',\n        'country': 'Italia',\n        'distance': 1521,\n        'formattedAddress': ['Via Tiburtina', 'Villanova Lazio', 'Italia'],\n        'labeledLatLngs': [{'label': 'display',\n          'lat': 41.96785784723111,\n          'lng': 12.757551056736856}],\n        'lat': 41.96785784723111,\n        'lng': 12.757551056736856,\n        'state': 'Lazio'},\n       'name': 'Carrefour Market',\n       'photos': {'count': 0, 'groups': []}}},\n     {'reasons': {'count': 0,\n       'items': [{'reasonName': 'globalInteractionReason',\n         'summary': 'This spot is popular',\n         'type': 'general'}]},\n      'referralId': 'e-0-53af4634498e513b9045121c-1',\n      'venue': {'categories': [{'icon': {'prefix': 'https://ss3.4sqi.net/img/categories_v2/food/italian_',\n          'suffix': '.png'},\n         'id': '4bf58dd8d48988d110941735',\n         'name': 'Italian Restaurant',\n         'pluralName': 'Italian Restaurants',\n         'primary': True,\n         'shortName': 'Italian'}],\n       'id': '53af4634498e513b9045121c',\n       'location': {'address': 'Strada San Pastore',\n        'cc': 'IT',\n        'city': 'Tivoli',\n        'country': 'Italia',\n        'distance': 818,\n        'formattedAddress': ['Strada San Pastore',\n         '00019 Tivoli Rima',\n         'Italia'],\n        'labeledLatLngs': [{'label': 'display',\n          'lat': 41.97470191213383,\n          'lng': 12.782430029970946}],\n        'lat': 41.97470191213383,\n        'lng': 12.782430029970946,\n        'postalCode': '00019',\n        'state': 'Rima'},\n       'name': 'villa ulpia',\n       'photos': {'count': 0, 'groups': []}}},\n     {'reasons': {'count': 0,\n       'items': [{'reasonName': 'globalInteractionReason',\n         'summary': 'This spot is popular',\n         'type': 'general'}]},\n      'referralId': 'e-0-59040ef235dfa74d072f2825-2',\n      'venue': {'categories': [{'icon': {'prefix': 'https://ss3.4sqi.net/img/categories_v2/shops/realestate_',\n          'suffix': '.png'},\n         'id': '5454144b498ec1f095bff2f2',\n         'name': 'Construction & Landscaping',\n         'pluralName': 'Construction & Landscaping',\n         'primary': True,\n         'shortName': 'Construction'}],\n       'id': '59040ef235dfa74d072f2825',\n       'location': {'address': 'Via della Campanella, 4',\n        'cc': 'IT',\n        'city': 'Guidonia Montecelio',\n        'country': 'Italia',\n        'distance': 1896,\n        'formattedAddress': ['Via della Campanella, 4',\n         '00012 Guidonia Montecelio Lazio',\n         'Italia'],\n        'labeledLatLngs': [{'label': 'display',\n          'lat': 41.97234,\n          'lng': 12.75016}],\n        'lat': 41.97234,\n        'lng': 12.75016,\n        'postalCode': '00012',\n        'state': 'Lazio'},\n       'name': 'Spiridigliozzi',\n       'photos': {'count': 0, 'groups': []}}},\n     {'reasons': {'count': 0,\n       'items': [{'reasonName': 'globalInteractionReason',\n         'summary': 'This spot is popular',\n         'type': 'general'}]},\n      'referralId': 'e-0-50389291e4b0b35a2504133d-3',\n      'venue': {'categories': [{'icon': {'prefix': 'https://ss3.4sqi.net/img/categories_v2/parks_outdoors/plaza_',\n          'suffix': '.png'},\n         'id': '4bf58dd8d48988d164941735',\n         'name': 'Plaza',\n         'pluralName': 'Plazas',\n         'primary': True,\n         'shortName': 'Plaza'}],\n       'id': '50389291e4b0b35a2504133d',\n       'location': {'cc': 'IT',\n        'country': 'Italia',\n        'distance': 1911,\n        'formattedAddress': ['Italia'],\n        'labeledLatLngs': [{'label': 'display',\n          'lat': 41.963788671831225,\n          'lng': 12.755968231030748}],\n        'lat': 41.963788671831225,\n        'lng': 12.755968231030748},\n       'name': 'piazza villanova',\n       'photos': {'count': 0, 'groups': []}}}],\n    'name': 'recommended',\n    'type': 'Recommended Places'}],\n  'headerFullLocation': 'Current map view',\n  'headerLocation': 'Current map view',\n  'headerLocationGranularity': 'unknown',\n  'suggestedBounds': {'ne': {'lat': 41.99368190600007,\n    'lng': 12.796793280749378},\n   'sw': {'lat': 41.95768187000004, 'lng': 12.748459369250687}},\n  'totalResults': 4}}"
                    }, 
                    "execution_count": 63, 
                    "metadata": {}
                }
            ], 
            "execution_count": 63
        }, 
        {
            "source": "From the results, the necessary information needs to be obtained from items key. To do this, the get_category_type function is used from the Foursquare lab.", 
            "cell_type": "markdown", 
            "metadata": {}
        }, 
        {
            "source": "def get_category_type(row):\n    try:\n        categories_list = row['categories']\n    except:\n        categories_list = row['venue.categories']\n        \n    if len(categories_list) == 0:\n        return None\n    else:\n        return categories_list[0]['name']", 
            "cell_type": "code", 
            "metadata": {}, 
            "outputs": [], 
            "execution_count": 64
        }, 
        {
            "source": "#### The result is then cleaned up from json to a structured pandas dataframe as shown below:", 
            "cell_type": "markdown", 
            "metadata": {}
        }, 
        {
            "source": "venues = results['response']['groups'][0]['items']\n    \nnearby_venues = json_normalize(venues) \n\n\nfiltered_columns = ['venue.name', 'venue.categories', 'venue.location.lat', 'venue.location.lng']\nnearby_venues =nearby_venues.loc[:, filtered_columns]\n\n\nnearby_venues['venue.categories'] = nearby_venues.apply(get_category_type, axis=1)\n\n\nnearby_venues.columns = [col.split(\".\")[-1] for col in nearby_venues.columns]", 
            "cell_type": "code", 
            "metadata": {}, 
            "outputs": [], 
            "execution_count": 65
        }, 
        {
            "source": "nearby_venues", 
            "cell_type": "code", 
            "metadata": {}, 
            "outputs": [
                {
                    "output_type": "execute_result", 
                    "data": {
                        "text/plain": "               name                  categories        lat        lng\n0  Carrefour Market                 Supermarket  41.967858  12.757551\n1       villa ulpia          Italian Restaurant  41.974702  12.782430\n2    Spiridigliozzi  Construction & Landscaping  41.972340  12.750160\n3  piazza villanova                       Plaza  41.963789  12.755968", 
                        "text/html": "<div>\n<style scoped>\n    .dataframe tbody tr th:only-of-type {\n        vertical-align: middle;\n    }\n\n    .dataframe tbody tr th {\n        vertical-align: top;\n    }\n\n    .dataframe thead th {\n        text-align: right;\n    }\n</style>\n<table border=\"1\" class=\"dataframe\">\n  <thead>\n    <tr style=\"text-align: right;\">\n      <th></th>\n      <th>name</th>\n      <th>categories</th>\n      <th>lat</th>\n      <th>lng</th>\n    </tr>\n  </thead>\n  <tbody>\n    <tr>\n      <th>0</th>\n      <td>Carrefour Market</td>\n      <td>Supermarket</td>\n      <td>41.967858</td>\n      <td>12.757551</td>\n    </tr>\n    <tr>\n      <th>1</th>\n      <td>villa ulpia</td>\n      <td>Italian Restaurant</td>\n      <td>41.974702</td>\n      <td>12.782430</td>\n    </tr>\n    <tr>\n      <th>2</th>\n      <td>Spiridigliozzi</td>\n      <td>Construction &amp; Landscaping</td>\n      <td>41.972340</td>\n      <td>12.750160</td>\n    </tr>\n    <tr>\n      <th>3</th>\n      <td>piazza villanova</td>\n      <td>Plaza</td>\n      <td>41.963789</td>\n      <td>12.755968</td>\n    </tr>\n  </tbody>\n</table>\n</div>"
                    }, 
                    "execution_count": 66, 
                    "metadata": {}
                }
            ], 
            "execution_count": 66
        }, 
        {
            "source": "nearby_venues_Rome_unique = nearby_venues['categories'].value_counts().to_frame(name='Count')", 
            "cell_type": "code", 
            "metadata": {}, 
            "outputs": [], 
            "execution_count": 67
        }, 
        {
            "source": "nearby_venues_Rome_unique.head(5)", 
            "cell_type": "code", 
            "metadata": {}, 
            "outputs": [
                {
                    "output_type": "execute_result", 
                    "data": {
                        "text/plain": "                            Count\nItalian Restaurant              1\nConstruction & Landscaping      1\nPlaza                           1\nSupermarket                     1", 
                        "text/html": "<div>\n<style scoped>\n    .dataframe tbody tr th:only-of-type {\n        vertical-align: middle;\n    }\n\n    .dataframe tbody tr th {\n        vertical-align: top;\n    }\n\n    .dataframe thead th {\n        text-align: right;\n    }\n</style>\n<table border=\"1\" class=\"dataframe\">\n  <thead>\n    <tr style=\"text-align: right;\">\n      <th></th>\n      <th>Count</th>\n    </tr>\n  </thead>\n  <tbody>\n    <tr>\n      <th>Italian Restaurant</th>\n      <td>1</td>\n    </tr>\n    <tr>\n      <th>Construction &amp; Landscaping</th>\n      <td>1</td>\n    </tr>\n    <tr>\n      <th>Plaza</th>\n      <td>1</td>\n    </tr>\n    <tr>\n      <th>Supermarket</th>\n      <td>1</td>\n    </tr>\n  </tbody>\n</table>\n</div>"
                    }, 
                    "execution_count": 68, 
                    "metadata": {}
                }
            ], 
            "execution_count": 68
        }, 
        {
            "source": "Interestingly, even though there are restaurants are the Rome area, they are not even in the top 5 venues. It should be noted that since we are limited by data availability, our perspectives will be on what we have.", 
            "cell_type": "markdown", 
            "metadata": {}
        }, 
        {
            "source": "print('{} venues were returned by Foursquare.'.format(nearby_venues.shape[0]))", 
            "cell_type": "code", 
            "metadata": {}, 
            "outputs": [
                {
                    "output_type": "stream", 
                    "name": "stdout", 
                    "text": "4 venues were returned by Foursquare.\n"
                }
            ], 
            "execution_count": 69
        }, 
        {
            "source": "### 3.1.2 Multiple Neighbourhoods", 
            "cell_type": "markdown", 
            "metadata": {}
        }, 
        {
            "source": "explore (Multiple) Neighborhoods in Rome City", 
            "cell_type": "markdown", 
            "metadata": {}
        }, 
        {
            "source": "def getNearbyVenues(names, latitudes, longitudes, radius=2000):\n    \n    venues_list=[]\n    for name, lat, lng in zip(names, latitudes, longitudes):\n        print(name)\n            \n        # create the API request URL\n        url = 'https://api.foursquare.com/v2/venues/explore?&client_id={}&client_secret={}&v={}&ll={},{}&radius={}&limit={}'.format(\n            CLIENT_ID, \n            CLIENT_SECRET, \n            VERSION, \n            lat, \n            lng, \n            radius, \n            LIMIT)\n            \n        # make the GET request\n        results = requests.get(url).json()[\"response\"]['groups'][0]['items']\n        \n        # return only relevant information for each nearby venue\n        venues_list.append([(\n            name, \n            lat, \n            lng, \n            v['venue']['name'], \n            v['venue']['location']['lat'], \n            v['venue']['location']['lng'],  \n            v['venue']['categories'][0]['name']) for v in results])\n\n    nearby_venues = pd.DataFrame([item for venue_list in venues_list for item in venue_list])\n    nearby_venues.columns = ['Neighbourhood', \n                  'Neighbourhood Latitude', \n                  'Neighbourhood Longitude', \n                  'Venue', \n                  'Venue Latitude', \n                  'Venue Longitude', \n                  'Venue Category']\n    \n    return(nearby_venues)", 
            "cell_type": "code", 
            "metadata": {}, 
            "outputs": [], 
            "execution_count": 70
        }, 
        {
            "source": "La_venues = getNearbyVenues(names=La_df['City'],\n                                   latitudes=La_df['Latitude'],\n                                   longitudes=La_df['Longitude']\n                                  )", 
            "cell_type": "code", 
            "metadata": {}, 
            "outputs": [
                {
                    "output_type": "stream", 
                    "name": "stdout", 
                    "text": "Rome\nLatina\nGuidonia Montecelio\nFiumicino\nAprilia\nViterbo\nPomezia\nTivoli\nAnzio\nVelletri\nCivitavecchia\n"
                }
            ], 
            "execution_count": 71
        }, 
        {
            "source": "La_venues.shape", 
            "cell_type": "code", 
            "metadata": {}, 
            "outputs": [
                {
                    "output_type": "execute_result", 
                    "data": {
                        "text/plain": "(44, 7)"
                    }, 
                    "execution_count": 72, 
                    "metadata": {}
                }
            ], 
            "execution_count": 72
        }, 
        {
            "source": "len(La_venues)", 
            "cell_type": "code", 
            "metadata": {}, 
            "outputs": [
                {
                    "output_type": "execute_result", 
                    "data": {
                        "text/plain": "44"
                    }, 
                    "execution_count": 73, 
                    "metadata": {}
                }
            ], 
            "execution_count": 73
        }, 
        {
            "source": "La_venues['Neighbourhood'].value_counts()\nLa_venues.to_csv('La_venues.csv')", 
            "cell_type": "code", 
            "metadata": {}, 
            "outputs": [], 
            "execution_count": 74
        }, 
        {
            "source": "La_venues.head(5)", 
            "cell_type": "code", 
            "metadata": {}, 
            "outputs": [
                {
                    "output_type": "execute_result", 
                    "data": {
                        "text/plain": "  Neighbourhood  Neighbourhood Latitude  Neighbourhood Longitude  \\\n0          Rome               41.975682                12.772626   \n1          Rome               41.975682                12.772626   \n2          Rome               41.975682                12.772626   \n3          Rome               41.975682                12.772626   \n4        Latina               41.975682                12.772626   \n\n              Venue  Venue Latitude  Venue Longitude  \\\n0  Carrefour Market       41.967858        12.757551   \n1       villa ulpia       41.974702        12.782430   \n2    Spiridigliozzi       41.972340        12.750160   \n3  piazza villanova       41.963789        12.755968   \n4  Carrefour Market       41.967858        12.757551   \n\n               Venue Category  \n0                 Supermarket  \n1          Italian Restaurant  \n2  Construction & Landscaping  \n3                       Plaza  \n4                 Supermarket  ", 
                        "text/html": "<div>\n<style scoped>\n    .dataframe tbody tr th:only-of-type {\n        vertical-align: middle;\n    }\n\n    .dataframe tbody tr th {\n        vertical-align: top;\n    }\n\n    .dataframe thead th {\n        text-align: right;\n    }\n</style>\n<table border=\"1\" class=\"dataframe\">\n  <thead>\n    <tr style=\"text-align: right;\">\n      <th></th>\n      <th>Neighbourhood</th>\n      <th>Neighbourhood Latitude</th>\n      <th>Neighbourhood Longitude</th>\n      <th>Venue</th>\n      <th>Venue Latitude</th>\n      <th>Venue Longitude</th>\n      <th>Venue Category</th>\n    </tr>\n  </thead>\n  <tbody>\n    <tr>\n      <th>0</th>\n      <td>Rome</td>\n      <td>41.975682</td>\n      <td>12.772626</td>\n      <td>Carrefour Market</td>\n      <td>41.967858</td>\n      <td>12.757551</td>\n      <td>Supermarket</td>\n    </tr>\n    <tr>\n      <th>1</th>\n      <td>Rome</td>\n      <td>41.975682</td>\n      <td>12.772626</td>\n      <td>villa ulpia</td>\n      <td>41.974702</td>\n      <td>12.782430</td>\n      <td>Italian Restaurant</td>\n    </tr>\n    <tr>\n      <th>2</th>\n      <td>Rome</td>\n      <td>41.975682</td>\n      <td>12.772626</td>\n      <td>Spiridigliozzi</td>\n      <td>41.972340</td>\n      <td>12.750160</td>\n      <td>Construction &amp; Landscaping</td>\n    </tr>\n    <tr>\n      <th>3</th>\n      <td>Rome</td>\n      <td>41.975682</td>\n      <td>12.772626</td>\n      <td>piazza villanova</td>\n      <td>41.963789</td>\n      <td>12.755968</td>\n      <td>Plaza</td>\n    </tr>\n    <tr>\n      <th>4</th>\n      <td>Latina</td>\n      <td>41.975682</td>\n      <td>12.772626</td>\n      <td>Carrefour Market</td>\n      <td>41.967858</td>\n      <td>12.757551</td>\n      <td>Supermarket</td>\n    </tr>\n  </tbody>\n</table>\n</div>"
                    }, 
                    "execution_count": 75, 
                    "metadata": {}
                }
            ], 
            "execution_count": 75
        }, 
        {
            "source": "#### The number of venues returned for each neighbourhoods is then explored as follows:", 
            "cell_type": "markdown", 
            "metadata": {}
        }, 
        {
            "source": "La_venues.groupby('Neighbourhood').count()", 
            "cell_type": "code", 
            "metadata": {}, 
            "outputs": [
                {
                    "output_type": "execute_result", 
                    "data": {
                        "text/plain": "                     Neighbourhood Latitude  Neighbourhood Longitude  Venue  \\\nNeighbourhood                                                                 \nAnzio                                     4                        4      4   \nAprilia                                   4                        4      4   \nCivitavecchia                             4                        4      4   \nFiumicino                                 4                        4      4   \nGuidonia Montecelio                       4                        4      4   \nLatina                                    4                        4      4   \nPomezia                                   4                        4      4   \nRome                                      4                        4      4   \nTivoli                                    4                        4      4   \nVelletri                                  4                        4      4   \nViterbo                                   4                        4      4   \n\n                     Venue Latitude  Venue Longitude  Venue Category  \nNeighbourhood                                                         \nAnzio                             4                4               4  \nAprilia                           4                4               4  \nCivitavecchia                     4                4               4  \nFiumicino                         4                4               4  \nGuidonia Montecelio               4                4               4  \nLatina                            4                4               4  \nPomezia                           4                4               4  \nRome                              4                4               4  \nTivoli                            4                4               4  \nVelletri                          4                4               4  \nViterbo                           4                4               4  ", 
                        "text/html": "<div>\n<style scoped>\n    .dataframe tbody tr th:only-of-type {\n        vertical-align: middle;\n    }\n\n    .dataframe tbody tr th {\n        vertical-align: top;\n    }\n\n    .dataframe thead th {\n        text-align: right;\n    }\n</style>\n<table border=\"1\" class=\"dataframe\">\n  <thead>\n    <tr style=\"text-align: right;\">\n      <th></th>\n      <th>Neighbourhood Latitude</th>\n      <th>Neighbourhood Longitude</th>\n      <th>Venue</th>\n      <th>Venue Latitude</th>\n      <th>Venue Longitude</th>\n      <th>Venue Category</th>\n    </tr>\n    <tr>\n      <th>Neighbourhood</th>\n      <th></th>\n      <th></th>\n      <th></th>\n      <th></th>\n      <th></th>\n      <th></th>\n    </tr>\n  </thead>\n  <tbody>\n    <tr>\n      <th>Anzio</th>\n      <td>4</td>\n      <td>4</td>\n      <td>4</td>\n      <td>4</td>\n      <td>4</td>\n      <td>4</td>\n    </tr>\n    <tr>\n      <th>Aprilia</th>\n      <td>4</td>\n      <td>4</td>\n      <td>4</td>\n      <td>4</td>\n      <td>4</td>\n      <td>4</td>\n    </tr>\n    <tr>\n      <th>Civitavecchia</th>\n      <td>4</td>\n      <td>4</td>\n      <td>4</td>\n      <td>4</td>\n      <td>4</td>\n      <td>4</td>\n    </tr>\n    <tr>\n      <th>Fiumicino</th>\n      <td>4</td>\n      <td>4</td>\n      <td>4</td>\n      <td>4</td>\n      <td>4</td>\n      <td>4</td>\n    </tr>\n    <tr>\n      <th>Guidonia Montecelio</th>\n      <td>4</td>\n      <td>4</td>\n      <td>4</td>\n      <td>4</td>\n      <td>4</td>\n      <td>4</td>\n    </tr>\n    <tr>\n      <th>Latina</th>\n      <td>4</td>\n      <td>4</td>\n      <td>4</td>\n      <td>4</td>\n      <td>4</td>\n      <td>4</td>\n    </tr>\n    <tr>\n      <th>Pomezia</th>\n      <td>4</td>\n      <td>4</td>\n      <td>4</td>\n      <td>4</td>\n      <td>4</td>\n      <td>4</td>\n    </tr>\n    <tr>\n      <th>Rome</th>\n      <td>4</td>\n      <td>4</td>\n      <td>4</td>\n      <td>4</td>\n      <td>4</td>\n      <td>4</td>\n    </tr>\n    <tr>\n      <th>Tivoli</th>\n      <td>4</td>\n      <td>4</td>\n      <td>4</td>\n      <td>4</td>\n      <td>4</td>\n      <td>4</td>\n    </tr>\n    <tr>\n      <th>Velletri</th>\n      <td>4</td>\n      <td>4</td>\n      <td>4</td>\n      <td>4</td>\n      <td>4</td>\n      <td>4</td>\n    </tr>\n    <tr>\n      <th>Viterbo</th>\n      <td>4</td>\n      <td>4</td>\n      <td>4</td>\n      <td>4</td>\n      <td>4</td>\n      <td>4</td>\n    </tr>\n  </tbody>\n</table>\n</div>"
                    }, 
                    "execution_count": 76, 
                    "metadata": {}
                }
            ], 
            "execution_count": 76
        }, 
        {
            "source": "The next step is to check how many unique categories can be returned for the venues. See as follows:", 
            "cell_type": "markdown", 
            "metadata": {}
        }, 
        {
            "source": "print('There are {} uniques categories.'.format(len(La_venues['Venue Category'].unique())))", 
            "cell_type": "code", 
            "metadata": {}, 
            "outputs": [
                {
                    "output_type": "stream", 
                    "name": "stdout", 
                    "text": "There are 4 uniques categories.\n"
                }
            ], 
            "execution_count": 77
        }, 
        {
            "source": "La_venue_unique_count = La_venues['Venue Category'].value_counts().to_frame(name='Count')", 
            "cell_type": "code", 
            "metadata": {}, 
            "outputs": [], 
            "execution_count": 78
        }, 
        {
            "source": "La_venue_unique_count.head(5)", 
            "cell_type": "code", 
            "metadata": {}, 
            "outputs": [
                {
                    "output_type": "execute_result", 
                    "data": {
                        "text/plain": "                            Count\nItalian Restaurant             11\nConstruction & Landscaping     11\nPlaza                          11\nSupermarket                    11", 
                        "text/html": "<div>\n<style scoped>\n    .dataframe tbody tr th:only-of-type {\n        vertical-align: middle;\n    }\n\n    .dataframe tbody tr th {\n        vertical-align: top;\n    }\n\n    .dataframe thead th {\n        text-align: right;\n    }\n</style>\n<table border=\"1\" class=\"dataframe\">\n  <thead>\n    <tr style=\"text-align: right;\">\n      <th></th>\n      <th>Count</th>\n    </tr>\n  </thead>\n  <tbody>\n    <tr>\n      <th>Italian Restaurant</th>\n      <td>11</td>\n    </tr>\n    <tr>\n      <th>Construction &amp; Landscaping</th>\n      <td>11</td>\n    </tr>\n    <tr>\n      <th>Plaza</th>\n      <td>11</td>\n    </tr>\n    <tr>\n      <th>Supermarket</th>\n      <td>11</td>\n    </tr>\n  </tbody>\n</table>\n</div>"
                    }, 
                    "execution_count": 79, 
                    "metadata": {}
                }
            ], 
            "execution_count": 79
        }, 
        {
            "source": "La_venue_unique_count.describe()", 
            "cell_type": "code", 
            "metadata": {}, 
            "outputs": [
                {
                    "output_type": "execute_result", 
                    "data": {
                        "text/plain": "       Count\ncount    4.0\nmean    11.0\nstd      0.0\nmin     11.0\n25%     11.0\n50%     11.0\n75%     11.0\nmax     11.0", 
                        "text/html": "<div>\n<style scoped>\n    .dataframe tbody tr th:only-of-type {\n        vertical-align: middle;\n    }\n\n    .dataframe tbody tr th {\n        vertical-align: top;\n    }\n\n    .dataframe thead th {\n        text-align: right;\n    }\n</style>\n<table border=\"1\" class=\"dataframe\">\n  <thead>\n    <tr style=\"text-align: right;\">\n      <th></th>\n      <th>Count</th>\n    </tr>\n  </thead>\n  <tbody>\n    <tr>\n      <th>count</th>\n      <td>4.0</td>\n    </tr>\n    <tr>\n      <th>mean</th>\n      <td>11.0</td>\n    </tr>\n    <tr>\n      <th>std</th>\n      <td>0.0</td>\n    </tr>\n    <tr>\n      <th>min</th>\n      <td>11.0</td>\n    </tr>\n    <tr>\n      <th>25%</th>\n      <td>11.0</td>\n    </tr>\n    <tr>\n      <th>50%</th>\n      <td>11.0</td>\n    </tr>\n    <tr>\n      <th>75%</th>\n      <td>11.0</td>\n    </tr>\n    <tr>\n      <th>max</th>\n      <td>11.0</td>\n    </tr>\n  </tbody>\n</table>\n</div>"
                    }, 
                    "execution_count": 80, 
                    "metadata": {}
                }
            ], 
            "execution_count": 80
        }, 
        {
            "source": "### 3.2 Clustering ", 
            "cell_type": "markdown", 
            "metadata": {}
        }, 
        {
            "source": " clustered based on the processed data obtained above.", 
            "cell_type": "markdown", 
            "metadata": {}
        }, 
        {
            "source": "#### 3.2.1 Libraries", 
            "cell_type": "markdown", 
            "metadata": {}
        }, 
        {
            "source": "All the necessary libraries have been called in the libraries section above.", 
            "cell_type": "markdown", 
            "metadata": {}
        }, 
        {
            "source": "#### 3.2.2 Map Visualization", 
            "cell_type": "markdown", 
            "metadata": {}
        }, 
        {
            "source": "address = 'Lazio, Italy'\n\ngeolocator = Nominatim(user_agent=\"ln_explorer\")\nlocation = geolocator.geocode(address)\nlatitude = location.latitude\nlongitude = location.longitude\nprint('The geograpical coordinate of Lazio are {}, {}.'.format(latitude, longitude))", 
            "cell_type": "code", 
            "metadata": {}, 
            "outputs": [
                {
                    "output_type": "stream", 
                    "name": "stdout", 
                    "text": "The geograpical coordinate of Lazio are 41.9808038, 12.7662312.\n"
                }
            ], 
            "execution_count": 82
        }, 
        {
            "source": "map_Lazio = folium.Map(location = [latitude, longitude], zoom_start = 12)\nmap_Lazio", 
            "cell_type": "code", 
            "metadata": {}, 
            "outputs": [
                {
                    "output_type": "execute_result", 
                    "data": {
                        "text/plain": "<folium.folium.Map at 0x7f65a6330390>", 
                        "text/html": "<div style=\"width:100%;\"><div style=\"position:relative;width:100%;height:0;padding-bottom:60%;\"><iframe src=\"data:text/html;charset=utf-8;base64,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\" style=\"position:absolute;width:100%;height:100%;left:0;top:0;border:none !important;\" allowfullscreen webkitallowfullscreen mozallowfullscreen></iframe></div></div>"
                    }, 
                    "execution_count": 83, 
                    "metadata": {}
                }
            ], 
            "execution_count": 83
        }, 
        {
            "source": "\n# Adding markers to map\nfor lat, lng, City, loc in zip(La_df['Latitude'], \n                                  La_df['Longitude'],\n                                  La_df['City'],\n                                  La_df['Region']):\n    label = '{} - {}'.format(loc, City)\n    label = folium.Popup(label, parse_html=True)\n    folium.CircleMarker(\n        [lat, lng],\n        radius=5,\n        popup=label,\n        color='blue',\n        fill=True,\n        fill_color='#3186cc',\n        fill_opacity=0.7).add_to(map_Lazio)  \n    \ndisplay(map_Lazio)", 
            "cell_type": "code", 
            "metadata": {
                "scrolled": true
            }, 
            "outputs": [
                {
                    "output_type": "display_data", 
                    "data": {
                        "text/plain": "<folium.folium.Map at 0x7f65a6330390>", 
                        "text/html": "<div style=\"width:100%;\"><div style=\"position:relative;width:100%;height:0;padding-bottom:60%;\"><iframe src=\"data:text/html;charset=utf-8;base64,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\" style=\"position:absolute;width:100%;height:100%;left:0;top:0;border:none !important;\" allowfullscreen webkitallowfullscreen mozallowfullscreen></iframe></div></div>"
                    }, 
                    "metadata": {}
                }
            ], 
            "execution_count": 89
        }, 
        {
            "source": "type(La_df)", 
            "cell_type": "code", 
            "metadata": {}, 
            "outputs": [
                {
                    "output_type": "execute_result", 
                    "data": {
                        "text/plain": "pandas.core.frame.DataFrame"
                    }, 
                    "execution_count": 90, 
                    "metadata": {}
                }
            ], 
            "execution_count": 90
        }, 
        {
            "source": "### 3.2.3 Analysing Each Neighborhood", 
            "cell_type": "markdown", 
            "metadata": {}
        }, 
        {
            "source": "In this section, the objective is to check and explore the venues in each neighbourhood.", 
            "cell_type": "markdown", 
            "metadata": {}
        }, 
        {
            "source": "### One Hot Encoding", 
            "cell_type": "markdown", 
            "metadata": {}
        }, 
        {
            "source": "La_onehot = pd.get_dummies(La_venues[['Venue Category']], prefix = \"\", prefix_sep = \"\")\nLa_onehot['Neighbourhood'] = La_venues['Neighbourhood']\nfixed_columns = [La_onehot.columns[-1]] + list(La_onehot.columns[:-1])\nLa_onehot = La_onehot[fixed_columns]", 
            "cell_type": "code", 
            "metadata": {}, 
            "outputs": [], 
            "execution_count": 92
        }, 
        {
            "source": "La_onehot.head(5)", 
            "cell_type": "code", 
            "metadata": {}, 
            "outputs": [
                {
                    "output_type": "execute_result", 
                    "data": {
                        "text/plain": "  Neighbourhood  Construction & Landscaping  Italian Restaurant  Plaza  \\\n0          Rome                           0                   0      0   \n1          Rome                           0                   1      0   \n2          Rome                           1                   0      0   \n3          Rome                           0                   0      1   \n4        Latina                           0                   0      0   \n\n   Supermarket  \n0            1  \n1            0  \n2            0  \n3            0  \n4            1  ", 
                        "text/html": "<div>\n<style scoped>\n    .dataframe tbody tr th:only-of-type {\n        vertical-align: middle;\n    }\n\n    .dataframe tbody tr th {\n        vertical-align: top;\n    }\n\n    .dataframe thead th {\n        text-align: right;\n    }\n</style>\n<table border=\"1\" class=\"dataframe\">\n  <thead>\n    <tr style=\"text-align: right;\">\n      <th></th>\n      <th>Neighbourhood</th>\n      <th>Construction &amp; Landscaping</th>\n      <th>Italian Restaurant</th>\n      <th>Plaza</th>\n      <th>Supermarket</th>\n    </tr>\n  </thead>\n  <tbody>\n    <tr>\n      <th>0</th>\n      <td>Rome</td>\n      <td>0</td>\n      <td>0</td>\n      <td>0</td>\n      <td>1</td>\n    </tr>\n    <tr>\n      <th>1</th>\n      <td>Rome</td>\n      <td>0</td>\n      <td>1</td>\n      <td>0</td>\n      <td>0</td>\n    </tr>\n    <tr>\n      <th>2</th>\n      <td>Rome</td>\n      <td>1</td>\n      <td>0</td>\n      <td>0</td>\n      <td>0</td>\n    </tr>\n    <tr>\n      <th>3</th>\n      <td>Rome</td>\n      <td>0</td>\n      <td>0</td>\n      <td>1</td>\n      <td>0</td>\n    </tr>\n    <tr>\n      <th>4</th>\n      <td>Latina</td>\n      <td>0</td>\n      <td>0</td>\n      <td>0</td>\n      <td>1</td>\n    </tr>\n  </tbody>\n</table>\n</div>"
                    }, 
                    "execution_count": 97, 
                    "metadata": {}
                }
            ], 
            "execution_count": 97
        }, 
        {
            "source": "La_onehot.loc[La_onehot['Plaza'] != 0]", 
            "cell_type": "code", 
            "metadata": {}, 
            "outputs": [
                {
                    "output_type": "execute_result", 
                    "data": {
                        "text/plain": "          Neighbourhood  Construction & Landscaping  Italian Restaurant  \\\n3                  Rome                           0                   0   \n7                Latina                           0                   0   \n11  Guidonia Montecelio                           0                   0   \n15            Fiumicino                           0                   0   \n19              Aprilia                           0                   0   \n23              Viterbo                           0                   0   \n27              Pomezia                           0                   0   \n31               Tivoli                           0                   0   \n35                Anzio                           0                   0   \n39             Velletri                           0                   0   \n43        Civitavecchia                           0                   0   \n\n    Plaza  Supermarket  \n3       1            0  \n7       1            0  \n11      1            0  \n15      1            0  \n19      1            0  \n23      1            0  \n27      1            0  \n31      1            0  \n35      1            0  \n39      1            0  \n43      1            0  ", 
                        "text/html": "<div>\n<style scoped>\n    .dataframe tbody tr th:only-of-type {\n        vertical-align: middle;\n    }\n\n    .dataframe tbody tr th {\n        vertical-align: top;\n    }\n\n    .dataframe thead th {\n        text-align: right;\n    }\n</style>\n<table border=\"1\" class=\"dataframe\">\n  <thead>\n    <tr style=\"text-align: right;\">\n      <th></th>\n      <th>Neighbourhood</th>\n      <th>Construction &amp; Landscaping</th>\n      <th>Italian Restaurant</th>\n      <th>Plaza</th>\n      <th>Supermarket</th>\n    </tr>\n  </thead>\n  <tbody>\n    <tr>\n      <th>3</th>\n      <td>Rome</td>\n      <td>0</td>\n      <td>0</td>\n      <td>1</td>\n      <td>0</td>\n    </tr>\n    <tr>\n      <th>7</th>\n      <td>Latina</td>\n      <td>0</td>\n      <td>0</td>\n      <td>1</td>\n      <td>0</td>\n    </tr>\n    <tr>\n      <th>11</th>\n      <td>Guidonia Montecelio</td>\n      <td>0</td>\n      <td>0</td>\n      <td>1</td>\n      <td>0</td>\n    </tr>\n    <tr>\n      <th>15</th>\n      <td>Fiumicino</td>\n      <td>0</td>\n      <td>0</td>\n      <td>1</td>\n      <td>0</td>\n    </tr>\n    <tr>\n      <th>19</th>\n      <td>Aprilia</td>\n      <td>0</td>\n      <td>0</td>\n      <td>1</td>\n      <td>0</td>\n    </tr>\n    <tr>\n      <th>23</th>\n      <td>Viterbo</td>\n      <td>0</td>\n      <td>0</td>\n      <td>1</td>\n      <td>0</td>\n    </tr>\n    <tr>\n      <th>27</th>\n      <td>Pomezia</td>\n      <td>0</td>\n      <td>0</td>\n      <td>1</td>\n      <td>0</td>\n    </tr>\n    <tr>\n      <th>31</th>\n      <td>Tivoli</td>\n      <td>0</td>\n      <td>0</td>\n      <td>1</td>\n      <td>0</td>\n    </tr>\n    <tr>\n      <th>35</th>\n      <td>Anzio</td>\n      <td>0</td>\n      <td>0</td>\n      <td>1</td>\n      <td>0</td>\n    </tr>\n    <tr>\n      <th>39</th>\n      <td>Velletri</td>\n      <td>0</td>\n      <td>0</td>\n      <td>1</td>\n      <td>0</td>\n    </tr>\n    <tr>\n      <th>43</th>\n      <td>Civitavecchia</td>\n      <td>0</td>\n      <td>0</td>\n      <td>1</td>\n      <td>0</td>\n    </tr>\n  </tbody>\n</table>\n</div>"
                    }, 
                    "execution_count": 101, 
                    "metadata": {}
                }
            ], 
            "execution_count": 101
        }, 
        {
            "source": "La_onehot.loc[La_onehot['Neighbourhood'] == 'Rome']", 
            "cell_type": "code", 
            "metadata": {}, 
            "outputs": [
                {
                    "output_type": "execute_result", 
                    "data": {
                        "text/plain": "  Neighbourhood  Construction & Landscaping  Italian Restaurant  Plaza  \\\n0          Rome                           0                   0      0   \n1          Rome                           0                   1      0   \n2          Rome                           1                   0      0   \n3          Rome                           0                   0      1   \n\n   Supermarket  \n0            1  \n1            0  \n2            0  \n3            0  ", 
                        "text/html": "<div>\n<style scoped>\n    .dataframe tbody tr th:only-of-type {\n        vertical-align: middle;\n    }\n\n    .dataframe tbody tr th {\n        vertical-align: top;\n    }\n\n    .dataframe thead th {\n        text-align: right;\n    }\n</style>\n<table border=\"1\" class=\"dataframe\">\n  <thead>\n    <tr style=\"text-align: right;\">\n      <th></th>\n      <th>Neighbourhood</th>\n      <th>Construction &amp; Landscaping</th>\n      <th>Italian Restaurant</th>\n      <th>Plaza</th>\n      <th>Supermarket</th>\n    </tr>\n  </thead>\n  <tbody>\n    <tr>\n      <th>0</th>\n      <td>Rome</td>\n      <td>0</td>\n      <td>0</td>\n      <td>0</td>\n      <td>1</td>\n    </tr>\n    <tr>\n      <th>1</th>\n      <td>Rome</td>\n      <td>0</td>\n      <td>1</td>\n      <td>0</td>\n      <td>0</td>\n    </tr>\n    <tr>\n      <th>2</th>\n      <td>Rome</td>\n      <td>1</td>\n      <td>0</td>\n      <td>0</td>\n      <td>0</td>\n    </tr>\n    <tr>\n      <th>3</th>\n      <td>Rome</td>\n      <td>0</td>\n      <td>0</td>\n      <td>1</td>\n      <td>0</td>\n    </tr>\n  </tbody>\n</table>\n</div>"
                    }, 
                    "execution_count": 102, 
                    "metadata": {}
                }
            ], 
            "execution_count": 102
        }, 
        {
            "source": "### Regrouping and Category Statistics", 
            "cell_type": "markdown", 
            "metadata": {}
        }, 
        {
            "source": "La_grouped = La_onehot.groupby('Neighbourhood').mean().reset_index()\nLa_grouped.head()", 
            "cell_type": "code", 
            "metadata": {}, 
            "outputs": [
                {
                    "output_type": "execute_result", 
                    "data": {
                        "text/plain": "         Neighbourhood  Construction & Landscaping  Italian Restaurant  Plaza  \\\n0                Anzio                        0.25                0.25   0.25   \n1              Aprilia                        0.25                0.25   0.25   \n2        Civitavecchia                        0.25                0.25   0.25   \n3            Fiumicino                        0.25                0.25   0.25   \n4  Guidonia Montecelio                        0.25                0.25   0.25   \n\n   Supermarket  \n0         0.25  \n1         0.25  \n2         0.25  \n3         0.25  \n4         0.25  ", 
                        "text/html": "<div>\n<style scoped>\n    .dataframe tbody tr th:only-of-type {\n        vertical-align: middle;\n    }\n\n    .dataframe tbody tr th {\n        vertical-align: top;\n    }\n\n    .dataframe thead th {\n        text-align: right;\n    }\n</style>\n<table border=\"1\" class=\"dataframe\">\n  <thead>\n    <tr style=\"text-align: right;\">\n      <th></th>\n      <th>Neighbourhood</th>\n      <th>Construction &amp; Landscaping</th>\n      <th>Italian Restaurant</th>\n      <th>Plaza</th>\n      <th>Supermarket</th>\n    </tr>\n  </thead>\n  <tbody>\n    <tr>\n      <th>0</th>\n      <td>Anzio</td>\n      <td>0.25</td>\n      <td>0.25</td>\n      <td>0.25</td>\n      <td>0.25</td>\n    </tr>\n    <tr>\n      <th>1</th>\n      <td>Aprilia</td>\n      <td>0.25</td>\n      <td>0.25</td>\n      <td>0.25</td>\n      <td>0.25</td>\n    </tr>\n    <tr>\n      <th>2</th>\n      <td>Civitavecchia</td>\n      <td>0.25</td>\n      <td>0.25</td>\n      <td>0.25</td>\n      <td>0.25</td>\n    </tr>\n    <tr>\n      <th>3</th>\n      <td>Fiumicino</td>\n      <td>0.25</td>\n      <td>0.25</td>\n      <td>0.25</td>\n      <td>0.25</td>\n    </tr>\n    <tr>\n      <th>4</th>\n      <td>Guidonia Montecelio</td>\n      <td>0.25</td>\n      <td>0.25</td>\n      <td>0.25</td>\n      <td>0.25</td>\n    </tr>\n  </tbody>\n</table>\n</div>"
                    }, 
                    "execution_count": 103, 
                    "metadata": {}
                }
            ], 
            "execution_count": 103
        }, 
        {
            "source": "print(\"Before One-hot encoding:\", La_df.shape)\nprint(\"After One-hot encoding:\", La_grouped.shape)", 
            "cell_type": "code", 
            "metadata": {}, 
            "outputs": [
                {
                    "output_type": "stream", 
                    "name": "stdout", 
                    "text": "Before One-hot encoding: (11, 5)\nAfter One-hot encoding: (11, 5)\n"
                }
            ], 
            "execution_count": 104
        }, 
        {
            "source": "\nLa_grouped.to_csv('lazio_grouped.csv', index = False)", 
            "cell_type": "code", 
            "metadata": {}, 
            "outputs": [], 
            "execution_count": 105
        }, 
        {
            "source": "##### Grouping of each Neighbourhoods with 10 common venues:", 
            "cell_type": "markdown", 
            "metadata": {}
        }, 
        {
            "source": "num_top_venues = 10 \nfor hood in La_grouped['Neighbourhood']:\n    print(\"----\"+hood+\"----\")\n    temp = La_grouped[La_grouped['Neighbourhood'] == hood].T.reset_index()\n    temp.columns = ['venue', 'freq']\n    temp = temp.iloc[1:]\n    temp['freq'] = temp['freq'].astype(float)\n    temp = temp.round({'freq': 2})\n    print(temp.sort_values('freq', ascending = False).reset_index(drop = True).head(num_top_venues))\n    print('\\n')", 
            "cell_type": "code", 
            "metadata": {}, 
            "outputs": [
                {
                    "output_type": "stream", 
                    "name": "stdout", 
                    "text": "----Anzio----\n                        venue  freq\n0  Construction & Landscaping  0.25\n1          Italian Restaurant  0.25\n2                       Plaza  0.25\n3                 Supermarket  0.25\n\n\n----Aprilia----\n                        venue  freq\n0  Construction & Landscaping  0.25\n1          Italian Restaurant  0.25\n2                       Plaza  0.25\n3                 Supermarket  0.25\n\n\n----Civitavecchia----\n                        venue  freq\n0  Construction & Landscaping  0.25\n1          Italian Restaurant  0.25\n2                       Plaza  0.25\n3                 Supermarket  0.25\n\n\n----Fiumicino----\n                        venue  freq\n0  Construction & Landscaping  0.25\n1          Italian Restaurant  0.25\n2                       Plaza  0.25\n3                 Supermarket  0.25\n\n\n----Guidonia Montecelio----\n                        venue  freq\n0  Construction & Landscaping  0.25\n1          Italian Restaurant  0.25\n2                       Plaza  0.25\n3                 Supermarket  0.25\n\n\n----Latina----\n                        venue  freq\n0  Construction & Landscaping  0.25\n1          Italian Restaurant  0.25\n2                       Plaza  0.25\n3                 Supermarket  0.25\n\n\n----Pomezia----\n                        venue  freq\n0  Construction & Landscaping  0.25\n1          Italian Restaurant  0.25\n2                       Plaza  0.25\n3                 Supermarket  0.25\n\n\n----Rome----\n                        venue  freq\n0  Construction & Landscaping  0.25\n1          Italian Restaurant  0.25\n2                       Plaza  0.25\n3                 Supermarket  0.25\n\n\n----Tivoli----\n                        venue  freq\n0  Construction & Landscaping  0.25\n1          Italian Restaurant  0.25\n2                       Plaza  0.25\n3                 Supermarket  0.25\n\n\n----Velletri----\n                        venue  freq\n0  Construction & Landscaping  0.25\n1          Italian Restaurant  0.25\n2                       Plaza  0.25\n3                 Supermarket  0.25\n\n\n----Viterbo----\n                        venue  freq\n0  Construction & Landscaping  0.25\n1          Italian Restaurant  0.25\n2                       Plaza  0.25\n3                 Supermarket  0.25\n\n\n"
                }
            ], 
            "execution_count": 122
        }, 
        {
            "source": "def return_most_common_venues(row, num_top_venues):\n    row_categories = row.iloc[1:]\n    row_categories_sorted = row_categories.sort_values(ascending = False)\n    \n    return row_categories_sorted.index.values[0:num_top_venues]", 
            "cell_type": "code", 
            "metadata": {}, 
            "outputs": [], 
            "execution_count": 124
        }, 
        {
            "source": "num_top_venues = 3\n\nindicators = ['st', 'nd', 'rd']\n\n# create columns according to number of top venues\ncolumns = ['Neighbourhood']\nfor ind in np.arange(num_top_venues):\n    try:\n        columns.append('{}{} Most Common Venue'.format(ind+1, indicators[ind]))\n    except:\n        columns.append('{}th Most Common Venue'.format(ind+1))\n\n# create a new dataframe\nneighbourhoods_venues_sorted = pd.DataFrame(columns=columns)\nneighbourhoods_venues_sorted['Neighbourhood'] = La_grouped['Neighbourhood']\n\nfor ind in np.arange(La_grouped.shape[0]):\n    neighbourhoods_venues_sorted.iloc[ind, 1:] = return_most_common_venues(La_grouped.iloc[ind, :], num_top_venues)", 
            "cell_type": "code", 
            "metadata": {}, 
            "outputs": [], 
            "execution_count": 127
        }, 
        {
            "source": "\nneighbourhoods_venues_sorted.head()", 
            "cell_type": "code", 
            "metadata": {}, 
            "outputs": [
                {
                    "output_type": "execute_result", 
                    "data": {
                        "text/plain": "         Neighbourhood 1st Most Common Venue 2nd Most Common Venue  \\\n0                Anzio           Supermarket                 Plaza   \n1              Aprilia           Supermarket                 Plaza   \n2        Civitavecchia           Supermarket                 Plaza   \n3            Fiumicino           Supermarket                 Plaza   \n4  Guidonia Montecelio           Supermarket                 Plaza   \n\n  3rd Most Common Venue  \n0    Italian Restaurant  \n1    Italian Restaurant  \n2    Italian Restaurant  \n3    Italian Restaurant  \n4    Italian Restaurant  ", 
                        "text/html": "<div>\n<style scoped>\n    .dataframe tbody tr th:only-of-type {\n        vertical-align: middle;\n    }\n\n    .dataframe tbody tr th {\n        vertical-align: top;\n    }\n\n    .dataframe thead th {\n        text-align: right;\n    }\n</style>\n<table border=\"1\" class=\"dataframe\">\n  <thead>\n    <tr style=\"text-align: right;\">\n      <th></th>\n      <th>Neighbourhood</th>\n      <th>1st Most Common Venue</th>\n      <th>2nd Most Common Venue</th>\n      <th>3rd Most Common Venue</th>\n    </tr>\n  </thead>\n  <tbody>\n    <tr>\n      <th>0</th>\n      <td>Anzio</td>\n      <td>Supermarket</td>\n      <td>Plaza</td>\n      <td>Italian Restaurant</td>\n    </tr>\n    <tr>\n      <th>1</th>\n      <td>Aprilia</td>\n      <td>Supermarket</td>\n      <td>Plaza</td>\n      <td>Italian Restaurant</td>\n    </tr>\n    <tr>\n      <th>2</th>\n      <td>Civitavecchia</td>\n      <td>Supermarket</td>\n      <td>Plaza</td>\n      <td>Italian Restaurant</td>\n    </tr>\n    <tr>\n      <th>3</th>\n      <td>Fiumicino</td>\n      <td>Supermarket</td>\n      <td>Plaza</td>\n      <td>Italian Restaurant</td>\n    </tr>\n    <tr>\n      <th>4</th>\n      <td>Guidonia Montecelio</td>\n      <td>Supermarket</td>\n      <td>Plaza</td>\n      <td>Italian Restaurant</td>\n    </tr>\n  </tbody>\n</table>\n</div>"
                    }, 
                    "execution_count": 128, 
                    "metadata": {}
                }
            ], 
            "execution_count": 128
        }, 
        {
            "source": "neighbourhoods_venues_sorted.to_csv('neighbourhoods_venues_sorted.csv', index = False)", 
            "cell_type": "code", 
            "metadata": {}, 
            "outputs": [], 
            "execution_count": 129
        }, 
        {
            "source": "\nLa_grouped_clustering = La_grouped.drop('Neighbourhood', 1)", 
            "cell_type": "code", 
            "metadata": {}, 
            "outputs": [], 
            "execution_count": 130
        }, 
        {
            "source": "### 3.2 Clustering of Neighbourhoods", 
            "cell_type": "markdown", 
            "metadata": {}
        }, 
        {
            "source": "kclusters = 5\n\n\nkmeans = KMeans(n_clusters = kclusters, random_state=0).fit(La_grouped_clustering)\n\n\nkmeans.labels_[0:10]", 
            "cell_type": "code", 
            "metadata": {}, 
            "outputs": [
                {
                    "output_type": "execute_result", 
                    "data": {
                        "text/plain": "array([0, 0, 0, 0, 0, 0, 0, 0, 0, 0], dtype=int32)"
                    }, 
                    "execution_count": 131, 
                    "metadata": {}
                }
            ], 
            "execution_count": 131
        }, 
        {
            "source": "kmeans.labels_[0:10]", 
            "cell_type": "code", 
            "metadata": {}, 
            "outputs": [
                {
                    "output_type": "execute_result", 
                    "data": {
                        "text/plain": "array([0, 0, 0, 0, 0, 0, 0, 0, 0, 0], dtype=int32)"
                    }, 
                    "execution_count": 132, 
                    "metadata": {}
                }
            ], 
            "execution_count": 132
        }, 
        {
            "source": "neighbourhoods_venues_sorted.insert(0, 'Cluster Labels', kmeans.labels_)", 
            "cell_type": "code", 
            "metadata": {}, 
            "outputs": [], 
            "execution_count": 133
        }, 
        {
            "source": "Se_merged = La_df", 
            "cell_type": "code", 
            "metadata": {}, 
            "outputs": [], 
            "execution_count": 146
        }, 
        {
            "source": "Se_merged.head(3)", 
            "cell_type": "code", 
            "metadata": {}, 
            "outputs": [
                {
                    "output_type": "execute_result", 
                    "data": {
                        "text/plain": "  Rank                 City Region   Latitude  Longitude\n0    1                 Rome  Lazio  41.975682  12.772626\n1   32               Latina  Lazio  41.975682  12.772626\n2   58  Guidonia Montecelio  Lazio  41.975682  12.772626", 
                        "text/html": "<div>\n<style scoped>\n    .dataframe tbody tr th:only-of-type {\n        vertical-align: middle;\n    }\n\n    .dataframe tbody tr th {\n        vertical-align: top;\n    }\n\n    .dataframe thead th {\n        text-align: right;\n    }\n</style>\n<table border=\"1\" class=\"dataframe\">\n  <thead>\n    <tr style=\"text-align: right;\">\n      <th></th>\n      <th>Rank</th>\n      <th>City</th>\n      <th>Region</th>\n      <th>Latitude</th>\n      <th>Longitude</th>\n    </tr>\n  </thead>\n  <tbody>\n    <tr>\n      <th>0</th>\n      <td>1</td>\n      <td>Rome</td>\n      <td>Lazio</td>\n      <td>41.975682</td>\n      <td>12.772626</td>\n    </tr>\n    <tr>\n      <th>1</th>\n      <td>32</td>\n      <td>Latina</td>\n      <td>Lazio</td>\n      <td>41.975682</td>\n      <td>12.772626</td>\n    </tr>\n    <tr>\n      <th>2</th>\n      <td>58</td>\n      <td>Guidonia Montecelio</td>\n      <td>Lazio</td>\n      <td>41.975682</td>\n      <td>12.772626</td>\n    </tr>\n  </tbody>\n</table>\n</div>"
                    }, 
                    "execution_count": 147, 
                    "metadata": {}
                }
            ], 
            "execution_count": 147
        }, 
        {
            "source": "Se_merged_latlong = Se_merged.join(neighbourhoods_venues_sorted.set_index('Neighbourhood'), on = 'City')", 
            "cell_type": "code", 
            "metadata": {}, 
            "outputs": [], 
            "execution_count": 155
        }, 
        {
            "source": "Se_merged_latlong.head(5)", 
            "cell_type": "code", 
            "metadata": {}, 
            "outputs": [
                {
                    "output_type": "execute_result", 
                    "data": {
                        "text/plain": "  Rank                 City Region   Latitude  Longitude  Cluster Labels  \\\n0    1                 Rome  Lazio  41.975682  12.772626               0   \n1   32               Latina  Lazio  41.975682  12.772626               0   \n2   58  Guidonia Montecelio  Lazio  41.975682  12.772626               0   \n3   70            Fiumicino  Lazio  41.975682  12.772626               0   \n4   76              Aprilia  Lazio  41.975682  12.772626               0   \n\n  1st Most Common Venue 2nd Most Common Venue 3rd Most Common Venue  \n0           Supermarket                 Plaza    Italian Restaurant  \n1           Supermarket                 Plaza    Italian Restaurant  \n2           Supermarket                 Plaza    Italian Restaurant  \n3           Supermarket                 Plaza    Italian Restaurant  \n4           Supermarket                 Plaza    Italian Restaurant  ", 
                        "text/html": "<div>\n<style scoped>\n    .dataframe tbody tr th:only-of-type {\n        vertical-align: middle;\n    }\n\n    .dataframe tbody tr th {\n        vertical-align: top;\n    }\n\n    .dataframe thead th {\n        text-align: right;\n    }\n</style>\n<table border=\"1\" class=\"dataframe\">\n  <thead>\n    <tr style=\"text-align: right;\">\n      <th></th>\n      <th>Rank</th>\n      <th>City</th>\n      <th>Region</th>\n      <th>Latitude</th>\n      <th>Longitude</th>\n      <th>Cluster Labels</th>\n      <th>1st Most Common Venue</th>\n      <th>2nd Most Common Venue</th>\n      <th>3rd Most Common Venue</th>\n    </tr>\n  </thead>\n  <tbody>\n    <tr>\n      <th>0</th>\n      <td>1</td>\n      <td>Rome</td>\n      <td>Lazio</td>\n      <td>41.975682</td>\n      <td>12.772626</td>\n      <td>0</td>\n      <td>Supermarket</td>\n      <td>Plaza</td>\n      <td>Italian Restaurant</td>\n    </tr>\n    <tr>\n      <th>1</th>\n      <td>32</td>\n      <td>Latina</td>\n      <td>Lazio</td>\n      <td>41.975682</td>\n      <td>12.772626</td>\n      <td>0</td>\n      <td>Supermarket</td>\n      <td>Plaza</td>\n      <td>Italian Restaurant</td>\n    </tr>\n    <tr>\n      <th>2</th>\n      <td>58</td>\n      <td>Guidonia Montecelio</td>\n      <td>Lazio</td>\n      <td>41.975682</td>\n      <td>12.772626</td>\n      <td>0</td>\n      <td>Supermarket</td>\n      <td>Plaza</td>\n      <td>Italian Restaurant</td>\n    </tr>\n    <tr>\n      <th>3</th>\n      <td>70</td>\n      <td>Fiumicino</td>\n      <td>Lazio</td>\n      <td>41.975682</td>\n      <td>12.772626</td>\n      <td>0</td>\n      <td>Supermarket</td>\n      <td>Plaza</td>\n      <td>Italian Restaurant</td>\n    </tr>\n    <tr>\n      <th>4</th>\n      <td>76</td>\n      <td>Aprilia</td>\n      <td>Lazio</td>\n      <td>41.975682</td>\n      <td>12.772626</td>\n      <td>0</td>\n      <td>Supermarket</td>\n      <td>Plaza</td>\n      <td>Italian Restaurant</td>\n    </tr>\n  </tbody>\n</table>\n</div>"
                    }, 
                    "execution_count": 158, 
                    "metadata": {}
                }
            ], 
            "execution_count": 158
        }, 
        {
            "source": "se_clusters = La_merged_latlong", 
            "cell_type": "code", 
            "metadata": {}, 
            "outputs": [], 
            "execution_count": 161
        }, 
        {
            "source": "##### 3.2. Optimal Number of Clusters for K-mean", 
            "cell_type": "markdown", 
            "metadata": {}
        }, 
        {
            "source": "##### 1. Elbow Method", 
            "cell_type": "markdown", 
            "metadata": {}
        }, 
        {
            "source": "%matplotlib inline\nimport matplotlib\nimport numpy as np", 
            "cell_type": "code", 
            "metadata": {}, 
            "outputs": [], 
            "execution_count": 162
        }, 
        {
            "source": "from sklearn.cluster import KMeans\nimport matplotlib.pyplot as plt\n\n\nsse = {}\nfor n_cluster1 in range(2, 10):\n    kmeans1 = KMeans(n_clusters = n_cluster1, max_iter = 500).fit(La_grouped_clustering)\n    La_grouped_clustering[\"clusters\"] = kmeans1.labels_\n    \n   \n    sse[n_cluster1] = kmeans1.inertia_ \nplt.figure()\nplt.plot(list(sse.keys()), list(sse.values()))\nplt.xlabel(\"Number of Clusters, k\")\nplt.ylabel(\"Sum of Squared Error, SSE\")\n\nplt.vlines(3, ymin = -2, ymax = 45, colors = 'red')\nplt.show()", 
            "cell_type": "code", 
            "metadata": {}, 
            "outputs": [
                {
                    "output_type": "display_data", 
                    "data": {
                        "image/png": "[encoded data removed]", 
                        "text/plain": "<matplotlib.figure.Figure at 0x7f65a4046b00>"
                    }, 
                    "metadata": {}
                }
            ], 
            "execution_count": 163
        }, 
        {
            "source": "### 4. Result", 
            "cell_type": "markdown", 
            "metadata": {}
        }, 
        {
            "source": "African Resturant very rarely to find, he will successd ", 
            "cell_type": "markdown", 
            "metadata": {}
        }, 
        {
            "source": "### 5. Discussion and Conclusion", 
            "cell_type": "markdown", 
            "metadata": {}
        }, 
        {
            "source": "In conclusion, this project would have had better results if there were more data in terms of crime data within the area, allowance of more venues exploration with the Foursquare ", 
            "cell_type": "markdown", 
            "metadata": {}
        }, 
        {
            "source": "", 
            "cell_type": "code", 
            "metadata": {}, 
            "outputs": [], 
            "execution_count": null
        }
    ], 
    "metadata": {
        "kernelspec": {
            "display_name": "Python 3.5", 
            "name": "python3", 
            "language": "python"
        }, 
        "language_info": {
            "mimetype": "text/x-python", 
            "nbconvert_exporter": "python", 
            "version": "3.5.5", 
            "name": "python", 
            "pygments_lexer": "ipython3", 
            "file_extension": ".py", 
            "codemirror_mode": {
                "version": 3, 
                "name": "ipython"
            }
        }
    }, 
    "nbformat": 4
}