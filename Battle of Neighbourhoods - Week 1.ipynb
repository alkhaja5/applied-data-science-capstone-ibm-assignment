{
    "nbformat_minor": 1, 
    "cells": [
        {
            "source": "# Battle of Neighbourhoods - Week 1", 
            "cell_type": "markdown", 
            "metadata": {
                "collapsed": true
            }
        }, 
        {
            "source": "\n# Part 1: A description of the problem and a discussion of the background", 
            "cell_type": "markdown", 
            "metadata": {}
        }, 
        {
            "source": "> ### 1.1 Description of the Problem", 
            "cell_type": "markdown", 
            "metadata": {}
        }, 
        {
            "source": "The population of Italy has grown considerably over the last decades. Italy is very diverse. In Africa you can get variety of fresh food from supplies from Africa.\n \nThere are many fine restaurants in Africa \u2013 Asian, Middle Eastern, Latin and American restaurants, it is hard to find a good place to dine in.\n", 
            "cell_type": "markdown", 
            "metadata": {}
        }, 
        {
            "source": "> ### 1.2 Discussion of the Background", 
            "cell_type": "markdown", 
            "metadata": {}
        }, 
        {
            "source": "My client is a successful restaurant chain in Ghana; he is looking to expand operation into EUROP starting in Italy. His target is luxury restaurant\nSince Italy demography has many Regions, My client needs deeper insight from available data in other to decide where to establish first. This company spends a lot on research and provides customers with data insight into the ingredients used at restaurants.\n", 
            "cell_type": "markdown", 
            "metadata": {}
        }, 
        {
            "source": "# Part 2 - A description of the data and how it will be used to solve the problem", 
            "cell_type": "markdown", 
            "metadata": {}
        }, 
        {
            "source": "> ### 2.1 Description of Data", 
            "cell_type": "markdown", 
            "metadata": {}
        }, 
        {
            "source": "\nData will be from public data, Wikipedia and Foursquare.", 
            "cell_type": "markdown", 
            "metadata": {}
        }, 
        {
            "source": "Italy Area consists of many regions which has some specific popular areas < https://en.wikipedia.org/wiki/List_of_cities_in_Italy >", 
            "cell_type": "markdown", 
            "metadata": {}
        }, 
        {
            "source": "#### A sample of the web scrapped of the Wikipedia page ", 
            "cell_type": "markdown", 
            "metadata": {}
        }, 
        {
            "source": "from bs4 import BeautifulSoup\n\n\nimport numpy as np\n\n\nimport pandas as pd\npd.set_option('display.max_columns', None)\npd.set_option('display.max_rows', None)\n\n\nimport json\nprint('numpy, pandas, ..., imported...')\n\n!pip -q install geopy\n\nprint('geopy installed...')\n\nfrom geopy.geocoders import Nominatim\nprint('Nominatim imported...')\n\n\nimport requests\nprint('requests imported...')\n\n\nfrom pandas.io.json import json_normalize\nprint('json_normalize imported...')\n\n\nimport matplotlib.cm as cm\nimport matplotlib.colors as colors\nprint('matplotlib imported...')\n\n\nfrom sklearn.cluster import KMeans\nprint('Kmeans imported...')\n\n\n!pip -q install geocoder\nimport geocoder\n\n\nimport time\n\n\n!pip -q install folium\nprint('folium installed...')\nimport folium # map rendering library\nprint('folium imported...')\nprint('...Done')", 
            "cell_type": "code", 
            "metadata": {}, 
            "outputs": [
                {
                    "output_type": "stream", 
                    "name": "stdout", 
                    "text": "numpy, pandas, ..., imported...\ngeopy installed...\nNominatim imported...\nrequests imported...\njson_normalize imported...\nmatplotlib imported...\nKmeans imported...\nfolium installed...\nfolium imported...\n...Done\n"
                }
            ], 
            "execution_count": 123
        }, 
        {
            "source": "wikipedia_link = 'https://en.wikipedia.org/wiki/List_of_cities_in_Italy'\nheaders = {'User-Agent': 'Mozilla/5.0 (Windows NT 10.0; Win64; x64; rv:64.0) Gecko/20100101 Firefox/64.0'}\nwikipedia_page = requests.get(wikipedia_link, headers = headers)\nwikipedia_page", 
            "cell_type": "code", 
            "metadata": {}, 
            "outputs": [
                {
                    "output_type": "execute_result", 
                    "data": {
                        "text/plain": "<Response [200]>"
                    }, 
                    "execution_count": 124, 
                    "metadata": {}
                }
            ], 
            "execution_count": 124
        }, 
        {
            "source": "soup = BeautifulSoup(wikipedia_page.content, 'html.parser')\ntable = soup.find('table', {'class':'wikitable sortable'}).tbody\nrows = table.find_all('tr')\ncolumns = [i.text.replace('\\n', '')\n           for i in rows[0].find_all('th')]\ndf = pd.DataFrame(columns = columns)\ndf", 
            "cell_type": "code", 
            "metadata": {}, 
            "outputs": [
                {
                    "output_type": "execute_result", 
                    "data": {
                        "text/plain": "Empty DataFrame\nColumns: [Rank, City, 2011 Census, 2017 Estimate, Change, Region]\nIndex: []", 
                        "text/html": "<div>\n<style scoped>\n    .dataframe tbody tr th:only-of-type {\n        vertical-align: middle;\n    }\n\n    .dataframe tbody tr th {\n        vertical-align: top;\n    }\n\n    .dataframe thead th {\n        text-align: right;\n    }\n</style>\n<table border=\"1\" class=\"dataframe\">\n  <thead>\n    <tr style=\"text-align: right;\">\n      <th></th>\n      <th>Rank</th>\n      <th>City</th>\n      <th>2011 Census</th>\n      <th>2017 Estimate</th>\n      <th>Change</th>\n      <th>Region</th>\n    </tr>\n  </thead>\n  <tbody>\n  </tbody>\n</table>\n</div>"
                    }, 
                    "execution_count": 125, 
                    "metadata": {}
                }
            ], 
            "execution_count": 125
        }, 
        {
            "source": "for i in range(1, len(rows)):\n    tds = rows[i].find_all('td')\n    \n    \n    if len(tds) == 7:\n        values = [tds[0].text, tds[1].text, tds[2].text.replace('\\n', ''.replace('\\xa0','')), tds[3].text, tds[4].text.replace('\\n', ''.replace('\\xa0','')), tds[5].text.replace('\\n', ''.replace('\\xa0','')), tds[6].text.replace('\\n', ''.replace('\\xa0',''))]\n    else:\n        values = [td.text.replace('\\n', '').replace('\\xa0','') for td in tds]\n        \n        df = df.append(pd.Series(values, index = columns), ignore_index = True)\n\n        df", 
            "cell_type": "code", 
            "metadata": {}, 
            "outputs": [], 
            "execution_count": 126
        }, 
        {
            "source": "df.head(5)", 
            "cell_type": "code", 
            "metadata": {}, 
            "outputs": [
                {
                    "output_type": "execute_result", 
                    "data": {
                        "text/plain": "  Rank     City 2011 Census 2017 Estimate  Change    Region\n0    1     Rome   2,617,175     2,872,800  +9.77%     Lazio\n1    2    Milan   1,242,123     1,366,180  +9.99%  Lombardy\n2    3   Naples     962,003       966,144  +0.43%  Campania\n3    4    Turin     872,367       882,523  +1.16%  Piedmont\n4    5  Palermo     657,651       668,405  +1.64%    Sicily", 
                        "text/html": "<div>\n<style scoped>\n    .dataframe tbody tr th:only-of-type {\n        vertical-align: middle;\n    }\n\n    .dataframe tbody tr th {\n        vertical-align: top;\n    }\n\n    .dataframe thead th {\n        text-align: right;\n    }\n</style>\n<table border=\"1\" class=\"dataframe\">\n  <thead>\n    <tr style=\"text-align: right;\">\n      <th></th>\n      <th>Rank</th>\n      <th>City</th>\n      <th>2011 Census</th>\n      <th>2017 Estimate</th>\n      <th>Change</th>\n      <th>Region</th>\n    </tr>\n  </thead>\n  <tbody>\n    <tr>\n      <th>0</th>\n      <td>1</td>\n      <td>Rome</td>\n      <td>2,617,175</td>\n      <td>2,872,800</td>\n      <td>+9.77%</td>\n      <td>Lazio</td>\n    </tr>\n    <tr>\n      <th>1</th>\n      <td>2</td>\n      <td>Milan</td>\n      <td>1,242,123</td>\n      <td>1,366,180</td>\n      <td>+9.99%</td>\n      <td>Lombardy</td>\n    </tr>\n    <tr>\n      <th>2</th>\n      <td>3</td>\n      <td>Naples</td>\n      <td>962,003</td>\n      <td>966,144</td>\n      <td>+0.43%</td>\n      <td>Campania</td>\n    </tr>\n    <tr>\n      <th>3</th>\n      <td>4</td>\n      <td>Turin</td>\n      <td>872,367</td>\n      <td>882,523</td>\n      <td>+1.16%</td>\n      <td>Piedmont</td>\n    </tr>\n    <tr>\n      <th>4</th>\n      <td>5</td>\n      <td>Palermo</td>\n      <td>657,651</td>\n      <td>668,405</td>\n      <td>+1.64%</td>\n      <td>Sicily</td>\n    </tr>\n  </tbody>\n</table>\n</div>"
                    }, 
                    "execution_count": 127, 
                    "metadata": {}
                }
            ], 
            "execution_count": 127
        }, 
        {
            "source": "df['City'] = df['City'].map(lambda x: x.rstrip(']').rstrip('0123456789').rstrip('['))", 
            "cell_type": "code", 
            "metadata": {}, 
            "outputs": [], 
            "execution_count": 128
        }, 
        {
            "source": "df0 = df.drop('City', axis=1).join(df['City'].str.split(',', expand=True).stack().reset_index(level=1, drop=True).rename('City'))", 
            "cell_type": "code", 
            "metadata": {}, 
            "outputs": [], 
            "execution_count": 129
        }, 
        {
            "source": "df1 = df0[['Rank', 'City', 'Region']].reset_index(drop=True)", 
            "cell_type": "code", 
            "metadata": {}, 
            "outputs": [], 
            "execution_count": 130
        }, 
        {
            "source": "df1.head(5)", 
            "cell_type": "code", 
            "metadata": {}, 
            "outputs": [
                {
                    "output_type": "execute_result", 
                    "data": {
                        "text/plain": "  Rank     City    Region\n0    1     Rome     Lazio\n1    2    Milan  Lombardy\n2    3   Naples  Campania\n3    4    Turin  Piedmont\n4    5  Palermo    Sicily", 
                        "text/html": "<div>\n<style scoped>\n    .dataframe tbody tr th:only-of-type {\n        vertical-align: middle;\n    }\n\n    .dataframe tbody tr th {\n        vertical-align: top;\n    }\n\n    .dataframe thead th {\n        text-align: right;\n    }\n</style>\n<table border=\"1\" class=\"dataframe\">\n  <thead>\n    <tr style=\"text-align: right;\">\n      <th></th>\n      <th>Rank</th>\n      <th>City</th>\n      <th>Region</th>\n    </tr>\n  </thead>\n  <tbody>\n    <tr>\n      <th>0</th>\n      <td>1</td>\n      <td>Rome</td>\n      <td>Lazio</td>\n    </tr>\n    <tr>\n      <th>1</th>\n      <td>2</td>\n      <td>Milan</td>\n      <td>Lombardy</td>\n    </tr>\n    <tr>\n      <th>2</th>\n      <td>3</td>\n      <td>Naples</td>\n      <td>Campania</td>\n    </tr>\n    <tr>\n      <th>3</th>\n      <td>4</td>\n      <td>Turin</td>\n      <td>Piedmont</td>\n    </tr>\n    <tr>\n      <th>4</th>\n      <td>5</td>\n      <td>Palermo</td>\n      <td>Sicily</td>\n    </tr>\n  </tbody>\n</table>\n</div>"
                    }, 
                    "execution_count": 131, 
                    "metadata": {}
                }
            ], 
            "execution_count": 131
        }, 
        {
            "source": "df2 = df1", 
            "cell_type": "code", 
            "metadata": {}, 
            "outputs": [], 
            "execution_count": 132
        }, 
        {
            "source": "df21 = df2[df2['Region'].str.contains('Lazio')]", 
            "cell_type": "code", 
            "metadata": {}, 
            "outputs": [], 
            "execution_count": 133
        }, 
        {
            "source": "df21.head(10)", 
            "cell_type": "code", 
            "metadata": {}, 
            "outputs": [
                {
                    "output_type": "execute_result", 
                    "data": {
                        "text/plain": "    Rank                 City Region\n0      1                 Rome  Lazio\n31    32               Latina  Lazio\n57    58  Guidonia Montecelio  Lazio\n69    70            Fiumicino  Lazio\n75    76              Aprilia  Lazio\n87    88              Viterbo  Lazio\n94    95              Pomezia  Lazio\n114  115               Tivoli  Lazio\n120  121                Anzio  Lazio\n129  130             Velletri  Lazio", 
                        "text/html": "<div>\n<style scoped>\n    .dataframe tbody tr th:only-of-type {\n        vertical-align: middle;\n    }\n\n    .dataframe tbody tr th {\n        vertical-align: top;\n    }\n\n    .dataframe thead th {\n        text-align: right;\n    }\n</style>\n<table border=\"1\" class=\"dataframe\">\n  <thead>\n    <tr style=\"text-align: right;\">\n      <th></th>\n      <th>Rank</th>\n      <th>City</th>\n      <th>Region</th>\n    </tr>\n  </thead>\n  <tbody>\n    <tr>\n      <th>0</th>\n      <td>1</td>\n      <td>Rome</td>\n      <td>Lazio</td>\n    </tr>\n    <tr>\n      <th>31</th>\n      <td>32</td>\n      <td>Latina</td>\n      <td>Lazio</td>\n    </tr>\n    <tr>\n      <th>57</th>\n      <td>58</td>\n      <td>Guidonia Montecelio</td>\n      <td>Lazio</td>\n    </tr>\n    <tr>\n      <th>69</th>\n      <td>70</td>\n      <td>Fiumicino</td>\n      <td>Lazio</td>\n    </tr>\n    <tr>\n      <th>75</th>\n      <td>76</td>\n      <td>Aprilia</td>\n      <td>Lazio</td>\n    </tr>\n    <tr>\n      <th>87</th>\n      <td>88</td>\n      <td>Viterbo</td>\n      <td>Lazio</td>\n    </tr>\n    <tr>\n      <th>94</th>\n      <td>95</td>\n      <td>Pomezia</td>\n      <td>Lazio</td>\n    </tr>\n    <tr>\n      <th>114</th>\n      <td>115</td>\n      <td>Tivoli</td>\n      <td>Lazio</td>\n    </tr>\n    <tr>\n      <th>120</th>\n      <td>121</td>\n      <td>Anzio</td>\n      <td>Lazio</td>\n    </tr>\n    <tr>\n      <th>129</th>\n      <td>130</td>\n      <td>Velletri</td>\n      <td>Lazio</td>\n    </tr>\n  </tbody>\n</table>\n</div>"
                    }, 
                    "execution_count": 134, 
                    "metadata": {}
                }
            ], 
            "execution_count": 134
        }, 
        {
            "source": "df3 = df21[['Rank', 'City', 'Region']].reset_index(drop=True)", 
            "cell_type": "code", 
            "metadata": {}, 
            "outputs": [], 
            "execution_count": 135
        }, 
        {
            "source": "df_Lazio = df3", 
            "cell_type": "code", 
            "metadata": {}, 
            "outputs": [], 
            "execution_count": 136
        }, 
        {
            "source": "df21.shape", 
            "cell_type": "code", 
            "metadata": {}, 
            "outputs": [
                {
                    "output_type": "execute_result", 
                    "data": {
                        "text/plain": "(11, 3)"
                    }, 
                    "execution_count": 137, 
                    "metadata": {}
                }
            ], 
            "execution_count": 137
        }, 
        {
            "source": "### 2.1.2 Dataset 2:", 
            "cell_type": "markdown", 
            "metadata": {}
        }, 
        {
            "source": "In obtaining the location data of the locations, the Geocoder package is used with the arcgis_geocoder to obtain the latitude and longitude of the needed locations.", 
            "cell_type": "markdown", 
            "metadata": {}
        }, 
        {
            "source": "'''Geocoder starts here'''\n'''Defining a function to use --> get_latlng()'''\ndef get_latlng(arcgis_geocoder):\n    \n   \n    lat_lng_coords = None\n    \n   \n    \n    while(lat_lng_coords is None):\n        g = geocoder.arcgis('{}, Lazio, Italy'.format(arcgis_geocoder))\n        lat_lng_coords = g.latlng\n    return lat_lng_coords\n'''Geocoder ends here'''", 
            "cell_type": "code", 
            "metadata": {
                "scrolled": true
            }, 
            "outputs": [
                {
                    "output_type": "execute_result", 
                    "data": {
                        "text/plain": "'Geocoder ends here'"
                    }, 
                    "execution_count": 138, 
                    "metadata": {}
                }
            ], 
            "execution_count": 138
        }, 
        {
            "source": "City_codes = df['City']    \ncoordinates = [get_latlng(City_code) for City_code in City_codes.tolist()]", 
            "cell_type": "code", 
            "metadata": {}, 
            "outputs": [], 
            "execution_count": 139
        }, 
        {
            "source": "df_Lazio_loc = df_Lazio\n\ndf_Lazio_coordinates = pd.DataFrame(coordinates, columns = ['Latitude', 'Longitude'])\ndf_Lazio_loc['Latitude'] = df_Lazio_coordinates['Latitude']\ndf_Lazio_loc['Longitude'] = df_Lazio_coordinates['Longitude']", 
            "cell_type": "code", 
            "metadata": {}, 
            "outputs": [], 
            "execution_count": 140
        }, 
        {
            "source": "## Testing Sample for Rome", 
            "cell_type": "markdown", 
            "metadata": {}
        }, 
        {
            "source": "sample = get_latlng('Rome')\nsample", 
            "cell_type": "code", 
            "metadata": {}, 
            "outputs": [
                {
                    "output_type": "execute_result", 
                    "data": {
                        "text/plain": "[41.90322000000003, 12.495650000000069]"
                    }, 
                    "execution_count": 141, 
                    "metadata": {}
                }
            ], 
            "execution_count": 141
        }, 
        {
            "source": "## Reverse geocoding this, using the geocodefarm geocoder, gives the following:", 
            "cell_type": "markdown", 
            "metadata": {}
        }, 
        {
            "source": "gg = geocoder.geocodefarm(sample, method = 'reverse')\ngg", 
            "cell_type": "code", 
            "metadata": {}, 
            "outputs": [
                {
                    "output_type": "execute_result", 
                    "data": {
                        "text/plain": "<[OK] Geocodefarm - Reverse [Via Vittorio Emanuele Orlando 70, 00185 Rome Rome, Italy]>"
                    }, 
                    "execution_count": 142, 
                    "metadata": {}
                }
            ], 
            "execution_count": 142
        }, 
        {
            "source": "## Applying the function to find Latitude and Longitude", 
            "cell_type": "markdown", 
            "metadata": {}
        }, 
        {
            "source": "start = time.time()\n\nCity_codes = df_Lazio['Region']    \ncoordinates = [get_latlng(City_code) for City_code in City_codes.tolist()]\n\nend = time.time()\nprint(\"Time of execution: \", end - start, \"seconds\")", 
            "cell_type": "code", 
            "metadata": {}, 
            "outputs": [
                {
                    "output_type": "stream", 
                    "name": "stdout", 
                    "text": "Time of execution:  5.4745848178863525 seconds\n"
                }
            ], 
            "execution_count": 143
        }, 
        {
            "source": "## Then we proceed to store the location data - latitude and longitude as follows. ", 
            "cell_type": "markdown", 
            "metadata": {}
        }, 
        {
            "source": "df_se_loc = df_Lazio\n\n\ndf_se_coordinates = pd.DataFrame(coordinates, columns = ['Latitude', 'Longitude'])\ndf_se_loc['Latitude'] = df_se_coordinates['Latitude']\ndf_se_loc['Longitude'] = df_se_coordinates['Longitude']", 
            "cell_type": "code", 
            "metadata": {}, 
            "outputs": [], 
            "execution_count": 144
        }, 
        {
            "source": "df_Lazio_loc.head()", 
            "cell_type": "code", 
            "metadata": {}, 
            "outputs": [
                {
                    "output_type": "execute_result", 
                    "data": {
                        "text/plain": "  Rank                 City Region   Latitude  Longitude\n0    1                 Rome  Lazio  41.975682  12.772626\n1   32               Latina  Lazio  41.975682  12.772626\n2   58  Guidonia Montecelio  Lazio  41.975682  12.772626\n3   70            Fiumicino  Lazio  41.975682  12.772626\n4   76              Aprilia  Lazio  41.975682  12.772626", 
                        "text/html": "<div>\n<style scoped>\n    .dataframe tbody tr th:only-of-type {\n        vertical-align: middle;\n    }\n\n    .dataframe tbody tr th {\n        vertical-align: top;\n    }\n\n    .dataframe thead th {\n        text-align: right;\n    }\n</style>\n<table border=\"1\" class=\"dataframe\">\n  <thead>\n    <tr style=\"text-align: right;\">\n      <th></th>\n      <th>Rank</th>\n      <th>City</th>\n      <th>Region</th>\n      <th>Latitude</th>\n      <th>Longitude</th>\n    </tr>\n  </thead>\n  <tbody>\n    <tr>\n      <th>0</th>\n      <td>1</td>\n      <td>Rome</td>\n      <td>Lazio</td>\n      <td>41.975682</td>\n      <td>12.772626</td>\n    </tr>\n    <tr>\n      <th>1</th>\n      <td>32</td>\n      <td>Latina</td>\n      <td>Lazio</td>\n      <td>41.975682</td>\n      <td>12.772626</td>\n    </tr>\n    <tr>\n      <th>2</th>\n      <td>58</td>\n      <td>Guidonia Montecelio</td>\n      <td>Lazio</td>\n      <td>41.975682</td>\n      <td>12.772626</td>\n    </tr>\n    <tr>\n      <th>3</th>\n      <td>70</td>\n      <td>Fiumicino</td>\n      <td>Lazio</td>\n      <td>41.975682</td>\n      <td>12.772626</td>\n    </tr>\n    <tr>\n      <th>4</th>\n      <td>76</td>\n      <td>Aprilia</td>\n      <td>Lazio</td>\n      <td>41.975682</td>\n      <td>12.772626</td>\n    </tr>\n  </tbody>\n</table>\n</div>"
                    }, 
                    "execution_count": 145, 
                    "metadata": {}
                }
            ], 
            "execution_count": 145
        }, 
        {
            "source": "df_Lazio_loc.to_csv('SELazioLocationsCoordinates.csv', index = False)", 
            "cell_type": "code", 
            "metadata": {}, 
            "outputs": [], 
            "execution_count": 146
        }, 
        {
            "source": "# 3 Methodology", 
            "cell_type": "markdown", 
            "metadata": {}
        }, 
        {
            "source": "### 3.1 Data Exploration\n", 
            "cell_type": "markdown", 
            "metadata": {}
        }, 
        {
            "source": "#### 3.1.1 Single Neighbourhood", 
            "cell_type": "markdown", 
            "metadata": {}
        }, 
        {
            "source": "La_df = df_Lazio_loc.reset_index().drop('index', axis = 1)", 
            "cell_type": "code", 
            "metadata": {}, 
            "outputs": [], 
            "execution_count": 147
        }, 
        {
            "source": "La_df.shape", 
            "cell_type": "code", 
            "metadata": {}, 
            "outputs": [
                {
                    "output_type": "execute_result", 
                    "data": {
                        "text/plain": "(11, 5)"
                    }, 
                    "execution_count": 148, 
                    "metadata": {}
                }
            ], 
            "execution_count": 148
        }, 
        {
            "source": "La_df", 
            "cell_type": "code", 
            "metadata": {}, 
            "outputs": [
                {
                    "output_type": "execute_result", 
                    "data": {
                        "text/plain": "   Rank                 City Region   Latitude  Longitude\n0     1                 Rome  Lazio  41.975682  12.772626\n1    32               Latina  Lazio  41.975682  12.772626\n2    58  Guidonia Montecelio  Lazio  41.975682  12.772626\n3    70            Fiumicino  Lazio  41.975682  12.772626\n4    76              Aprilia  Lazio  41.975682  12.772626\n5    88              Viterbo  Lazio  41.975682  12.772626\n6    95              Pomezia  Lazio  41.975682  12.772626\n7   115               Tivoli  Lazio  41.975682  12.772626\n8   121                Anzio  Lazio  41.975682  12.772626\n9   130             Velletri  Lazio  41.975682  12.772626\n10  135        Civitavecchia  Lazio  41.975682  12.772626", 
                        "text/html": "<div>\n<style scoped>\n    .dataframe tbody tr th:only-of-type {\n        vertical-align: middle;\n    }\n\n    .dataframe tbody tr th {\n        vertical-align: top;\n    }\n\n    .dataframe thead th {\n        text-align: right;\n    }\n</style>\n<table border=\"1\" class=\"dataframe\">\n  <thead>\n    <tr style=\"text-align: right;\">\n      <th></th>\n      <th>Rank</th>\n      <th>City</th>\n      <th>Region</th>\n      <th>Latitude</th>\n      <th>Longitude</th>\n    </tr>\n  </thead>\n  <tbody>\n    <tr>\n      <th>0</th>\n      <td>1</td>\n      <td>Rome</td>\n      <td>Lazio</td>\n      <td>41.975682</td>\n      <td>12.772626</td>\n    </tr>\n    <tr>\n      <th>1</th>\n      <td>32</td>\n      <td>Latina</td>\n      <td>Lazio</td>\n      <td>41.975682</td>\n      <td>12.772626</td>\n    </tr>\n    <tr>\n      <th>2</th>\n      <td>58</td>\n      <td>Guidonia Montecelio</td>\n      <td>Lazio</td>\n      <td>41.975682</td>\n      <td>12.772626</td>\n    </tr>\n    <tr>\n      <th>3</th>\n      <td>70</td>\n      <td>Fiumicino</td>\n      <td>Lazio</td>\n      <td>41.975682</td>\n      <td>12.772626</td>\n    </tr>\n    <tr>\n      <th>4</th>\n      <td>76</td>\n      <td>Aprilia</td>\n      <td>Lazio</td>\n      <td>41.975682</td>\n      <td>12.772626</td>\n    </tr>\n    <tr>\n      <th>5</th>\n      <td>88</td>\n      <td>Viterbo</td>\n      <td>Lazio</td>\n      <td>41.975682</td>\n      <td>12.772626</td>\n    </tr>\n    <tr>\n      <th>6</th>\n      <td>95</td>\n      <td>Pomezia</td>\n      <td>Lazio</td>\n      <td>41.975682</td>\n      <td>12.772626</td>\n    </tr>\n    <tr>\n      <th>7</th>\n      <td>115</td>\n      <td>Tivoli</td>\n      <td>Lazio</td>\n      <td>41.975682</td>\n      <td>12.772626</td>\n    </tr>\n    <tr>\n      <th>8</th>\n      <td>121</td>\n      <td>Anzio</td>\n      <td>Lazio</td>\n      <td>41.975682</td>\n      <td>12.772626</td>\n    </tr>\n    <tr>\n      <th>9</th>\n      <td>130</td>\n      <td>Velletri</td>\n      <td>Lazio</td>\n      <td>41.975682</td>\n      <td>12.772626</td>\n    </tr>\n    <tr>\n      <th>10</th>\n      <td>135</td>\n      <td>Civitavecchia</td>\n      <td>Lazio</td>\n      <td>41.975682</td>\n      <td>12.772626</td>\n    </tr>\n  </tbody>\n</table>\n</div>"
                    }, 
                    "execution_count": 149, 
                    "metadata": {}
                }
            ], 
            "execution_count": 149
        }, 
        {
            "source": "La_df.loc[La_df['City'] == 'Rome']", 
            "cell_type": "code", 
            "metadata": {}, 
            "outputs": [
                {
                    "output_type": "execute_result", 
                    "data": {
                        "text/plain": "  Rank  City Region   Latitude  Longitude\n0    1  Rome  Lazio  41.975682  12.772626", 
                        "text/html": "<div>\n<style scoped>\n    .dataframe tbody tr th:only-of-type {\n        vertical-align: middle;\n    }\n\n    .dataframe tbody tr th {\n        vertical-align: top;\n    }\n\n    .dataframe thead th {\n        text-align: right;\n    }\n</style>\n<table border=\"1\" class=\"dataframe\">\n  <thead>\n    <tr style=\"text-align: right;\">\n      <th></th>\n      <th>Rank</th>\n      <th>City</th>\n      <th>Region</th>\n      <th>Latitude</th>\n      <th>Longitude</th>\n    </tr>\n  </thead>\n  <tbody>\n    <tr>\n      <th>0</th>\n      <td>1</td>\n      <td>Rome</td>\n      <td>Lazio</td>\n      <td>41.975682</td>\n      <td>12.772626</td>\n    </tr>\n  </tbody>\n</table>\n</div>"
                    }, 
                    "execution_count": 150, 
                    "metadata": {}
                }
            ], 
            "execution_count": 150
        }, 
        {
            "source": "Let's use Rome with the index location 0.", 
            "cell_type": "markdown", 
            "metadata": {}
        }, 
        {
            "source": "La_df.loc[0, 'City']", 
            "cell_type": "code", 
            "metadata": {}, 
            "outputs": [
                {
                    "output_type": "execute_result", 
                    "data": {
                        "text/plain": "'Rome'"
                    }, 
                    "execution_count": 151, 
                    "metadata": {}
                }
            ], 
            "execution_count": 151
        }, 
        {
            "source": "Rome_lat = La_df.loc[0, 'Latitude']\nRome_long = La_df.loc[0, 'Longitude']\nRome_Cit = La_df.loc[0, 'City']\nRome_Region = La_df.loc[0, 'Region']\n\nprint('The latitude and longitude values of {} with Region {}, are {}, {}.'.format(Rome_Cit,\n                                                                                         Rome_Region,\n                                                                                         Rome_lat,\n                                                                                       Rome_long))", 
            "cell_type": "code", 
            "metadata": {}, 
            "outputs": [
                {
                    "output_type": "stream", 
                    "name": "stdout", 
                    "text": "The latitude and longitude values of Rome with Region Lazio, are 41.975681888000054, 12.772626325000033.\n"
                }
            ], 
            "execution_count": 152
        }, 
        {
            "source": "# 3. Methodology ", 
            "cell_type": "markdown", 
            "metadata": {}
        }, 
        {
            "source": "This section represents the main component of the report where the data is gathered, prepared for analysis. The tools described are used here and the Notebook cells indicates the execution of steps.", 
            "cell_type": "markdown", 
            "metadata": {}
        }, 
        {
            "source": "### METHODOLOY EXECUTION - Mapping Data", 
            "cell_type": "markdown", 
            "metadata": {}
        }, 
        {
            "source": "import json\nprint('numpy, pandas, ..., imported...')\n\nfrom pandas.io.json import json_normalize\nprint('json_normalize imported...')\n\n", 
            "cell_type": "code", 
            "metadata": {}, 
            "outputs": [
                {
                    "output_type": "stream", 
                    "name": "stdout", 
                    "text": "numpy, pandas, ..., imported...\njson_normalize imported...\n"
                }
            ], 
            "execution_count": 153
        }, 
        {
            "source": "address = 'Lazio, Italy'\ngeolocator = Nominatim()\nlocation = geolocator.geocode(address)\nlatitude = location.latitude\nlongitude = location.longitude\nprint('The geograpical coordinate of Italy home are {}, {}.'.format(latitude, longitude))", 
            "cell_type": "code", 
            "metadata": {}, 
            "outputs": [
                {
                    "output_type": "stream", 
                    "name": "stdout", 
                    "text": "The geograpical coordinate of Italy home are 41.9808038, 12.7662312.\n"
                }
            ], 
            "execution_count": 154
        }, 
        {
            "source": "neighborhood_latitude=41.9808038\nneighborhood_longitude=12.7662312", 
            "cell_type": "code", 
            "metadata": {}, 
            "outputs": [], 
            "execution_count": 155
        }, 
        {
            "source": "import requests # library to handle requests\nimport pandas as pd # library for data analsysis\nimport numpy as np # library to handle data in a vectorized manner\nimport random # library for random number generation\n\n!conda install -c conda-forge geopy --yes \nfrom geopy.geocoders import Nominatim # module to convert an address into latitude and longitude values\n\n# libraries for displaying images\nfrom IPython.display import Image \nfrom IPython.core.display import HTML \n    \n# tranforming json file into a pandas dataframe library\nfrom pandas.io.json import json_normalize\n\n!conda install -c conda-forge folium=0.5.0 --yes\nimport folium # plotting library\n\nprint('Folium installed')\nprint('Libraries imported.')", 
            "cell_type": "code", 
            "metadata": {}, 
            "outputs": [
                {
                    "output_type": "stream", 
                    "name": "stdout", 
                    "text": "Fetching package metadata .............\nSolving package specifications: .\n\n# All requested packages already installed.\n# packages in environment at /opt/conda/envs/DSX-Python35:\n#\ngeopy                     1.19.0                     py_0    conda-forge\nFetching package metadata .............\nSolving package specifications: .\n\n# All requested packages already installed.\n# packages in environment at /opt/conda/envs/DSX-Python35:\n#\nfolium                    0.5.0                      py_0    conda-forge\nFolium installed\nLibraries imported.\n"
                }
            ], 
            "execution_count": 156
        }, 
        {
            "source": "explore the top 100 venues that are within a 2000 metres radius of Lazio.\nAnd then, let's create the GET request URL, and then the url is named.", 
            "cell_type": "markdown", 
            "metadata": {}
        }, 
        {
            "source": "CLIENT_ID = 'FL1GDNSXKBRH2XQ4KIZP2ACOZQ0TQRG0LVFZZNJSY4BTA452'\nCLIENT_SECRET = 'YPV5PQBM5G4KSKXKY2XGRSIFM4O2V5N1LKALCGIMFDTZYAD0' \nVERSION = '20190416'\nprint('Your credentails:')\nprint('CLIENT_ID: ' + CLIENT_ID)\nprint('CLIENT_SECRET:' + CLIENT_SECRET)", 
            "cell_type": "code", 
            "metadata": {}, 
            "outputs": [
                {
                    "output_type": "stream", 
                    "name": "stdout", 
                    "text": "Your credentails:\nCLIENT_ID: FL1GDNSXKBRH2XQ4KIZP2ACOZQ0TQRG0LVFZZNJSY4BTA452\nCLIENT_SECRET:YPV5PQBM5G4KSKXKY2XGRSIFM4O2V5N1LKALCGIMFDTZYAD0\n"
                }
            ], 
            "execution_count": 232
        }, 
        {
            "source": "LIMIT = 100 \nradius = 2000 \nurl = 'https://api.foursquare.com/v2/venues/search?ll=&client_id={}&client_secret={}&v={}&ll={},{}&radius={}&limit={}'.format(\n    CLIENT_ID, \n    CLIENT_SECRET, \n    VERSION, \n    Rome_lat, \n    Rome_long, \n    radius, \n    LIMIT)\n\n\nurl", 
            "cell_type": "code", 
            "metadata": {
                "scrolled": true
            }, 
            "outputs": [
                {
                    "output_type": "execute_result", 
                    "data": {
                        "text/plain": "'https://api.foursquare.com/v2/venues/search?ll=&client_id=FL1GDNSXKBRH2XQ4KIZP2ACOZQ0TQRG0LVFZZNJSY4BTA452&client_secret=YPV5PQBM5G4KSKXKY2XGRSIFM4O2V5N1LKALCGIMFDTZYAD0&v=20190416&ll=41.975681888000054,12.772626325000033&radius=2000&limit=100'"
                    }, 
                    "execution_count": 233, 
                    "metadata": {}
                }
            ], 
            "execution_count": 233
        }, 
        {
            "source": "results = requests.get(url).json()\nresults", 
            "cell_type": "code", 
            "metadata": {}, 
            "outputs": [
                {
                    "output_type": "execute_result", 
                    "data": {
                        "text/plain": "{'meta': {'code': 400,\n  'errorDetail': 'll must be of the form XX.XX,YY.YY (received )',\n  'errorType': 'param_error',\n  'requestId': '5cb617031ed2196d9025feae'},\n 'response': {}}"
                    }, 
                    "execution_count": 234, 
                    "metadata": {}
                }
            ], 
            "execution_count": 234
        }, 
        {
            "source": "address = 'Via Vittorio Emanuele Orlando 70, 00185 Rome Rome, Italy'\n\ngeolocator = Nominatim(user_agent=\"foursquare_agent\")\nlocation = geolocator.geocode(address)\nlatitude = location.latitude\nlongitude = location.longitude\nprint(latitude, longitude)", 
            "cell_type": "code", 
            "metadata": {}, 
            "outputs": [
                {
                    "output_type": "stream", 
                    "name": "stdout", 
                    "text": "41.9031408 12.4957243\n"
                }
            ], 
            "execution_count": 235
        }, 
        {
            "source": "latitude = 41.9031408\nlongitude = 12.4957243", 
            "cell_type": "code", 
            "metadata": {}, 
            "outputs": [], 
            "execution_count": 236
        }, 
        {
            "source": "LIMIT = 100 # limit of number of venues returned by Foursquare API\nradius = 2000 # define radius\nurl = 'https://api.foursquare.com/v2/venues/explore?&client_id={}&client_secret={}&v={}&ll={},{}&radius={}&limit={}'.format(\n    CLIENT_ID, \n    CLIENT_SECRET, \n    VERSION, \n    Rome_lat, \n    Rome_long, \n    radius, \n    LIMIT)\n\n# displays URL\nurl", 
            "cell_type": "code", 
            "metadata": {}, 
            "outputs": [
                {
                    "output_type": "execute_result", 
                    "data": {
                        "text/plain": "'https://api.foursquare.com/v2/venues/explore?&client_id=FL1GDNSXKBRH2XQ4KIZP2ACOZQ0TQRG0LVFZZNJSY4BTA452&client_secret=YPV5PQBM5G4KSKXKY2XGRSIFM4O2V5N1LKALCGIMFDTZYAD0&v=20190416&ll=41.975681888000054,12.772626325000033&radius=2000&limit=100'"
                    }, 
                    "execution_count": 243, 
                    "metadata": {}
                }
            ], 
            "execution_count": 243
        }, 
        {
            "source": "results = requests.get(url).json()\nresults", 
            "cell_type": "code", 
            "metadata": {}, 
            "outputs": [
                {
                    "output_type": "execute_result", 
                    "data": {
                        "text/plain": "{'meta': {'code': 200, 'requestId': '5cb61843dd57974078f16f71'},\n 'response': {'groups': [{'items': [{'reasons': {'count': 0,\n       'items': [{'reasonName': 'globalInteractionReason',\n         'summary': 'This spot is popular',\n         'type': 'general'}]},\n      'referralId': 'e-0-4f850f3ae4b0ae40e13808f9-0',\n      'venue': {'categories': [{'icon': {'prefix': 'https://ss3.4sqi.net/img/categories_v2/shops/food_grocery_',\n          'suffix': '.png'},\n         'id': '52f2ab2ebcbc57f1066b8b46',\n         'name': 'Supermarket',\n         'pluralName': 'Supermarkets',\n         'primary': True,\n         'shortName': 'Supermarket'}],\n       'id': '4f850f3ae4b0ae40e13808f9',\n       'location': {'address': 'Via Tiburtina',\n        'cc': 'IT',\n        'city': 'Villanova',\n        'country': 'Italia',\n        'distance': 1521,\n        'formattedAddress': ['Via Tiburtina', 'Villanova Lazio', 'Italia'],\n        'labeledLatLngs': [{'label': 'display',\n          'lat': 41.96785784723111,\n          'lng': 12.757551056736856}],\n        'lat': 41.96785784723111,\n        'lng': 12.757551056736856,\n        'state': 'Lazio'},\n       'name': 'Carrefour Market',\n       'photos': {'count': 0, 'groups': []}}},\n     {'reasons': {'count': 0,\n       'items': [{'reasonName': 'globalInteractionReason',\n         'summary': 'This spot is popular',\n         'type': 'general'}]},\n      'referralId': 'e-0-54fcabaf498eebc206718c79-1',\n      'venue': {'categories': [{'icon': {'prefix': 'https://ss3.4sqi.net/img/categories_v2/food/pizza_',\n          'suffix': '.png'},\n         'id': '4bf58dd8d48988d1ca941735',\n         'name': 'Pizza Place',\n         'pluralName': 'Pizza Places',\n         'primary': True,\n         'shortName': 'Pizza'}],\n       'id': '54fcabaf498eebc206718c79',\n       'location': {'cc': 'IT',\n        'city': 'La botte',\n        'country': 'Italia',\n        'distance': 1289,\n        'formattedAddress': ['La botte Lazio', 'Italia'],\n        'labeledLatLngs': [{'label': 'display',\n          'lat': 41.986271,\n          'lng': 12.766311}],\n        'lat': 41.986271,\n        'lng': 12.766311,\n        'state': 'Lazio'},\n       'name': 'Pizzeria da nonna Concetta',\n       'photos': {'count': 0, 'groups': []}}},\n     {'reasons': {'count': 0,\n       'items': [{'reasonName': 'globalInteractionReason',\n         'summary': 'This spot is popular',\n         'type': 'general'}]},\n      'referralId': 'e-0-4e59f4877d8b966a15d08148-2',\n      'venue': {'categories': [{'icon': {'prefix': 'https://ss3.4sqi.net/img/categories_v2/travel/hotel_',\n          'suffix': '.png'},\n         'id': '4bf58dd8d48988d1fa931735',\n         'name': 'Hotel',\n         'pluralName': 'Hotels',\n         'primary': True,\n         'shortName': 'Hotel'}],\n       'id': '4e59f4877d8b966a15d08148',\n       'location': {'cc': 'IT',\n        'city': 'Guidonia Montecelio',\n        'country': 'Italia',\n        'distance': 1743,\n        'formattedAddress': ['Guidonia Montecelio Lazio', 'Italia'],\n        'labeledLatLngs': [{'label': 'display',\n          'lat': 41.96260086129866,\n          'lng': 12.76103263377585}],\n        'lat': 41.96260086129866,\n        'lng': 12.76103263377585,\n        'state': 'Lazio'},\n       'name': 'Park Hotel Imperatore Adriano',\n       'photos': {'count': 0, 'groups': []}}},\n     {'reasons': {'count': 0,\n       'items': [{'reasonName': 'globalInteractionReason',\n         'summary': 'This spot is popular',\n         'type': 'general'}]},\n      'referralId': 'e-0-50389291e4b0b35a2504133d-3',\n      'venue': {'categories': [{'icon': {'prefix': 'https://ss3.4sqi.net/img/categories_v2/parks_outdoors/plaza_',\n          'suffix': '.png'},\n         'id': '4bf58dd8d48988d164941735',\n         'name': 'Plaza',\n         'pluralName': 'Plazas',\n         'primary': True,\n         'shortName': 'Plaza'}],\n       'id': '50389291e4b0b35a2504133d',\n       'location': {'cc': 'IT',\n        'country': 'Italia',\n        'distance': 1911,\n        'formattedAddress': ['Italia'],\n        'labeledLatLngs': [{'label': 'display',\n          'lat': 41.963788671831225,\n          'lng': 12.755968231030748}],\n        'lat': 41.963788671831225,\n        'lng': 12.755968231030748},\n       'name': 'piazza villanova',\n       'photos': {'count': 0, 'groups': []}}}],\n    'name': 'recommended',\n    'type': 'Recommended Places'}],\n  'headerFullLocation': 'Current map view',\n  'headerLocation': 'Current map view',\n  'headerLocationGranularity': 'unknown',\n  'suggestedBounds': {'ne': {'lat': 41.99368190600007,\n    'lng': 12.796793280749378},\n   'sw': {'lat': 41.95768187000004, 'lng': 12.748459369250687}},\n  'totalResults': 4}}"
                    }, 
                    "execution_count": 244, 
                    "metadata": {}
                }
            ], 
            "execution_count": 244
        }, 
        {
            "source": "From the results, the necessary information needs to be obtained from items key. To do this, the get_category_type function is used from the Foursquare lab.", 
            "cell_type": "markdown", 
            "metadata": {}
        }, 
        {
            "source": "def get_category_type(row):\n    try:\n        categories_list = row['categories']\n    except:\n        categories_list = row['venue.categories']\n        \n    if len(categories_list) == 0:\n        return None\n    else:\n        return categories_list[0]['name']", 
            "cell_type": "code", 
            "metadata": {}, 
            "outputs": [], 
            "execution_count": 245
        }, 
        {
            "source": "The result is then cleaned up from json to a structured pandas dataframe as shown below:", 
            "cell_type": "markdown", 
            "metadata": {}
        }, 
        {
            "source": "venues = results['response']['groups'][0]['items']\n    \nnearby_venues = json_normalize(venues) \n\n\nfiltered_columns = ['venue.name', 'venue.categories', 'venue.location.lat', 'venue.location.lng']\nnearby_venues =nearby_venues.loc[:, filtered_columns]\n\n\nnearby_venues['venue.categories'] = nearby_venues.apply(get_category_type, axis=1)\n\n\nnearby_venues.columns = [col.split(\".\")[-1] for col in nearby_venues.columns]", 
            "cell_type": "code", 
            "metadata": {}, 
            "outputs": [], 
            "execution_count": 246
        }, 
        {
            "source": "nearby_venues", 
            "cell_type": "code", 
            "metadata": {}, 
            "outputs": [
                {
                    "output_type": "execute_result", 
                    "data": {
                        "text/plain": "                            name   categories        lat        lng\n0               Carrefour Market  Supermarket  41.967858  12.757551\n1     Pizzeria da nonna Concetta  Pizza Place  41.986271  12.766311\n2  Park Hotel Imperatore Adriano        Hotel  41.962601  12.761033\n3               piazza villanova        Plaza  41.963789  12.755968", 
                        "text/html": "<div>\n<style scoped>\n    .dataframe tbody tr th:only-of-type {\n        vertical-align: middle;\n    }\n\n    .dataframe tbody tr th {\n        vertical-align: top;\n    }\n\n    .dataframe thead th {\n        text-align: right;\n    }\n</style>\n<table border=\"1\" class=\"dataframe\">\n  <thead>\n    <tr style=\"text-align: right;\">\n      <th></th>\n      <th>name</th>\n      <th>categories</th>\n      <th>lat</th>\n      <th>lng</th>\n    </tr>\n  </thead>\n  <tbody>\n    <tr>\n      <th>0</th>\n      <td>Carrefour Market</td>\n      <td>Supermarket</td>\n      <td>41.967858</td>\n      <td>12.757551</td>\n    </tr>\n    <tr>\n      <th>1</th>\n      <td>Pizzeria da nonna Concetta</td>\n      <td>Pizza Place</td>\n      <td>41.986271</td>\n      <td>12.766311</td>\n    </tr>\n    <tr>\n      <th>2</th>\n      <td>Park Hotel Imperatore Adriano</td>\n      <td>Hotel</td>\n      <td>41.962601</td>\n      <td>12.761033</td>\n    </tr>\n    <tr>\n      <th>3</th>\n      <td>piazza villanova</td>\n      <td>Plaza</td>\n      <td>41.963789</td>\n      <td>12.755968</td>\n    </tr>\n  </tbody>\n</table>\n</div>"
                    }, 
                    "execution_count": 247, 
                    "metadata": {}
                }
            ], 
            "execution_count": 247
        }, 
        {
            "source": "nearby_venues_Rome_unique = nearby_venues['categories'].value_counts().to_frame(name='Count')", 
            "cell_type": "code", 
            "metadata": {}, 
            "outputs": [], 
            "execution_count": 249
        }, 
        {
            "source": "nearby_venues_Rome_unique.head(5)", 
            "cell_type": "code", 
            "metadata": {}, 
            "outputs": [
                {
                    "output_type": "execute_result", 
                    "data": {
                        "text/plain": "             Count\nPizza Place      1\nPlaza            1\nHotel            1\nSupermarket      1", 
                        "text/html": "<div>\n<style scoped>\n    .dataframe tbody tr th:only-of-type {\n        vertical-align: middle;\n    }\n\n    .dataframe tbody tr th {\n        vertical-align: top;\n    }\n\n    .dataframe thead th {\n        text-align: right;\n    }\n</style>\n<table border=\"1\" class=\"dataframe\">\n  <thead>\n    <tr style=\"text-align: right;\">\n      <th></th>\n      <th>Count</th>\n    </tr>\n  </thead>\n  <tbody>\n    <tr>\n      <th>Pizza Place</th>\n      <td>1</td>\n    </tr>\n    <tr>\n      <th>Plaza</th>\n      <td>1</td>\n    </tr>\n    <tr>\n      <th>Hotel</th>\n      <td>1</td>\n    </tr>\n    <tr>\n      <th>Supermarket</th>\n      <td>1</td>\n    </tr>\n  </tbody>\n</table>\n</div>"
                    }, 
                    "execution_count": 250, 
                    "metadata": {}
                }
            ], 
            "execution_count": 250
        }, 
        {
            "source": "Interestingly, even though there are restaurants are the Rome area, they are not even in the top 5 venues. It should be noted that since we are limited by data availability, our perspectives will be on what we have.", 
            "cell_type": "markdown", 
            "metadata": {}
        }, 
        {
            "source": "print('{} venues were returned by Foursquare.'.format(nearby_venues.shape[0]))", 
            "cell_type": "code", 
            "metadata": {}, 
            "outputs": [
                {
                    "output_type": "stream", 
                    "name": "stdout", 
                    "text": "4 venues were returned by Foursquare.\n"
                }
            ], 
            "execution_count": 251
        }, 
        {
            "source": "3.1.2 Multiple Neighbourhoods", 
            "cell_type": "markdown", 
            "metadata": {}
        }, 
        {
            "source": "explore (Multiple) Neighborhoods in Rome City", 
            "cell_type": "markdown", 
            "metadata": {}
        }, 
        {
            "source": "def getNearbyVenues(names, latitudes, longitudes, radius=2000):\n    \n    venues_list=[]\n    for name, lat, lng in zip(names, latitudes, longitudes):\n        print(name)\n            \n        # create the API request URL\n        url = 'https://api.foursquare.com/v2/venues/explore?&client_id={}&client_secret={}&v={}&ll={},{}&radius={}&limit={}'.format(\n            CLIENT_ID, \n            CLIENT_SECRET, \n            VERSION, \n            lat, \n            lng, \n            radius, \n            LIMIT)\n            \n        # make the GET request\n        results = requests.get(url).json()[\"response\"]['groups'][0]['items']\n        \n        # return only relevant information for each nearby venue\n        venues_list.append([(\n            name, \n            lat, \n            lng, \n            v['venue']['name'], \n            v['venue']['location']['lat'], \n            v['venue']['location']['lng'],  \n            v['venue']['categories'][0]['name']) for v in results])\n\n    nearby_venues = pd.DataFrame([item for venue_list in venues_list for item in venue_list])\n    nearby_venues.columns = ['Neighbourhood', \n                  'Neighbourhood Latitude', \n                  'Neighbourhood Longitude', \n                  'Venue', \n                  'Venue Latitude', \n                  'Venue Longitude', \n                  'Venue Category']\n    \n    return(nearby_venues)", 
            "cell_type": "code", 
            "metadata": {}, 
            "outputs": [], 
            "execution_count": 252
        }, 
        {
            "source": "La_venues = getNearbyVenues(names=La_df['City'],\n                                   latitudes=La_df['Latitude'],\n                                   longitudes=La_df['Longitude']\n                                  )", 
            "cell_type": "code", 
            "metadata": {}, 
            "outputs": [
                {
                    "output_type": "stream", 
                    "name": "stdout", 
                    "text": "Rome\nLatina\nGuidonia Montecelio\nFiumicino\nAprilia\nViterbo\nPomezia\nTivoli\nAnzio\nVelletri\nCivitavecchia\n"
                }
            ], 
            "execution_count": 254
        }, 
        {
            "source": "La_venues.shape", 
            "cell_type": "code", 
            "metadata": {}, 
            "outputs": [
                {
                    "output_type": "execute_result", 
                    "data": {
                        "text/plain": "(44, 7)"
                    }, 
                    "execution_count": 255, 
                    "metadata": {}
                }
            ], 
            "execution_count": 255
        }, 
        {
            "source": "len(La_venues)", 
            "cell_type": "code", 
            "metadata": {}, 
            "outputs": [
                {
                    "output_type": "execute_result", 
                    "data": {
                        "text/plain": "44"
                    }, 
                    "execution_count": 256, 
                    "metadata": {}
                }
            ], 
            "execution_count": 256
        }, 
        {
            "source": "La_venues['Neighbourhood'].value_counts()\nLa_venues.to_csv('La_venues.csv')", 
            "cell_type": "code", 
            "metadata": {}, 
            "outputs": [], 
            "execution_count": 257
        }, 
        {
            "source": "La_venues.head(5)", 
            "cell_type": "code", 
            "metadata": {}, 
            "outputs": [
                {
                    "output_type": "execute_result", 
                    "data": {
                        "text/plain": "  Neighbourhood  Neighbourhood Latitude  Neighbourhood Longitude  \\\n0          Rome               41.975682                12.772626   \n1          Rome               41.975682                12.772626   \n2          Rome               41.975682                12.772626   \n3          Rome               41.975682                12.772626   \n4        Latina               41.975682                12.772626   \n\n                           Venue  Venue Latitude  Venue Longitude  \\\n0               Carrefour Market       41.967858        12.757551   \n1     Pizzeria da nonna Concetta       41.986271        12.766311   \n2  Park Hotel Imperatore Adriano       41.962601        12.761033   \n3               piazza villanova       41.963789        12.755968   \n4               Carrefour Market       41.967858        12.757551   \n\n  Venue Category  \n0    Supermarket  \n1    Pizza Place  \n2          Hotel  \n3          Plaza  \n4    Supermarket  ", 
                        "text/html": "<div>\n<style scoped>\n    .dataframe tbody tr th:only-of-type {\n        vertical-align: middle;\n    }\n\n    .dataframe tbody tr th {\n        vertical-align: top;\n    }\n\n    .dataframe thead th {\n        text-align: right;\n    }\n</style>\n<table border=\"1\" class=\"dataframe\">\n  <thead>\n    <tr style=\"text-align: right;\">\n      <th></th>\n      <th>Neighbourhood</th>\n      <th>Neighbourhood Latitude</th>\n      <th>Neighbourhood Longitude</th>\n      <th>Venue</th>\n      <th>Venue Latitude</th>\n      <th>Venue Longitude</th>\n      <th>Venue Category</th>\n    </tr>\n  </thead>\n  <tbody>\n    <tr>\n      <th>0</th>\n      <td>Rome</td>\n      <td>41.975682</td>\n      <td>12.772626</td>\n      <td>Carrefour Market</td>\n      <td>41.967858</td>\n      <td>12.757551</td>\n      <td>Supermarket</td>\n    </tr>\n    <tr>\n      <th>1</th>\n      <td>Rome</td>\n      <td>41.975682</td>\n      <td>12.772626</td>\n      <td>Pizzeria da nonna Concetta</td>\n      <td>41.986271</td>\n      <td>12.766311</td>\n      <td>Pizza Place</td>\n    </tr>\n    <tr>\n      <th>2</th>\n      <td>Rome</td>\n      <td>41.975682</td>\n      <td>12.772626</td>\n      <td>Park Hotel Imperatore Adriano</td>\n      <td>41.962601</td>\n      <td>12.761033</td>\n      <td>Hotel</td>\n    </tr>\n    <tr>\n      <th>3</th>\n      <td>Rome</td>\n      <td>41.975682</td>\n      <td>12.772626</td>\n      <td>piazza villanova</td>\n      <td>41.963789</td>\n      <td>12.755968</td>\n      <td>Plaza</td>\n    </tr>\n    <tr>\n      <th>4</th>\n      <td>Latina</td>\n      <td>41.975682</td>\n      <td>12.772626</td>\n      <td>Carrefour Market</td>\n      <td>41.967858</td>\n      <td>12.757551</td>\n      <td>Supermarket</td>\n    </tr>\n  </tbody>\n</table>\n</div>"
                    }, 
                    "execution_count": 258, 
                    "metadata": {}
                }
            ], 
            "execution_count": 258
        }, 
        {
            "source": "La_venues.groupby('Neighbourhood').count()", 
            "cell_type": "code", 
            "metadata": {}, 
            "outputs": [
                {
                    "output_type": "execute_result", 
                    "data": {
                        "text/plain": "                     Neighbourhood Latitude  Neighbourhood Longitude  Venue  \\\nNeighbourhood                                                                 \nAnzio                                     4                        4      4   \nAprilia                                   4                        4      4   \nCivitavecchia                             4                        4      4   \nFiumicino                                 4                        4      4   \nGuidonia Montecelio                       4                        4      4   \nLatina                                    4                        4      4   \nPomezia                                   4                        4      4   \nRome                                      4                        4      4   \nTivoli                                    4                        4      4   \nVelletri                                  4                        4      4   \nViterbo                                   4                        4      4   \n\n                     Venue Latitude  Venue Longitude  Venue Category  \nNeighbourhood                                                         \nAnzio                             4                4               4  \nAprilia                           4                4               4  \nCivitavecchia                     4                4               4  \nFiumicino                         4                4               4  \nGuidonia Montecelio               4                4               4  \nLatina                            4                4               4  \nPomezia                           4                4               4  \nRome                              4                4               4  \nTivoli                            4                4               4  \nVelletri                          4                4               4  \nViterbo                           4                4               4  ", 
                        "text/html": "<div>\n<style scoped>\n    .dataframe tbody tr th:only-of-type {\n        vertical-align: middle;\n    }\n\n    .dataframe tbody tr th {\n        vertical-align: top;\n    }\n\n    .dataframe thead th {\n        text-align: right;\n    }\n</style>\n<table border=\"1\" class=\"dataframe\">\n  <thead>\n    <tr style=\"text-align: right;\">\n      <th></th>\n      <th>Neighbourhood Latitude</th>\n      <th>Neighbourhood Longitude</th>\n      <th>Venue</th>\n      <th>Venue Latitude</th>\n      <th>Venue Longitude</th>\n      <th>Venue Category</th>\n    </tr>\n    <tr>\n      <th>Neighbourhood</th>\n      <th></th>\n      <th></th>\n      <th></th>\n      <th></th>\n      <th></th>\n      <th></th>\n    </tr>\n  </thead>\n  <tbody>\n    <tr>\n      <th>Anzio</th>\n      <td>4</td>\n      <td>4</td>\n      <td>4</td>\n      <td>4</td>\n      <td>4</td>\n      <td>4</td>\n    </tr>\n    <tr>\n      <th>Aprilia</th>\n      <td>4</td>\n      <td>4</td>\n      <td>4</td>\n      <td>4</td>\n      <td>4</td>\n      <td>4</td>\n    </tr>\n    <tr>\n      <th>Civitavecchia</th>\n      <td>4</td>\n      <td>4</td>\n      <td>4</td>\n      <td>4</td>\n      <td>4</td>\n      <td>4</td>\n    </tr>\n    <tr>\n      <th>Fiumicino</th>\n      <td>4</td>\n      <td>4</td>\n      <td>4</td>\n      <td>4</td>\n      <td>4</td>\n      <td>4</td>\n    </tr>\n    <tr>\n      <th>Guidonia Montecelio</th>\n      <td>4</td>\n      <td>4</td>\n      <td>4</td>\n      <td>4</td>\n      <td>4</td>\n      <td>4</td>\n    </tr>\n    <tr>\n      <th>Latina</th>\n      <td>4</td>\n      <td>4</td>\n      <td>4</td>\n      <td>4</td>\n      <td>4</td>\n      <td>4</td>\n    </tr>\n    <tr>\n      <th>Pomezia</th>\n      <td>4</td>\n      <td>4</td>\n      <td>4</td>\n      <td>4</td>\n      <td>4</td>\n      <td>4</td>\n    </tr>\n    <tr>\n      <th>Rome</th>\n      <td>4</td>\n      <td>4</td>\n      <td>4</td>\n      <td>4</td>\n      <td>4</td>\n      <td>4</td>\n    </tr>\n    <tr>\n      <th>Tivoli</th>\n      <td>4</td>\n      <td>4</td>\n      <td>4</td>\n      <td>4</td>\n      <td>4</td>\n      <td>4</td>\n    </tr>\n    <tr>\n      <th>Velletri</th>\n      <td>4</td>\n      <td>4</td>\n      <td>4</td>\n      <td>4</td>\n      <td>4</td>\n      <td>4</td>\n    </tr>\n    <tr>\n      <th>Viterbo</th>\n      <td>4</td>\n      <td>4</td>\n      <td>4</td>\n      <td>4</td>\n      <td>4</td>\n      <td>4</td>\n    </tr>\n  </tbody>\n</table>\n</div>"
                    }, 
                    "execution_count": 259, 
                    "metadata": {}
                }
            ], 
            "execution_count": 259
        }, 
        {
            "source": "The next step is to check how many unique categories can be returned for the venues. See as follows:", 
            "cell_type": "markdown", 
            "metadata": {}
        }, 
        {
            "source": "print('There are {} uniques categories.'.format(len(La_venues['Venue Category'].unique())))", 
            "cell_type": "code", 
            "metadata": {}, 
            "outputs": [
                {
                    "output_type": "stream", 
                    "name": "stdout", 
                    "text": "There are 4 uniques categories.\n"
                }
            ], 
            "execution_count": 261
        }, 
        {
            "source": "La_venue_unique_count = La_venues['Venue Category'].value_counts().to_frame(name='Count')", 
            "cell_type": "code", 
            "metadata": {}, 
            "outputs": [], 
            "execution_count": 262
        }, 
        {
            "source": "La_venue_unique_count.head(5)", 
            "cell_type": "code", 
            "metadata": {}, 
            "outputs": [
                {
                    "output_type": "execute_result", 
                    "data": {
                        "text/plain": "             Count\nPizza Place     11\nPlaza           11\nHotel           11\nSupermarket     11", 
                        "text/html": "<div>\n<style scoped>\n    .dataframe tbody tr th:only-of-type {\n        vertical-align: middle;\n    }\n\n    .dataframe tbody tr th {\n        vertical-align: top;\n    }\n\n    .dataframe thead th {\n        text-align: right;\n    }\n</style>\n<table border=\"1\" class=\"dataframe\">\n  <thead>\n    <tr style=\"text-align: right;\">\n      <th></th>\n      <th>Count</th>\n    </tr>\n  </thead>\n  <tbody>\n    <tr>\n      <th>Pizza Place</th>\n      <td>11</td>\n    </tr>\n    <tr>\n      <th>Plaza</th>\n      <td>11</td>\n    </tr>\n    <tr>\n      <th>Hotel</th>\n      <td>11</td>\n    </tr>\n    <tr>\n      <th>Supermarket</th>\n      <td>11</td>\n    </tr>\n  </tbody>\n</table>\n</div>"
                    }, 
                    "execution_count": 263, 
                    "metadata": {}
                }
            ], 
            "execution_count": 263
        }, 
        {
            "source": "La_venue_unique_count.describe()", 
            "cell_type": "code", 
            "metadata": {}, 
            "outputs": [
                {
                    "output_type": "execute_result", 
                    "data": {
                        "text/plain": "       Count\ncount    4.0\nmean    11.0\nstd      0.0\nmin     11.0\n25%     11.0\n50%     11.0\n75%     11.0\nmax     11.0", 
                        "text/html": "<div>\n<style scoped>\n    .dataframe tbody tr th:only-of-type {\n        vertical-align: middle;\n    }\n\n    .dataframe tbody tr th {\n        vertical-align: top;\n    }\n\n    .dataframe thead th {\n        text-align: right;\n    }\n</style>\n<table border=\"1\" class=\"dataframe\">\n  <thead>\n    <tr style=\"text-align: right;\">\n      <th></th>\n      <th>Count</th>\n    </tr>\n  </thead>\n  <tbody>\n    <tr>\n      <th>count</th>\n      <td>4.0</td>\n    </tr>\n    <tr>\n      <th>mean</th>\n      <td>11.0</td>\n    </tr>\n    <tr>\n      <th>std</th>\n      <td>0.0</td>\n    </tr>\n    <tr>\n      <th>min</th>\n      <td>11.0</td>\n    </tr>\n    <tr>\n      <th>25%</th>\n      <td>11.0</td>\n    </tr>\n    <tr>\n      <th>50%</th>\n      <td>11.0</td>\n    </tr>\n    <tr>\n      <th>75%</th>\n      <td>11.0</td>\n    </tr>\n    <tr>\n      <th>max</th>\n      <td>11.0</td>\n    </tr>\n  </tbody>\n</table>\n</div>"
                    }, 
                    "execution_count": 264, 
                    "metadata": {}
                }
            ], 
            "execution_count": 264
        }, 
        {
            "source": "### 3.2 Clustering ", 
            "cell_type": "markdown", 
            "metadata": {}
        }, 
        {
            "source": " clustered based on the processed data obtained above.", 
            "cell_type": "markdown", 
            "metadata": {}
        }, 
        {
            "source": "#### 3.2.1 Libraries", 
            "cell_type": "markdown", 
            "metadata": {}
        }, 
        {
            "source": "All the necessary libraries have been called in the libraries section above.", 
            "cell_type": "markdown", 
            "metadata": {}
        }, 
        {
            "source": "#### 3.2.2 Map Visualization", 
            "cell_type": "markdown", 
            "metadata": {}
        }, 
        {
            "source": "address = 'Lazio, Italy'\n\ngeolocator = Nominatim(user_agent=\"ln_explorer\")\nlocation = geolocator.geocode(address)\nlatitude = location.latitude\nlongitude = location.longitude\nprint('The geograpical coordinate of London are {}, {}.'.format(latitude, longitude))", 
            "cell_type": "code", 
            "metadata": {}, 
            "outputs": [
                {
                    "output_type": "error", 
                    "evalue": "name 'Nominatim' is not defined", 
                    "traceback": [
                        "\u001b[0;31m---------------------------------------------------------------------------\u001b[0m", 
                        "\u001b[0;31mNameError\u001b[0m                                 Traceback (most recent call last)", 
                        "\u001b[0;32m<ipython-input-4-ef925b0bfb92>\u001b[0m in \u001b[0;36m<module>\u001b[0;34m()\u001b[0m\n\u001b[1;32m      1\u001b[0m \u001b[0maddress\u001b[0m \u001b[0;34m=\u001b[0m \u001b[0;34m'Lazio, Italy'\u001b[0m\u001b[0;34m\u001b[0m\u001b[0m\n\u001b[1;32m      2\u001b[0m \u001b[0;34m\u001b[0m\u001b[0m\n\u001b[0;32m----> 3\u001b[0;31m \u001b[0mgeolocator\u001b[0m \u001b[0;34m=\u001b[0m \u001b[0mNominatim\u001b[0m\u001b[0;34m(\u001b[0m\u001b[0muser_agent\u001b[0m\u001b[0;34m=\u001b[0m\u001b[0;34m\"ln_explorer\"\u001b[0m\u001b[0;34m)\u001b[0m\u001b[0;34m\u001b[0m\u001b[0m\n\u001b[0m\u001b[1;32m      4\u001b[0m \u001b[0mlocation\u001b[0m \u001b[0;34m=\u001b[0m \u001b[0mgeolocator\u001b[0m\u001b[0;34m.\u001b[0m\u001b[0mgeocode\u001b[0m\u001b[0;34m(\u001b[0m\u001b[0maddress\u001b[0m\u001b[0;34m)\u001b[0m\u001b[0;34m\u001b[0m\u001b[0m\n\u001b[1;32m      5\u001b[0m \u001b[0mlatitude\u001b[0m \u001b[0;34m=\u001b[0m \u001b[0mlocation\u001b[0m\u001b[0;34m.\u001b[0m\u001b[0mlatitude\u001b[0m\u001b[0;34m\u001b[0m\u001b[0m\n", 
                        "\u001b[0;31mNameError\u001b[0m: name 'Nominatim' is not defined"
                    ], 
                    "ename": "NameError"
                }
            ], 
            "execution_count": 4
        }, 
        {
            "source": "", 
            "cell_type": "code", 
            "metadata": {}, 
            "outputs": [], 
            "execution_count": null
        }
    ], 
    "metadata": {
        "kernelspec": {
            "display_name": "Python 3.5", 
            "name": "python3", 
            "language": "python"
        }, 
        "language_info": {
            "mimetype": "text/x-python", 
            "nbconvert_exporter": "python", 
            "version": "3.5.5", 
            "name": "python", 
            "pygments_lexer": "ipython3", 
            "file_extension": ".py", 
            "codemirror_mode": {
                "version": 3, 
                "name": "ipython"
            }
        }
    }, 
    "nbformat": 4
}