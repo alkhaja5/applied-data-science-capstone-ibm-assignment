{
    "nbformat_minor": 1, 
    "cells": [
        {
            "source": "# Battle of Neighbourhoods - Week 1", 
            "cell_type": "markdown", 
            "metadata": {
                "collapsed": true
            }
        }, 
        {
            "source": "\n\n\n\n\n\n# Part 1 - A description of the problem and a discussion of the background", 
            "cell_type": "markdown", 
            "metadata": {}
        }, 
        {
            "source": "> ### 1.1 Description of the Problem", 
            "cell_type": "markdown", 
            "metadata": {}
        }, 
        {
            "source": "The population of Dubai has grown considerably over the last decades. Dubai is very diverse. It called Pearl of the Gulf. In Dubai, you can get variety of fresh food from supplies from Italy.\n \nThere are many fine restaurants in Dubai \u2013 Asian, Middle Eastern, Latin and American restaurants, it is hard to find a good place to dine in.\n", 
            "cell_type": "markdown", 
            "metadata": {}
        }, 
        {
            "source": "> ### 1.2 Discussion of the Background", 
            "cell_type": "markdown", 
            "metadata": {}
        }, 
        {
            "source": "My client is a successful restaurant chain in Napoli; he is looking to expand operation into Middle East starting in Emirates. His target is luxury restaurant\nSince the Emirates demography has many Emirates, my client needs deeper insight from available data in other to decide where to establish first. This company spends a lot on research and provides customers with data insight into the ingredients used at restaurants.\n", 
            "cell_type": "markdown", 
            "metadata": {}
        }, 
        {
            "source": "# Part 2 - A description of the data and how it will be used to solve the problem", 
            "cell_type": "markdown", 
            "metadata": {}
        }, 
        {
            "source": "> ### 2.1 Description of Data", 
            "cell_type": "markdown", 
            "metadata": {}
        }, 
        {
            "source": "\nData will be from public data, Wikipedia and Foursquare.", 
            "cell_type": "markdown", 
            "metadata": {}
        }, 
        {
            "source": "Emirates Area consists of 7 Emirates which has some specific popular areas < https://en.wikipedia.org/wiki/List_of_cities_in_the_United_Arab_Emirates >", 
            "cell_type": "markdown", 
            "metadata": {}
        }, 
        {
            "source": "#### A sample of the web scrapped of the Wikipedia page ", 
            "cell_type": "markdown", 
            "metadata": {}
        }, 
        {
            "source": "import requests\nimport pandas as pd\nfrom bs4 import BeautifulSoup", 
            "cell_type": "code", 
            "metadata": {}, 
            "outputs": [], 
            "execution_count": 3
        }, 
        {
            "source": "wikipedia_link = 'https://en.wikipedia.org/wiki/List_of_cities_in_Italy'\nheaders = {'User-Agent': 'Mozilla/5.0 (Windows NT 10.0; Win64; x64; rv:64.0) Gecko/20100101 Firefox/64.0'}\nwikipedia_page = requests.get(wikipedia_link, headers = headers)\nwikipedia_page", 
            "cell_type": "code", 
            "metadata": {}, 
            "outputs": [
                {
                    "output_type": "execute_result", 
                    "data": {
                        "text/plain": "<Response [200]>"
                    }, 
                    "execution_count": 60, 
                    "metadata": {}
                }
            ], 
            "execution_count": 60
        }, 
        {
            "source": "soup = BeautifulSoup(wikipedia_page.content, 'html.parser')\ntable = soup.find('table', {'class':'wikitable sortable'}).tbody\nrows = table.find_all('tr')\ncolumns = [i.text.replace('\\n', '')\n           for i in rows[0].find_all('th')]\ndf = pd.DataFrame(columns = columns)", 
            "cell_type": "code", 
            "metadata": {}, 
            "outputs": [], 
            "execution_count": 61
        }, 
        {
            "source": "for i in range(1, len(rows)):\n    tds = rows[i].find_all('td')\n    \n    \n    if len(tds) == 7:\n        values = [tds[0].text, tds[1].text, tds[2].text.replace('\\n', ''.replace('\\xa0','')), tds[3].text, tds[4].text.replace('\\n', ''.replace('\\xa0','')), tds[5].text.replace('\\n', ''.replace('\\xa0','')), tds[6].text.replace('\\n', ''.replace('\\xa0',''))]\n    else:\n        values = [td.text.replace('\\n', '').replace('\\xa0','') for td in tds]\n        \n        df = df.append(pd.Series(values, index = columns), ignore_index = True)\n\n        df", 
            "cell_type": "code", 
            "metadata": {}, 
            "outputs": [], 
            "execution_count": 62
        }, 
        {
            "source": "     df.head()", 
            "cell_type": "code", 
            "metadata": {}, 
            "outputs": [
                {
                    "output_type": "execute_result", 
                    "data": {
                        "text/html": "<div>\n<style scoped>\n    .dataframe tbody tr th:only-of-type {\n        vertical-align: middle;\n    }\n\n    .dataframe tbody tr th {\n        vertical-align: top;\n    }\n\n    .dataframe thead th {\n        text-align: right;\n    }\n</style>\n<table border=\"1\" class=\"dataframe\">\n  <thead>\n    <tr style=\"text-align: right;\">\n      <th></th>\n      <th>Rank</th>\n      <th>City</th>\n      <th>2011 Census</th>\n      <th>2017 Estimate</th>\n      <th>Change</th>\n      <th>Region</th>\n    </tr>\n  </thead>\n  <tbody>\n    <tr>\n      <th>0</th>\n      <td>1</td>\n      <td>Rome</td>\n      <td>2,617,175</td>\n      <td>2,872,800</td>\n      <td>+9.77%</td>\n      <td>Lazio</td>\n    </tr>\n    <tr>\n      <th>1</th>\n      <td>2</td>\n      <td>Milan</td>\n      <td>1,242,123</td>\n      <td>1,366,180</td>\n      <td>+9.99%</td>\n      <td>Lombardy</td>\n    </tr>\n    <tr>\n      <th>2</th>\n      <td>3</td>\n      <td>Naples</td>\n      <td>962,003</td>\n      <td>966,144</td>\n      <td>+0.43%</td>\n      <td>Campania</td>\n    </tr>\n    <tr>\n      <th>3</th>\n      <td>4</td>\n      <td>Turin</td>\n      <td>872,367</td>\n      <td>882,523</td>\n      <td>+1.16%</td>\n      <td>Piedmont</td>\n    </tr>\n    <tr>\n      <th>4</th>\n      <td>5</td>\n      <td>Palermo</td>\n      <td>657,651</td>\n      <td>668,405</td>\n      <td>+1.64%</td>\n      <td>Sicily</td>\n    </tr>\n  </tbody>\n</table>\n</div>", 
                        "text/plain": "  Rank     City 2011 Census 2017 Estimate  Change    Region\n0    1     Rome   2,617,175     2,872,800  +9.77%     Lazio\n1    2    Milan   1,242,123     1,366,180  +9.99%  Lombardy\n2    3   Naples     962,003       966,144  +0.43%  Campania\n3    4    Turin     872,367       882,523  +1.16%  Piedmont\n4    5  Palermo     657,651       668,405  +1.64%    Sicily"
                    }, 
                    "execution_count": 63, 
                    "metadata": {}
                }
            ], 
            "execution_count": 63
        }, 
        {
            "source": "df['City'] = df['City'].map(lambda x: x.rstrip(']').rstrip('0123456789').rstrip('['))", 
            "cell_type": "code", 
            "metadata": {}, 
            "outputs": [], 
            "execution_count": 50
        }, 
        {
            "source": "df0 = df.drop('City', axis=1).join(df['City'].str.split(',', expand=True).stack().reset_index(level=1, drop=True).rename('City'))", 
            "cell_type": "code", 
            "metadata": {}, 
            "outputs": [], 
            "execution_count": 64
        }, 
        {
            "source": "df1 = df0[['Rank', 'City', 'Region']].reset_index(drop=True)", 
            "cell_type": "code", 
            "metadata": {}, 
            "outputs": [], 
            "execution_count": 65
        }, 
        {
            "source": "df1.head()", 
            "cell_type": "code", 
            "metadata": {}, 
            "outputs": [
                {
                    "output_type": "execute_result", 
                    "data": {
                        "text/html": "<div>\n<style scoped>\n    .dataframe tbody tr th:only-of-type {\n        vertical-align: middle;\n    }\n\n    .dataframe tbody tr th {\n        vertical-align: top;\n    }\n\n    .dataframe thead th {\n        text-align: right;\n    }\n</style>\n<table border=\"1\" class=\"dataframe\">\n  <thead>\n    <tr style=\"text-align: right;\">\n      <th></th>\n      <th>Rank</th>\n      <th>City</th>\n      <th>Region</th>\n    </tr>\n  </thead>\n  <tbody>\n    <tr>\n      <th>0</th>\n      <td>1</td>\n      <td>Rome</td>\n      <td>Lazio</td>\n    </tr>\n    <tr>\n      <th>1</th>\n      <td>2</td>\n      <td>Milan</td>\n      <td>Lombardy</td>\n    </tr>\n    <tr>\n      <th>2</th>\n      <td>3</td>\n      <td>Naples</td>\n      <td>Campania</td>\n    </tr>\n    <tr>\n      <th>3</th>\n      <td>4</td>\n      <td>Turin</td>\n      <td>Piedmont</td>\n    </tr>\n    <tr>\n      <th>4</th>\n      <td>5</td>\n      <td>Palermo</td>\n      <td>Sicily</td>\n    </tr>\n  </tbody>\n</table>\n</div>", 
                        "text/plain": "  Rank     City    Region\n0    1     Rome     Lazio\n1    2    Milan  Lombardy\n2    3   Naples  Campania\n3    4    Turin  Piedmont\n4    5  Palermo    Sicily"
                    }, 
                    "execution_count": 67, 
                    "metadata": {}
                }
            ], 
            "execution_count": 67
        }, 
        {
            "source": "df2 = df1", 
            "cell_type": "code", 
            "metadata": {}, 
            "outputs": [], 
            "execution_count": 68
        }, 
        {
            "source": "df21 = df2[df2['Region'].str.contains('Lazio')]", 
            "cell_type": "code", 
            "metadata": {}, 
            "outputs": [], 
            "execution_count": 71
        }, 
        {
            "source": "df21.head(10)", 
            "cell_type": "code", 
            "metadata": {}, 
            "outputs": [
                {
                    "output_type": "execute_result", 
                    "data": {
                        "text/html": "<div>\n<style scoped>\n    .dataframe tbody tr th:only-of-type {\n        vertical-align: middle;\n    }\n\n    .dataframe tbody tr th {\n        vertical-align: top;\n    }\n\n    .dataframe thead th {\n        text-align: right;\n    }\n</style>\n<table border=\"1\" class=\"dataframe\">\n  <thead>\n    <tr style=\"text-align: right;\">\n      <th></th>\n      <th>Rank</th>\n      <th>City</th>\n      <th>Region</th>\n    </tr>\n  </thead>\n  <tbody>\n    <tr>\n      <th>0</th>\n      <td>1</td>\n      <td>Rome</td>\n      <td>Lazio</td>\n    </tr>\n    <tr>\n      <th>31</th>\n      <td>32</td>\n      <td>Latina</td>\n      <td>Lazio</td>\n    </tr>\n    <tr>\n      <th>57</th>\n      <td>58</td>\n      <td>Guidonia Montecelio</td>\n      <td>Lazio</td>\n    </tr>\n    <tr>\n      <th>69</th>\n      <td>70</td>\n      <td>Fiumicino</td>\n      <td>Lazio</td>\n    </tr>\n    <tr>\n      <th>75</th>\n      <td>76</td>\n      <td>Aprilia</td>\n      <td>Lazio</td>\n    </tr>\n    <tr>\n      <th>87</th>\n      <td>88</td>\n      <td>Viterbo</td>\n      <td>Lazio</td>\n    </tr>\n    <tr>\n      <th>94</th>\n      <td>95</td>\n      <td>Pomezia</td>\n      <td>Lazio</td>\n    </tr>\n    <tr>\n      <th>114</th>\n      <td>115</td>\n      <td>Tivoli</td>\n      <td>Lazio</td>\n    </tr>\n    <tr>\n      <th>120</th>\n      <td>121</td>\n      <td>Anzio</td>\n      <td>Lazio</td>\n    </tr>\n    <tr>\n      <th>129</th>\n      <td>130</td>\n      <td>Velletri</td>\n      <td>Lazio</td>\n    </tr>\n  </tbody>\n</table>\n</div>", 
                        "text/plain": "    Rank                 City Region\n0      1                 Rome  Lazio\n31    32               Latina  Lazio\n57    58  Guidonia Montecelio  Lazio\n69    70            Fiumicino  Lazio\n75    76              Aprilia  Lazio\n87    88              Viterbo  Lazio\n94    95              Pomezia  Lazio\n114  115               Tivoli  Lazio\n120  121                Anzio  Lazio\n129  130             Velletri  Lazio"
                    }, 
                    "execution_count": 72, 
                    "metadata": {}
                }
            ], 
            "execution_count": 72
        }, 
        {
            "source": "df3 = df21[['Rank', 'City', 'Region']].reset_index(drop=True)", 
            "cell_type": "code", 
            "metadata": {}, 
            "outputs": [], 
            "execution_count": 73
        }, 
        {
            "source": "df_Lazio = df3", 
            "cell_type": "code", 
            "metadata": {}, 
            "outputs": [], 
            "execution_count": 75
        }, 
        {
            "source": "!pip -q install geocoder\nimport geocoder", 
            "cell_type": "code", 
            "metadata": {}, 
            "outputs": [], 
            "execution_count": 76
        }, 
        {
            "source": "'''Geocoder starts here'''\n'''Defining a function to use --> get_latlng()'''\ndef get_latlng(arcgis_geocoder):\n    \n   \n    lat_lng_coords = None\n    \n   \n    \n    while(lat_lng_coords is None):\n        g = geocoder.arcgis('{}, Lazio, Italy'.format(arcgis_geocoder))\n        lat_lng_coords = g.latlng\n    return lat_lng_coords\n'''Geocoder ends here'''", 
            "cell_type": "code", 
            "metadata": {}, 
            "outputs": [
                {
                    "output_type": "execute_result", 
                    "data": {
                        "text/plain": "'Geocoder ends here'"
                    }, 
                    "execution_count": 77, 
                    "metadata": {}
                }
            ], 
            "execution_count": 77
        }, 
        {
            "source": "City_codes = df['City']    \ncoordinates = [get_latlng(City_code) for City_code in City_codes.tolist()]", 
            "cell_type": "code", 
            "metadata": {}, 
            "outputs": [], 
            "execution_count": 81
        }, 
        {
            "source": "df_Lazio_loc = df_Lazio\n\ndf_Lazio_coordinates = pd.DataFrame(coordinates, columns = ['Latitude', 'Longitude'])\ndf_Lazio_loc['Latitude'] = df_Lazio_coordinates['Latitude']\ndf_Lazio_loc['Longitude'] = df_Lazio_coordinates['Longitude']", 
            "cell_type": "code", 
            "metadata": {}, 
            "outputs": [], 
            "execution_count": 82
        }, 
        {
            "source": "df_Lazio_loc.head()", 
            "cell_type": "code", 
            "metadata": {}, 
            "outputs": [
                {
                    "output_type": "execute_result", 
                    "data": {
                        "text/html": "<div>\n<style scoped>\n    .dataframe tbody tr th:only-of-type {\n        vertical-align: middle;\n    }\n\n    .dataframe tbody tr th {\n        vertical-align: top;\n    }\n\n    .dataframe thead th {\n        text-align: right;\n    }\n</style>\n<table border=\"1\" class=\"dataframe\">\n  <thead>\n    <tr style=\"text-align: right;\">\n      <th></th>\n      <th>Rank</th>\n      <th>City</th>\n      <th>Region</th>\n      <th>Latitude</th>\n      <th>Longitude</th>\n    </tr>\n  </thead>\n  <tbody>\n    <tr>\n      <th>0</th>\n      <td>1</td>\n      <td>Rome</td>\n      <td>Lazio</td>\n      <td>41.903220</td>\n      <td>12.495650</td>\n    </tr>\n    <tr>\n      <th>1</th>\n      <td>32</td>\n      <td>Latina</td>\n      <td>Lazio</td>\n      <td>41.491160</td>\n      <td>13.830130</td>\n    </tr>\n    <tr>\n      <th>2</th>\n      <td>58</td>\n      <td>Guidonia Montecelio</td>\n      <td>Lazio</td>\n      <td>40.776345</td>\n      <td>14.395212</td>\n    </tr>\n    <tr>\n      <th>3</th>\n      <td>70</td>\n      <td>Fiumicino</td>\n      <td>Lazio</td>\n      <td>45.001990</td>\n      <td>7.549558</td>\n    </tr>\n    <tr>\n      <th>4</th>\n      <td>76</td>\n      <td>Aprilia</td>\n      <td>Lazio</td>\n      <td>37.972820</td>\n      <td>13.186320</td>\n    </tr>\n  </tbody>\n</table>\n</div>", 
                        "text/plain": "  Rank                 City Region   Latitude  Longitude\n0    1                 Rome  Lazio  41.903220  12.495650\n1   32               Latina  Lazio  41.491160  13.830130\n2   58  Guidonia Montecelio  Lazio  40.776345  14.395212\n3   70            Fiumicino  Lazio  45.001990   7.549558\n4   76              Aprilia  Lazio  37.972820  13.186320"
                    }, 
                    "execution_count": 83, 
                    "metadata": {}
                }
            ], 
            "execution_count": 83
        }, 
        {
            "source": "*The data output df_Lazio_loc will be used for further analysis in week 2.*", 
            "cell_type": "markdown", 
            "metadata": {}
        }, 
        {
            "source": "### 2.1.2 Dataset 2:", 
            "cell_type": "markdown", 
            "metadata": {}
        }, 
        {
            "source": "The Foursquare API will be used to obtain the geographical location data, to explore Lazio Region", 
            "cell_type": "markdown", 
            "metadata": {}
        }, 
        {
            "source": "### 2.2 How data will be used to solve the problem", 
            "cell_type": "markdown", 
            "metadata": {}
        }, 
        {
            "source": "The data from the datasets 1 and 2 exploring by considering the venues within the neighbourhood of Lazio Region", 
            "cell_type": "markdown", 
            "metadata": {}
        }, 
        {
            "source": "", 
            "cell_type": "code", 
            "metadata": {}, 
            "outputs": [], 
            "execution_count": null
        }
    ], 
    "metadata": {
        "kernelspec": {
            "display_name": "Python 3.5", 
            "name": "python3", 
            "language": "python"
        }, 
        "language_info": {
            "mimetype": "text/x-python", 
            "nbconvert_exporter": "python", 
            "version": "3.5.5", 
            "name": "python", 
            "pygments_lexer": "ipython3", 
            "file_extension": ".py", 
            "codemirror_mode": {
                "version": 3, 
                "name": "ipython"
            }
        }
    }, 
    "nbformat": 4
}