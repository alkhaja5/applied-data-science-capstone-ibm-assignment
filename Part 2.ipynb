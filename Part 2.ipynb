{
    "nbformat_minor": 1, 
    "cells": [
        {
            "source": "# Battle of Neighbourhoods - Week 1\n", 
            "cell_type": "markdown", 
            "metadata": {
                "collapsed": true
            }
        }, 
        {
            "source": "### 1.1 Description of the Problem", 
            "cell_type": "markdown", 
            "metadata": {}
        }, 
        {
            "source": "The population of Italy has grown considerably over the last decades. Dubai is very diverse. In Africa you can get variety of fresh food from supplies from Africa.\n\nThere are many fine restaurants in Africa \u2013 Asian, Middle Eastern, Latin and American restaurants, it is hard to find a good place to dine in.", 
            "cell_type": "markdown", 
            "metadata": {}
        }, 
        {
            "source": "### 1.2 Discussion of the Background", 
            "cell_type": "markdown", 
            "metadata": {}
        }, 
        {
            "source": "My client is a successful restaurant chain in Ghana; he is looking to expand operation into EUROP starting in Italy. His target is luxury restaurant Since Italy demography has many Regions, My client needs deeper insight from available data in other to decide where to establish first. This company spends a lot on research and provides customers with data insight into the ingredients used at restaurants.", 
            "cell_type": "markdown", 
            "metadata": {}
        }, 
        {
            "source": "# Part 2 - A description of the data and how it will be used to solve the problem", 
            "cell_type": "markdown", 
            "metadata": {}
        }, 
        {
            "source": "### 2.1 Description of Data", 
            "cell_type": "markdown", 
            "metadata": {}
        }, 
        {
            "source": "Data will be from public data, Wikipedia and Foursquare.\n\nItaly Area consists of many regions which has some specific popular areas < https://en.wikipedia.org/wiki/List_of_cities_in_Italy >", 
            "cell_type": "markdown", 
            "metadata": {}
        }, 
        {
            "source": "### 2.1.2 Dataset 2", 
            "cell_type": "markdown", 
            "metadata": {}
        }, 
        {
            "source": "The Foursquare API will be used to obtain the geographical location data, to explore Lazio Region", 
            "cell_type": "markdown", 
            "metadata": {}
        }, 
        {
            "source": "### 2.2 How data will be used to solve the problem", 
            "cell_type": "markdown", 
            "metadata": {}
        }, 
        {
            "source": "The data from the datasets 1 and 2 exploring by considering the venues within the neighbourhood of Lazio Region", 
            "cell_type": "markdown", 
            "metadata": {}
        }, 
        {
            "source": "", 
            "cell_type": "code", 
            "metadata": {}, 
            "outputs": [], 
            "execution_count": null
        }
    ], 
    "metadata": {
        "kernelspec": {
            "display_name": "Python 3.5", 
            "name": "python3", 
            "language": "python"
        }, 
        "language_info": {
            "mimetype": "text/x-python", 
            "nbconvert_exporter": "python", 
            "version": "3.5.5", 
            "name": "python", 
            "file_extension": ".py", 
            "pygments_lexer": "ipython3", 
            "codemirror_mode": {
                "version": 3, 
                "name": "ipython"
            }
        }
    }, 
    "nbformat": 4
}